{
 "cells": [
  {
   "cell_type": "code",
   "execution_count": 1,
   "metadata": {
    "ExecuteTime": {
     "end_time": "2024-07-28T15:44:02.729829Z",
     "start_time": "2024-07-28T15:43:59.944589Z"
    }
   },
   "outputs": [],
   "source": [
    "# Reference: https://lifewithdata.com/2022/08/29/how-to-create-a-sankey-diagram-in-plotly-python/\n",
    "\n",
    "import pandas as pd\n",
    "import requests\n",
    "import plotly.graph_objects as go\n",
    "import duckdb\n",
    "import plotly.io as pio\n",
    "pio.renderers.default = \"nteract\"\n",
    "import plotly.express as px\n",
    "import matplotlib.colors\n",
    "\n",
    "df_ = pd.read_parquet('https://storage.data.gov.my/dashboards/prasarana_timeseries.parquet')\n",
    "\n",
    "\n"
   ]
  },
  {
   "cell_type": "code",
   "execution_count": 2,
   "metadata": {},
   "outputs": [],
   "source": [
    "# !pip install plotly matplotlib seaborn"
   ]
  },
  {
   "cell_type": "markdown",
   "metadata": {},
   "source": [
    "## Plotting Sankey"
   ]
  },
  {
   "cell_type": "code",
   "execution_count": 3,
   "metadata": {
    "ExecuteTime": {
     "end_time": "2024-07-28T15:44:14.547384Z",
     "start_time": "2024-07-28T15:44:14.478223Z"
    }
   },
   "outputs": [
    {
     "data": {
      "text/html": [
       "<div>\n",
       "<style scoped>\n",
       "    .dataframe tbody tr th:only-of-type {\n",
       "        vertical-align: middle;\n",
       "    }\n",
       "\n",
       "    .dataframe tbody tr th {\n",
       "        vertical-align: top;\n",
       "    }\n",
       "\n",
       "    .dataframe thead th {\n",
       "        text-align: right;\n",
       "    }\n",
       "</style>\n",
       "<table border=\"1\" class=\"dataframe\">\n",
       "  <thead>\n",
       "    <tr style=\"text-align: right;\">\n",
       "      <th></th>\n",
       "      <th>train_origin</th>\n",
       "      <th>train_destination</th>\n",
       "      <th>total_passengers</th>\n",
       "    </tr>\n",
       "  </thead>\n",
       "  <tbody>\n",
       "    <tr>\n",
       "      <th>0</th>\n",
       "      <td>AG01: Sentul Timur (Origin)</td>\n",
       "      <td>AG07: Masjid Jamek (Destination)</td>\n",
       "      <td>18130.0</td>\n",
       "    </tr>\n",
       "    <tr>\n",
       "      <th>1</th>\n",
       "      <td>AG01: Sentul Timur (Origin)</td>\n",
       "      <td>AG12: Miharja (Destination)</td>\n",
       "      <td>2710.0</td>\n",
       "    </tr>\n",
       "    <tr>\n",
       "      <th>2</th>\n",
       "      <td>AG01: Sentul Timur (Origin)</td>\n",
       "      <td>AG18: Ampang (Destination)</td>\n",
       "      <td>7323.0</td>\n",
       "    </tr>\n",
       "    <tr>\n",
       "      <th>3</th>\n",
       "      <td>AG01: Sentul Timur (Origin)</td>\n",
       "      <td>KG05: Kwasa Sentral (Destination)</td>\n",
       "      <td>1197.0</td>\n",
       "    </tr>\n",
       "    <tr>\n",
       "      <th>4</th>\n",
       "      <td>AG01: Sentul Timur (Origin)</td>\n",
       "      <td>KG23: Taman Pertama (Destination)</td>\n",
       "      <td>671.0</td>\n",
       "    </tr>\n",
       "  </tbody>\n",
       "</table>\n",
       "</div>"
      ],
      "text/plain": [
       "                  train_origin                  train_destination  \\\n",
       "0  AG01: Sentul Timur (Origin)   AG07: Masjid Jamek (Destination)   \n",
       "1  AG01: Sentul Timur (Origin)        AG12: Miharja (Destination)   \n",
       "2  AG01: Sentul Timur (Origin)         AG18: Ampang (Destination)   \n",
       "3  AG01: Sentul Timur (Origin)  KG05: Kwasa Sentral (Destination)   \n",
       "4  AG01: Sentul Timur (Origin)  KG23: Taman Pertama (Destination)   \n",
       "\n",
       "   total_passengers  \n",
       "0           18130.0  \n",
       "1            2710.0  \n",
       "2            7323.0  \n",
       "3            1197.0  \n",
       "4             671.0  "
      ]
     },
     "execution_count": 3,
     "metadata": {},
     "output_type": "execute_result"
    }
   ],
   "source": [
    "df1 = duckdb.sql(\"\"\"\n",
    "          SELECT\n",
    "           concat(origin, ' (Origin)') as train_origin, \n",
    "           concat(destination, ' (Destination)') as train_destination,\n",
    "           sum(passengers) as total_passengers\n",
    "          FROM df_\n",
    "          WHERE origin <> destination\n",
    "               AND origin not ilike '%all station%'\n",
    "               AND destination not ilike '%all station%'\n",
    "               AND frequency = 'monthly'\n",
    "          GROUP BY ALL\n",
    "\n",
    "\"\"\").df()\n",
    "\n",
    "df1.head()"
   ]
  },
  {
   "cell_type": "code",
   "execution_count": 4,
   "metadata": {
    "ExecuteTime": {
     "end_time": "2024-07-28T15:45:35.875551Z",
     "start_time": "2024-07-28T15:45:35.834602Z"
    }
   },
   "outputs": [],
   "source": [
    "df1 = duckdb.sql(\"\"\"\n",
    "           SELECT *\n",
    "           FROM df1\n",
    "           ORDER BY total_passengers desc\n",
    "           LIMIT 30\n",
    "           \n",
    "           \"\"\").df()"
   ]
  },
  {
   "cell_type": "code",
   "execution_count": 5,
   "metadata": {
    "ExecuteTime": {
     "end_time": "2024-07-28T15:46:10.904157Z",
     "start_time": "2024-07-28T15:46:10.873785Z"
    }
   },
   "outputs": [],
   "source": [
    "#for using with 'label' parameter in plotly \n",
    "#https://sparkbyexamples.com/pandas/pandas-find-unique-values-from-columns\n",
    "unique_source_target = list(pd.unique(df1[['train_origin', 'train_destination']].values.ravel('K')))\n",
    "\n",
    "link_opacity = 0.3  # Set a value from 0 to 1: the lower, the more transparent the links\n",
    "\n",
    "# Define a list of hex color codes for nodes\n",
    "node_colors = px.colors.qualitative.G10  \n",
    "\n",
    "# Convert list of colors to RGB format to override default gray link colors\n",
    "colors = [matplotlib.colors.to_rgb(i) for i in node_colors]  \n",
    "\n",
    "# Create objects to hold node/label and link colors\n",
    "label_colors, df1[\"link_c\"] = [], str(0)\n",
    "\n",
    "# Loop through all the labels to specify color and to use label indices\n",
    "c, max_colors = 0, len(colors)  # To loop through the colors array\n",
    "for l in range(len(unique_source_target)):\n",
    "    label_colors.append(colors[c])\n",
    "    link_color = colors[c] + (link_opacity,)  # Make link more transparent than the node\n",
    "    df1.loc[df1['train_origin'] == unique_source_target[l], \"link_c\"] = \"rgba\" + str(link_color)\n",
    "    # df1 = df1.replace({unique_source_target[l]: l})  # Replace node labels with the label's index\n",
    "    if c == max_colors - 1:\n",
    "        c = 0\n",
    "    else:\n",
    "        c += 1\n",
    "\n",
    "# Convert colors into RGB string format for Plotly\n",
    "label_colors = [\"rgb\" + str(i) for i in label_colors]\n",
    "\n",
    "#converting full dataframe as list for using with in plotly\n",
    "links_dict = df1.to_dict(orient='list')\n",
    "\n",
    "\n",
    "#for assigning unique number to each source and target\n",
    "mapping_dict = {k: v for v, k in enumerate(unique_source_target)}\n",
    "\n",
    "#mapping of full data\n",
    "df1['train_origin'] = df1['train_origin'].map(mapping_dict)\n",
    "df1['train_destination'] = df1['train_destination'].map(mapping_dict)\n",
    "\n",
    "\n",
    "links_dict = df1.to_dict(orient='list')"
   ]
  },
  {
   "cell_type": "code",
   "execution_count": 6,
   "metadata": {
    "ExecuteTime": {
     "end_time": "2024-07-28T15:46:15.304564Z",
     "start_time": "2024-07-28T15:46:15.261247Z"
    }
   },
   "outputs": [
    {
     "data": {
      "application/vnd.plotly.v1+json": {
       "config": {
        "plotlyServerURL": "https://plot.ly"
       },
       "data": [
        {
         "arrangement": "snap",
         "link": {
          "arrowlen": 15,
          "color": [
           "rgba(0.2, 0.4, 0.8, 0.3)",
           "rgba(0.8627450980392157, 0.2235294117647059, 0.07058823529411765, 0.3)",
           "rgba(0.8627450980392157, 0.2235294117647059, 0.07058823529411765, 0.3)",
           "rgba(1.0, 0.6, 0.0, 0.3)",
           "rgba(0.06274509803921569, 0.5882352941176471, 0.09411764705882353, 0.3)",
           "rgba(0.6, 0.0, 0.6, 0.3)",
           "rgba(0.0, 0.6, 0.7764705882352941, 0.3)",
           "rgba(0.8666666666666667, 0.26666666666666666, 0.4666666666666667, 0.3)",
           "rgba(1.0, 0.6, 0.0, 0.3)",
           "rgba(0.4, 0.6666666666666666, 0.0, 0.3)",
           "rgba(0.7215686274509804, 0.1803921568627451, 0.1803921568627451, 0.3)",
           "rgba(0.2, 0.4, 0.8, 0.3)",
           "rgba(0.19215686274509805, 0.38823529411764707, 0.5843137254901961, 0.3)",
           "rgba(0.8627450980392157, 0.2235294117647059, 0.07058823529411765, 0.3)",
           "rgba(0.06274509803921569, 0.5882352941176471, 0.09411764705882353, 0.3)",
           "rgba(0.2, 0.4, 0.8, 0.3)",
           "rgba(0.06274509803921569, 0.5882352941176471, 0.09411764705882353, 0.3)",
           "rgba(0.8627450980392157, 0.2235294117647059, 0.07058823529411765, 0.3)",
           "rgba(0.2, 0.4, 0.8, 0.3)",
           "rgba(0.4, 0.6666666666666666, 0.0, 0.3)",
           "rgba(0.19215686274509805, 0.38823529411764707, 0.5843137254901961, 0.3)",
           "rgba(1.0, 0.6, 0.0, 0.3)",
           "rgba(0.06274509803921569, 0.5882352941176471, 0.09411764705882353, 0.3)",
           "rgba(0.2, 0.4, 0.8, 0.3)",
           "rgba(0.2, 0.4, 0.8, 0.3)",
           "rgba(0.6, 0.0, 0.6, 0.3)",
           "rgba(0.0, 0.6, 0.7764705882352941, 0.3)",
           "rgba(0.8666666666666667, 0.26666666666666666, 0.4666666666666667, 0.3)",
           "rgba(0.8627450980392157, 0.2235294117647059, 0.07058823529411765, 0.3)",
           "rgba(0.8666666666666667, 0.26666666666666666, 0.4666666666666667, 0.3)"
          ],
          "source": [
           0,
           1,
           1,
           2,
           3,
           4,
           5,
           6,
           2,
           7,
           8,
           0,
           9,
           1,
           3,
           10,
           3,
           11,
           0,
           7,
           9,
           12,
           13,
           0,
           0,
           14,
           15,
           6,
           11,
           16
          ],
          "target": [
           17,
           18,
           19,
           17,
           20,
           21,
           21,
           22,
           23,
           18,
           19,
           24,
           25,
           23,
           26,
           22,
           27,
           22,
           28,
           17,
           29,
           19,
           19,
           30,
           31,
           21,
           22,
           32,
           25,
           19
          ],
          "value": [
           1154165,
           1125131,
           1063458,
           1006173,
           924038,
           868185,
           839255,
           796578,
           756580,
           745867,
           737455,
           727013,
           720124,
           716788,
           701731,
           697918,
           679724,
           671287,
           669424,
           653145,
           652225,
           650482,
           640494,
           632245,
           623588,
           617203,
           606225,
           603795,
           594509,
           588909
          ]
         },
         "node": {
          "color": [
           "rgb(0.2, 0.4, 0.8)",
           "rgb(0.8627450980392157, 0.2235294117647059, 0.07058823529411765)",
           "rgb(1.0, 0.6, 0.0)",
           "rgb(0.06274509803921569, 0.5882352941176471, 0.09411764705882353)",
           "rgb(0.6, 0.0, 0.6)",
           "rgb(0.0, 0.6, 0.7764705882352941)",
           "rgb(0.8666666666666667, 0.26666666666666666, 0.4666666666666667)",
           "rgb(0.4, 0.6666666666666666, 0.0)",
           "rgb(0.7215686274509804, 0.1803921568627451, 0.1803921568627451)",
           "rgb(0.19215686274509805, 0.38823529411764707, 0.5843137254901961)",
           "rgb(0.2, 0.4, 0.8)",
           "rgb(0.8627450980392157, 0.2235294117647059, 0.07058823529411765)",
           "rgb(1.0, 0.6, 0.0)",
           "rgb(0.06274509803921569, 0.5882352941176471, 0.09411764705882353)",
           "rgb(0.6, 0.0, 0.6)",
           "rgb(0.0, 0.6, 0.7764705882352941)",
           "rgb(0.8666666666666667, 0.26666666666666666, 0.4666666666666667)",
           "rgb(0.4, 0.6666666666666666, 0.0)",
           "rgb(0.7215686274509804, 0.1803921568627451, 0.1803921568627451)",
           "rgb(0.19215686274509805, 0.38823529411764707, 0.5843137254901961)",
           "rgb(0.2, 0.4, 0.8)",
           "rgb(0.8627450980392157, 0.2235294117647059, 0.07058823529411765)",
           "rgb(1.0, 0.6, 0.0)",
           "rgb(0.06274509803921569, 0.5882352941176471, 0.09411764705882353)",
           "rgb(0.6, 0.0, 0.6)",
           "rgb(0.0, 0.6, 0.7764705882352941)",
           "rgb(0.8666666666666667, 0.26666666666666666, 0.4666666666666667)",
           "rgb(0.4, 0.6666666666666666, 0.0)",
           "rgb(0.7215686274509804, 0.1803921568627451, 0.1803921568627451)",
           "rgb(0.19215686274509805, 0.38823529411764707, 0.5843137254901961)",
           "rgb(0.2, 0.4, 0.8)",
           "rgb(0.8627450980392157, 0.2235294117647059, 0.07058823529411765)",
           "rgb(1.0, 0.6, 0.0)"
          ],
          "label": [
           "KJ15: KL Sentral (Origin)",
           "KJ10: KLCC (Origin)",
           "KJ09: Ampang Park (Origin)",
           "KG18: Bukit Bintang (Origin)",
           "KG22: Maluri (Origin)",
           "KG20: Tun Razak Exchange (Origin)",
           "MR01: KL Sentral (Origin)",
           "KJ03: Wangsa Maju (Origin)",
           "KJ16: Bank Rakyat Bangsar (Origin)",
           "MR06: Bukit Bintang (Origin)",
           "MR10: Chow Kit (Origin)",
           "MR05: Imbi (Origin)",
           "KJ17: Abdullah Hukum (Origin)",
           "KJ14: Pasar Seni (Origin)",
           "KG21: Cochrane (Origin)",
           "MR08: Bukit Nanas (Origin)",
           "KJ19: Universiti (Origin)",
           "KJ10: KLCC (Destination)",
           "KJ09: Ampang Park (Destination)",
           "KJ15: KL Sentral (Destination)",
           "KG22: Maluri (Destination)",
           "KG18: Bukit Bintang (Destination)",
           "MR06: Bukit Bintang (Destination)",
           "KJ03: Wangsa Maju (Destination)",
           "KJ16: Bank Rakyat Bangsar (Destination)",
           "MR01: KL Sentral (Destination)",
           "KG20: Tun Razak Exchange (Destination)",
           "KG21: Cochrane (Destination)",
           "KJ17: Abdullah Hukum (Destination)",
           "MR10: Chow Kit (Destination)",
           "KJ19: Universiti (Destination)",
           "KJ14: Pasar Seni (Destination)",
           "MR05: Imbi (Destination)"
          ],
          "line": {
           "color": "black",
           "width": 0.7
          },
          "pad": 25,
          "thickness": 50
         },
         "type": "sankey"
        }
       ],
       "layout": {
        "template": {
         "data": {
          "bar": [
           {
            "error_x": {
             "color": "#2a3f5f"
            },
            "error_y": {
             "color": "#2a3f5f"
            },
            "marker": {
             "line": {
              "color": "#E5ECF6",
              "width": 0.5
             },
             "pattern": {
              "fillmode": "overlay",
              "size": 10,
              "solidity": 0.2
             }
            },
            "type": "bar"
           }
          ],
          "barpolar": [
           {
            "marker": {
             "line": {
              "color": "#E5ECF6",
              "width": 0.5
             },
             "pattern": {
              "fillmode": "overlay",
              "size": 10,
              "solidity": 0.2
             }
            },
            "type": "barpolar"
           }
          ],
          "carpet": [
           {
            "aaxis": {
             "endlinecolor": "#2a3f5f",
             "gridcolor": "white",
             "linecolor": "white",
             "minorgridcolor": "white",
             "startlinecolor": "#2a3f5f"
            },
            "baxis": {
             "endlinecolor": "#2a3f5f",
             "gridcolor": "white",
             "linecolor": "white",
             "minorgridcolor": "white",
             "startlinecolor": "#2a3f5f"
            },
            "type": "carpet"
           }
          ],
          "choropleth": [
           {
            "colorbar": {
             "outlinewidth": 0,
             "ticks": ""
            },
            "type": "choropleth"
           }
          ],
          "contour": [
           {
            "colorbar": {
             "outlinewidth": 0,
             "ticks": ""
            },
            "colorscale": [
             [
              0,
              "#0d0887"
             ],
             [
              0.1111111111111111,
              "#46039f"
             ],
             [
              0.2222222222222222,
              "#7201a8"
             ],
             [
              0.3333333333333333,
              "#9c179e"
             ],
             [
              0.4444444444444444,
              "#bd3786"
             ],
             [
              0.5555555555555556,
              "#d8576b"
             ],
             [
              0.6666666666666666,
              "#ed7953"
             ],
             [
              0.7777777777777778,
              "#fb9f3a"
             ],
             [
              0.8888888888888888,
              "#fdca26"
             ],
             [
              1,
              "#f0f921"
             ]
            ],
            "type": "contour"
           }
          ],
          "contourcarpet": [
           {
            "colorbar": {
             "outlinewidth": 0,
             "ticks": ""
            },
            "type": "contourcarpet"
           }
          ],
          "heatmap": [
           {
            "colorbar": {
             "outlinewidth": 0,
             "ticks": ""
            },
            "colorscale": [
             [
              0,
              "#0d0887"
             ],
             [
              0.1111111111111111,
              "#46039f"
             ],
             [
              0.2222222222222222,
              "#7201a8"
             ],
             [
              0.3333333333333333,
              "#9c179e"
             ],
             [
              0.4444444444444444,
              "#bd3786"
             ],
             [
              0.5555555555555556,
              "#d8576b"
             ],
             [
              0.6666666666666666,
              "#ed7953"
             ],
             [
              0.7777777777777778,
              "#fb9f3a"
             ],
             [
              0.8888888888888888,
              "#fdca26"
             ],
             [
              1,
              "#f0f921"
             ]
            ],
            "type": "heatmap"
           }
          ],
          "heatmapgl": [
           {
            "colorbar": {
             "outlinewidth": 0,
             "ticks": ""
            },
            "colorscale": [
             [
              0,
              "#0d0887"
             ],
             [
              0.1111111111111111,
              "#46039f"
             ],
             [
              0.2222222222222222,
              "#7201a8"
             ],
             [
              0.3333333333333333,
              "#9c179e"
             ],
             [
              0.4444444444444444,
              "#bd3786"
             ],
             [
              0.5555555555555556,
              "#d8576b"
             ],
             [
              0.6666666666666666,
              "#ed7953"
             ],
             [
              0.7777777777777778,
              "#fb9f3a"
             ],
             [
              0.8888888888888888,
              "#fdca26"
             ],
             [
              1,
              "#f0f921"
             ]
            ],
            "type": "heatmapgl"
           }
          ],
          "histogram": [
           {
            "marker": {
             "pattern": {
              "fillmode": "overlay",
              "size": 10,
              "solidity": 0.2
             }
            },
            "type": "histogram"
           }
          ],
          "histogram2d": [
           {
            "colorbar": {
             "outlinewidth": 0,
             "ticks": ""
            },
            "colorscale": [
             [
              0,
              "#0d0887"
             ],
             [
              0.1111111111111111,
              "#46039f"
             ],
             [
              0.2222222222222222,
              "#7201a8"
             ],
             [
              0.3333333333333333,
              "#9c179e"
             ],
             [
              0.4444444444444444,
              "#bd3786"
             ],
             [
              0.5555555555555556,
              "#d8576b"
             ],
             [
              0.6666666666666666,
              "#ed7953"
             ],
             [
              0.7777777777777778,
              "#fb9f3a"
             ],
             [
              0.8888888888888888,
              "#fdca26"
             ],
             [
              1,
              "#f0f921"
             ]
            ],
            "type": "histogram2d"
           }
          ],
          "histogram2dcontour": [
           {
            "colorbar": {
             "outlinewidth": 0,
             "ticks": ""
            },
            "colorscale": [
             [
              0,
              "#0d0887"
             ],
             [
              0.1111111111111111,
              "#46039f"
             ],
             [
              0.2222222222222222,
              "#7201a8"
             ],
             [
              0.3333333333333333,
              "#9c179e"
             ],
             [
              0.4444444444444444,
              "#bd3786"
             ],
             [
              0.5555555555555556,
              "#d8576b"
             ],
             [
              0.6666666666666666,
              "#ed7953"
             ],
             [
              0.7777777777777778,
              "#fb9f3a"
             ],
             [
              0.8888888888888888,
              "#fdca26"
             ],
             [
              1,
              "#f0f921"
             ]
            ],
            "type": "histogram2dcontour"
           }
          ],
          "mesh3d": [
           {
            "colorbar": {
             "outlinewidth": 0,
             "ticks": ""
            },
            "type": "mesh3d"
           }
          ],
          "parcoords": [
           {
            "line": {
             "colorbar": {
              "outlinewidth": 0,
              "ticks": ""
             }
            },
            "type": "parcoords"
           }
          ],
          "pie": [
           {
            "automargin": true,
            "type": "pie"
           }
          ],
          "scatter": [
           {
            "fillpattern": {
             "fillmode": "overlay",
             "size": 10,
             "solidity": 0.2
            },
            "type": "scatter"
           }
          ],
          "scatter3d": [
           {
            "line": {
             "colorbar": {
              "outlinewidth": 0,
              "ticks": ""
             }
            },
            "marker": {
             "colorbar": {
              "outlinewidth": 0,
              "ticks": ""
             }
            },
            "type": "scatter3d"
           }
          ],
          "scattercarpet": [
           {
            "marker": {
             "colorbar": {
              "outlinewidth": 0,
              "ticks": ""
             }
            },
            "type": "scattercarpet"
           }
          ],
          "scattergeo": [
           {
            "marker": {
             "colorbar": {
              "outlinewidth": 0,
              "ticks": ""
             }
            },
            "type": "scattergeo"
           }
          ],
          "scattergl": [
           {
            "marker": {
             "colorbar": {
              "outlinewidth": 0,
              "ticks": ""
             }
            },
            "type": "scattergl"
           }
          ],
          "scattermapbox": [
           {
            "marker": {
             "colorbar": {
              "outlinewidth": 0,
              "ticks": ""
             }
            },
            "type": "scattermapbox"
           }
          ],
          "scatterpolar": [
           {
            "marker": {
             "colorbar": {
              "outlinewidth": 0,
              "ticks": ""
             }
            },
            "type": "scatterpolar"
           }
          ],
          "scatterpolargl": [
           {
            "marker": {
             "colorbar": {
              "outlinewidth": 0,
              "ticks": ""
             }
            },
            "type": "scatterpolargl"
           }
          ],
          "scatterternary": [
           {
            "marker": {
             "colorbar": {
              "outlinewidth": 0,
              "ticks": ""
             }
            },
            "type": "scatterternary"
           }
          ],
          "surface": [
           {
            "colorbar": {
             "outlinewidth": 0,
             "ticks": ""
            },
            "colorscale": [
             [
              0,
              "#0d0887"
             ],
             [
              0.1111111111111111,
              "#46039f"
             ],
             [
              0.2222222222222222,
              "#7201a8"
             ],
             [
              0.3333333333333333,
              "#9c179e"
             ],
             [
              0.4444444444444444,
              "#bd3786"
             ],
             [
              0.5555555555555556,
              "#d8576b"
             ],
             [
              0.6666666666666666,
              "#ed7953"
             ],
             [
              0.7777777777777778,
              "#fb9f3a"
             ],
             [
              0.8888888888888888,
              "#fdca26"
             ],
             [
              1,
              "#f0f921"
             ]
            ],
            "type": "surface"
           }
          ],
          "table": [
           {
            "cells": {
             "fill": {
              "color": "#EBF0F8"
             },
             "line": {
              "color": "white"
             }
            },
            "header": {
             "fill": {
              "color": "#C8D4E3"
             },
             "line": {
              "color": "white"
             }
            },
            "type": "table"
           }
          ]
         },
         "layout": {
          "annotationdefaults": {
           "arrowcolor": "#2a3f5f",
           "arrowhead": 0,
           "arrowwidth": 1
          },
          "autotypenumbers": "strict",
          "coloraxis": {
           "colorbar": {
            "outlinewidth": 0,
            "ticks": ""
           }
          },
          "colorscale": {
           "diverging": [
            [
             0,
             "#8e0152"
            ],
            [
             0.1,
             "#c51b7d"
            ],
            [
             0.2,
             "#de77ae"
            ],
            [
             0.3,
             "#f1b6da"
            ],
            [
             0.4,
             "#fde0ef"
            ],
            [
             0.5,
             "#f7f7f7"
            ],
            [
             0.6,
             "#e6f5d0"
            ],
            [
             0.7,
             "#b8e186"
            ],
            [
             0.8,
             "#7fbc41"
            ],
            [
             0.9,
             "#4d9221"
            ],
            [
             1,
             "#276419"
            ]
           ],
           "sequential": [
            [
             0,
             "#0d0887"
            ],
            [
             0.1111111111111111,
             "#46039f"
            ],
            [
             0.2222222222222222,
             "#7201a8"
            ],
            [
             0.3333333333333333,
             "#9c179e"
            ],
            [
             0.4444444444444444,
             "#bd3786"
            ],
            [
             0.5555555555555556,
             "#d8576b"
            ],
            [
             0.6666666666666666,
             "#ed7953"
            ],
            [
             0.7777777777777778,
             "#fb9f3a"
            ],
            [
             0.8888888888888888,
             "#fdca26"
            ],
            [
             1,
             "#f0f921"
            ]
           ],
           "sequentialminus": [
            [
             0,
             "#0d0887"
            ],
            [
             0.1111111111111111,
             "#46039f"
            ],
            [
             0.2222222222222222,
             "#7201a8"
            ],
            [
             0.3333333333333333,
             "#9c179e"
            ],
            [
             0.4444444444444444,
             "#bd3786"
            ],
            [
             0.5555555555555556,
             "#d8576b"
            ],
            [
             0.6666666666666666,
             "#ed7953"
            ],
            [
             0.7777777777777778,
             "#fb9f3a"
            ],
            [
             0.8888888888888888,
             "#fdca26"
            ],
            [
             1,
             "#f0f921"
            ]
           ]
          },
          "colorway": [
           "#636efa",
           "#EF553B",
           "#00cc96",
           "#ab63fa",
           "#FFA15A",
           "#19d3f3",
           "#FF6692",
           "#B6E880",
           "#FF97FF",
           "#FECB52"
          ],
          "font": {
           "color": "#2a3f5f"
          },
          "geo": {
           "bgcolor": "white",
           "lakecolor": "white",
           "landcolor": "#E5ECF6",
           "showlakes": true,
           "showland": true,
           "subunitcolor": "white"
          },
          "hoverlabel": {
           "align": "left"
          },
          "hovermode": "closest",
          "mapbox": {
           "style": "light"
          },
          "paper_bgcolor": "white",
          "plot_bgcolor": "#E5ECF6",
          "polar": {
           "angularaxis": {
            "gridcolor": "white",
            "linecolor": "white",
            "ticks": ""
           },
           "bgcolor": "#E5ECF6",
           "radialaxis": {
            "gridcolor": "white",
            "linecolor": "white",
            "ticks": ""
           }
          },
          "scene": {
           "xaxis": {
            "backgroundcolor": "#E5ECF6",
            "gridcolor": "white",
            "gridwidth": 2,
            "linecolor": "white",
            "showbackground": true,
            "ticks": "",
            "zerolinecolor": "white"
           },
           "yaxis": {
            "backgroundcolor": "#E5ECF6",
            "gridcolor": "white",
            "gridwidth": 2,
            "linecolor": "white",
            "showbackground": true,
            "ticks": "",
            "zerolinecolor": "white"
           },
           "zaxis": {
            "backgroundcolor": "#E5ECF6",
            "gridcolor": "white",
            "gridwidth": 2,
            "linecolor": "white",
            "showbackground": true,
            "ticks": "",
            "zerolinecolor": "white"
           }
          },
          "shapedefaults": {
           "line": {
            "color": "#2a3f5f"
           }
          },
          "ternary": {
           "aaxis": {
            "gridcolor": "white",
            "linecolor": "white",
            "ticks": ""
           },
           "baxis": {
            "gridcolor": "white",
            "linecolor": "white",
            "ticks": ""
           },
           "bgcolor": "#E5ECF6",
           "caxis": {
            "gridcolor": "white",
            "linecolor": "white",
            "ticks": ""
           }
          },
          "title": {
           "x": 0.05
          },
          "xaxis": {
           "automargin": true,
           "gridcolor": "white",
           "linecolor": "white",
           "ticks": "",
           "title": {
            "standoff": 15
           },
           "zerolinecolor": "white",
           "zerolinewidth": 2
          },
          "yaxis": {
           "automargin": true,
           "gridcolor": "white",
           "linecolor": "white",
           "ticks": "",
           "title": {
            "standoff": 15
           },
           "zerolinecolor": "white",
           "zerolinewidth": 2
          }
         }
        },
        "title": {
         "text": "Total Passengers To-From Stations"
        }
       }
      }
     },
     "metadata": {},
     "output_type": "display_data"
    }
   ],
   "source": [
    "\n",
    "#Sankey Diagram Code \n",
    "fig = go.Figure(data=[go.Sankey(\n",
    "    arrangement = \"snap\",\n",
    "    node = dict(\n",
    "      pad = 25,\n",
    "      thickness = 50,\n",
    "      line = dict(color = \"black\", width = 0.7),\n",
    "      label = unique_source_target,\n",
    "      color = label_colors\n",
    "      \n",
    "    ),\n",
    "    link = dict(\n",
    "      arrowlen=15,\n",
    "      source = links_dict[\"train_origin\"],\n",
    "      target = links_dict[\"train_destination\"],\n",
    "      value = links_dict[\"total_passengers\"],\n",
    "      color = links_dict[\"link_c\"]\n",
    "  \n",
    "  ))])\n",
    "\n",
    "fig.update_layout(title_text=\"Total Passengers To-From Stations\")\n",
    "\n",
    "# fig.update_traces(node_color = color_for_nodes, link_color = color_for_links)\n",
    "fig.show()"
   ]
  },
  {
   "cell_type": "code",
   "execution_count": 7,
   "metadata": {},
   "outputs": [],
   "source": [
    "# !pip install --upgrade nbformat"
   ]
  },
  {
   "cell_type": "markdown",
   "metadata": {},
   "source": [
    "## Plotting Passenger Growth Over Time"
   ]
  },
  {
   "cell_type": "code",
   "execution_count": 8,
   "metadata": {
    "ExecuteTime": {
     "end_time": "2024-07-28T15:49:07.315623Z",
     "start_time": "2024-07-28T15:49:07.123790Z"
    }
   },
   "outputs": [],
   "source": [
    "df2 = duckdb.sql(\"\"\"\n",
    "            SELECT \n",
    "                concat(origin, ' (Origin)') as train_origin, \n",
    "                date,\n",
    "                SUM(passengers) as total_passengers\n",
    "            FROM df_\n",
    "            WHERE origin <> destination\n",
    "               AND origin not ilike '%all station%'\n",
    "               AND destination not ilike '%all station%'\n",
    "               AND frequency = 'daily'\n",
    "               and date > '2023-07-01'\n",
    "               and date < '2024-08-01'\n",
    "               and origin not like '%BRT%'\n",
    "           GROUP BY ALL\n",
    "\n",
    "           \"\"\").df()\n",
    "\n",
    "df2['line_name'] = [x[:2] for x in df2['train_origin']]"
   ]
  },
  {
   "cell_type": "code",
   "execution_count": 9,
   "metadata": {
    "ExecuteTime": {
     "end_time": "2024-07-28T15:49:12.170401Z",
     "start_time": "2024-07-28T15:49:12.152586Z"
    }
   },
   "outputs": [
    {
     "data": {
      "text/html": [
       "<div>\n",
       "<style scoped>\n",
       "    .dataframe tbody tr th:only-of-type {\n",
       "        vertical-align: middle;\n",
       "    }\n",
       "\n",
       "    .dataframe tbody tr th {\n",
       "        vertical-align: top;\n",
       "    }\n",
       "\n",
       "    .dataframe thead th {\n",
       "        text-align: right;\n",
       "    }\n",
       "</style>\n",
       "<table border=\"1\" class=\"dataframe\">\n",
       "  <thead>\n",
       "    <tr style=\"text-align: right;\">\n",
       "      <th></th>\n",
       "      <th>train_origin</th>\n",
       "      <th>date</th>\n",
       "      <th>total_passengers</th>\n",
       "      <th>line_name</th>\n",
       "      <th>mom_passenger_change</th>\n",
       "    </tr>\n",
       "  </thead>\n",
       "  <tbody>\n",
       "    <tr>\n",
       "      <th>0</th>\n",
       "      <td>AG15: Pandan Indah (Origin)</td>\n",
       "      <td>2024-06-01</td>\n",
       "      <td>2021.0</td>\n",
       "      <td>AG</td>\n",
       "      <td>0.00</td>\n",
       "    </tr>\n",
       "    <tr>\n",
       "      <th>1</th>\n",
       "      <td>AG15: Pandan Indah (Origin)</td>\n",
       "      <td>2024-06-02</td>\n",
       "      <td>1641.0</td>\n",
       "      <td>AG</td>\n",
       "      <td>23.16</td>\n",
       "    </tr>\n",
       "    <tr>\n",
       "      <th>2</th>\n",
       "      <td>AG15: Pandan Indah (Origin)</td>\n",
       "      <td>2024-06-03</td>\n",
       "      <td>1448.0</td>\n",
       "      <td>AG</td>\n",
       "      <td>13.33</td>\n",
       "    </tr>\n",
       "    <tr>\n",
       "      <th>3</th>\n",
       "      <td>AG15: Pandan Indah (Origin)</td>\n",
       "      <td>2024-06-04</td>\n",
       "      <td>2560.0</td>\n",
       "      <td>AG</td>\n",
       "      <td>-43.44</td>\n",
       "    </tr>\n",
       "    <tr>\n",
       "      <th>4</th>\n",
       "      <td>AG15: Pandan Indah (Origin)</td>\n",
       "      <td>2024-06-05</td>\n",
       "      <td>2628.0</td>\n",
       "      <td>AG</td>\n",
       "      <td>-2.59</td>\n",
       "    </tr>\n",
       "    <tr>\n",
       "      <th>5</th>\n",
       "      <td>AG15: Pandan Indah (Origin)</td>\n",
       "      <td>2024-06-06</td>\n",
       "      <td>2622.0</td>\n",
       "      <td>AG</td>\n",
       "      <td>0.23</td>\n",
       "    </tr>\n",
       "    <tr>\n",
       "      <th>6</th>\n",
       "      <td>AG15: Pandan Indah (Origin)</td>\n",
       "      <td>2024-06-07</td>\n",
       "      <td>2631.0</td>\n",
       "      <td>AG</td>\n",
       "      <td>-0.34</td>\n",
       "    </tr>\n",
       "    <tr>\n",
       "      <th>7</th>\n",
       "      <td>AG15: Pandan Indah (Origin)</td>\n",
       "      <td>2024-06-08</td>\n",
       "      <td>1806.0</td>\n",
       "      <td>AG</td>\n",
       "      <td>45.68</td>\n",
       "    </tr>\n",
       "    <tr>\n",
       "      <th>8</th>\n",
       "      <td>AG15: Pandan Indah (Origin)</td>\n",
       "      <td>2024-06-09</td>\n",
       "      <td>1539.0</td>\n",
       "      <td>AG</td>\n",
       "      <td>17.35</td>\n",
       "    </tr>\n",
       "    <tr>\n",
       "      <th>9</th>\n",
       "      <td>AG15: Pandan Indah (Origin)</td>\n",
       "      <td>2024-06-10</td>\n",
       "      <td>2692.0</td>\n",
       "      <td>AG</td>\n",
       "      <td>-42.83</td>\n",
       "    </tr>\n",
       "  </tbody>\n",
       "</table>\n",
       "</div>"
      ],
      "text/plain": [
       "                  train_origin       date  total_passengers line_name  \\\n",
       "0  AG15: Pandan Indah (Origin) 2024-06-01            2021.0        AG   \n",
       "1  AG15: Pandan Indah (Origin) 2024-06-02            1641.0        AG   \n",
       "2  AG15: Pandan Indah (Origin) 2024-06-03            1448.0        AG   \n",
       "3  AG15: Pandan Indah (Origin) 2024-06-04            2560.0        AG   \n",
       "4  AG15: Pandan Indah (Origin) 2024-06-05            2628.0        AG   \n",
       "5  AG15: Pandan Indah (Origin) 2024-06-06            2622.0        AG   \n",
       "6  AG15: Pandan Indah (Origin) 2024-06-07            2631.0        AG   \n",
       "7  AG15: Pandan Indah (Origin) 2024-06-08            1806.0        AG   \n",
       "8  AG15: Pandan Indah (Origin) 2024-06-09            1539.0        AG   \n",
       "9  AG15: Pandan Indah (Origin) 2024-06-10            2692.0        AG   \n",
       "\n",
       "   mom_passenger_change  \n",
       "0                  0.00  \n",
       "1                 23.16  \n",
       "2                 13.33  \n",
       "3                -43.44  \n",
       "4                 -2.59  \n",
       "5                  0.23  \n",
       "6                 -0.34  \n",
       "7                 45.68  \n",
       "8                 17.35  \n",
       "9                -42.83  "
      ]
     },
     "execution_count": 9,
     "metadata": {},
     "output_type": "execute_result"
    }
   ],
   "source": [
    "df2 = duckdb.sql(\"\"\"\n",
    "            SELECT \n",
    "                *,\n",
    "                CASE \n",
    "                    WHEN LAG(total_passengers) OVER(PARTITION BY train_origin ORDER BY date ASC) IS NULL THEN 0\n",
    "                    ELSE ROUND( (LAG(total_passengers) OVER(PARTITION BY train_origin ORDER BY date ASC) - total_passengers  )  * 100 / total_passengers , 2)\n",
    "                    END AS mom_passenger_change\n",
    "            FROM df2\n",
    "\n",
    "           \"\"\").df()\n",
    "\n",
    "df2.head(10)"
   ]
  },
  {
   "cell_type": "code",
   "execution_count": 14,
   "metadata": {
    "ExecuteTime": {
     "end_time": "2024-07-28T15:49:23.072431Z",
     "start_time": "2024-07-28T15:49:23.068422Z"
    }
   },
   "outputs": [],
   "source": [
    "import seaborn as sns\n",
    "import matplotlib.pyplot as plt"
   ]
  },
  {
   "cell_type": "code",
   "execution_count": 15,
   "metadata": {
    "ExecuteTime": {
     "end_time": "2024-07-28T15:49:25.459844Z",
     "start_time": "2024-07-28T15:49:25.438997Z"
    }
   },
   "outputs": [
    {
     "data": {
      "text/html": [
       "<div>\n",
       "<style scoped>\n",
       "    .dataframe tbody tr th:only-of-type {\n",
       "        vertical-align: middle;\n",
       "    }\n",
       "\n",
       "    .dataframe tbody tr th {\n",
       "        vertical-align: top;\n",
       "    }\n",
       "\n",
       "    .dataframe thead th {\n",
       "        text-align: right;\n",
       "    }\n",
       "</style>\n",
       "<table border=\"1\" class=\"dataframe\">\n",
       "  <thead>\n",
       "    <tr style=\"text-align: right;\">\n",
       "      <th></th>\n",
       "      <th>train_origin</th>\n",
       "      <th>date</th>\n",
       "      <th>total_passengers</th>\n",
       "      <th>line_name</th>\n",
       "      <th>mom_passenger_change</th>\n",
       "    </tr>\n",
       "  </thead>\n",
       "  <tbody>\n",
       "    <tr>\n",
       "      <th>0</th>\n",
       "      <td>AG15: Pandan Indah (Origin)</td>\n",
       "      <td>2024-06-01</td>\n",
       "      <td>2021.0</td>\n",
       "      <td>AG</td>\n",
       "      <td>0.00</td>\n",
       "    </tr>\n",
       "    <tr>\n",
       "      <th>1</th>\n",
       "      <td>AG15: Pandan Indah (Origin)</td>\n",
       "      <td>2024-06-02</td>\n",
       "      <td>1641.0</td>\n",
       "      <td>AG</td>\n",
       "      <td>23.16</td>\n",
       "    </tr>\n",
       "    <tr>\n",
       "      <th>2</th>\n",
       "      <td>AG15: Pandan Indah (Origin)</td>\n",
       "      <td>2024-06-03</td>\n",
       "      <td>1448.0</td>\n",
       "      <td>AG</td>\n",
       "      <td>13.33</td>\n",
       "    </tr>\n",
       "    <tr>\n",
       "      <th>3</th>\n",
       "      <td>AG15: Pandan Indah (Origin)</td>\n",
       "      <td>2024-06-04</td>\n",
       "      <td>2560.0</td>\n",
       "      <td>AG</td>\n",
       "      <td>-43.44</td>\n",
       "    </tr>\n",
       "    <tr>\n",
       "      <th>4</th>\n",
       "      <td>AG15: Pandan Indah (Origin)</td>\n",
       "      <td>2024-06-05</td>\n",
       "      <td>2628.0</td>\n",
       "      <td>AG</td>\n",
       "      <td>-2.59</td>\n",
       "    </tr>\n",
       "    <tr>\n",
       "      <th>...</th>\n",
       "      <td>...</td>\n",
       "      <td>...</td>\n",
       "      <td>...</td>\n",
       "      <td>...</td>\n",
       "      <td>...</td>\n",
       "    </tr>\n",
       "    <tr>\n",
       "      <th>7291</th>\n",
       "      <td>AG09: Hang Tuah (Origin)</td>\n",
       "      <td>2024-07-23</td>\n",
       "      <td>4044.0</td>\n",
       "      <td>AG</td>\n",
       "      <td>-0.20</td>\n",
       "    </tr>\n",
       "    <tr>\n",
       "      <th>7292</th>\n",
       "      <td>AG09: Hang Tuah (Origin)</td>\n",
       "      <td>2024-07-24</td>\n",
       "      <td>4004.0</td>\n",
       "      <td>AG</td>\n",
       "      <td>1.00</td>\n",
       "    </tr>\n",
       "    <tr>\n",
       "      <th>7293</th>\n",
       "      <td>AG09: Hang Tuah (Origin)</td>\n",
       "      <td>2024-07-25</td>\n",
       "      <td>3969.0</td>\n",
       "      <td>AG</td>\n",
       "      <td>0.88</td>\n",
       "    </tr>\n",
       "    <tr>\n",
       "      <th>7294</th>\n",
       "      <td>AG09: Hang Tuah (Origin)</td>\n",
       "      <td>2024-07-26</td>\n",
       "      <td>4231.0</td>\n",
       "      <td>AG</td>\n",
       "      <td>-6.19</td>\n",
       "    </tr>\n",
       "    <tr>\n",
       "      <th>7295</th>\n",
       "      <td>AG09: Hang Tuah (Origin)</td>\n",
       "      <td>2024-07-27</td>\n",
       "      <td>4052.0</td>\n",
       "      <td>AG</td>\n",
       "      <td>4.42</td>\n",
       "    </tr>\n",
       "  </tbody>\n",
       "</table>\n",
       "<p>1026 rows × 5 columns</p>\n",
       "</div>"
      ],
      "text/plain": [
       "                     train_origin       date  total_passengers line_name  \\\n",
       "0     AG15: Pandan Indah (Origin) 2024-06-01            2021.0        AG   \n",
       "1     AG15: Pandan Indah (Origin) 2024-06-02            1641.0        AG   \n",
       "2     AG15: Pandan Indah (Origin) 2024-06-03            1448.0        AG   \n",
       "3     AG15: Pandan Indah (Origin) 2024-06-04            2560.0        AG   \n",
       "4     AG15: Pandan Indah (Origin) 2024-06-05            2628.0        AG   \n",
       "...                           ...        ...               ...       ...   \n",
       "7291     AG09: Hang Tuah (Origin) 2024-07-23            4044.0        AG   \n",
       "7292     AG09: Hang Tuah (Origin) 2024-07-24            4004.0        AG   \n",
       "7293     AG09: Hang Tuah (Origin) 2024-07-25            3969.0        AG   \n",
       "7294     AG09: Hang Tuah (Origin) 2024-07-26            4231.0        AG   \n",
       "7295     AG09: Hang Tuah (Origin) 2024-07-27            4052.0        AG   \n",
       "\n",
       "      mom_passenger_change  \n",
       "0                     0.00  \n",
       "1                    23.16  \n",
       "2                    13.33  \n",
       "3                   -43.44  \n",
       "4                    -2.59  \n",
       "...                    ...  \n",
       "7291                 -0.20  \n",
       "7292                  1.00  \n",
       "7293                  0.88  \n",
       "7294                 -6.19  \n",
       "7295                  4.42  \n",
       "\n",
       "[1026 rows x 5 columns]"
      ]
     },
     "execution_count": 15,
     "metadata": {},
     "output_type": "execute_result"
    }
   ],
   "source": [
    "df2[df2['line_name'] == 'AG']"
   ]
  },
  {
   "cell_type": "code",
   "execution_count": 16,
   "metadata": {
    "ExecuteTime": {
     "end_time": "2024-07-28T15:49:29.723849Z",
     "start_time": "2024-07-28T15:49:29.186926Z"
    }
   },
   "outputs": [
    {
     "data": {
      "text/plain": [
       "<matplotlib.legend.Legend at 0x11d0125e0>"
      ]
     },
     "execution_count": 16,
     "metadata": {},
     "output_type": "execute_result"
    },
    {
     "data": {
      "image/png": "[encoded data removed]",
      "text/plain": [
       "<Figure size 1800x600 with 1 Axes>"
      ]
     },
     "metadata": {},
     "output_type": "display_data"
    }
   ],
   "source": [
    "plt.figure(figsize=(18,6))\n",
    "sns.lineplot(data=df2, x='date', y='mom_passenger_change', hue='line_name', errorbar=None)\n",
    "# sns.move_legend(ax, \"upper left\", bbox_to_anchor=(1, 1))\n",
    "plt.legend(bbox_to_anchor=(1.05, 1), loc=2, borderaxespad=0.)\n"
   ]
  },
  {
   "cell_type": "code",
   "execution_count": null,
   "metadata": {},
   "outputs": [],
   "source": []
  }
 ],
 "metadata": {
  "kernelspec": {
   "display_name": "Python3_10_Env",
   "language": "python",
   "name": "python3"
  },
  "language_info": {
   "codemirror_mode": {
    "name": "ipython",
    "version": 3
   },
   "file_extension": ".py",
   "mimetype": "text/x-python",
   "name": "python",
   "nbconvert_exporter": "python",
   "pygments_lexer": "ipython3",
   "version": "3.9.6"
  }
 },
 "nbformat": 4,
 "nbformat_minor": 2
}
