{
 "cells": [
  {
   "cell_type": "code",
   "metadata": {
    "ExecuteTime": {
     "end_time": "2024-07-28T15:44:02.729829Z",
     "start_time": "2024-07-28T15:43:59.944589Z"
    }
   },
   "source": [
    "# Reference: https://lifewithdata.com/2022/08/29/how-to-create-a-sankey-diagram-in-plotly-python/\n",
    "\n",
    "import pandas as pd\n",
    "import requests\n",
    "import plotly.graph_objects as go\n",
    "import duckdb\n",
    "import plotly.io as pio\n",
    "pio.renderers.default = \"nteract\"\n",
    "import plotly.express as px\n",
    "import matplotlib.colors\n",
    "\n",
    "df_ = pd.read_parquet('https://storage.data.gov.my/dashboards/prasarana_timeseries.parquet')\n",
    "\n",
    "\n"
   ],
   "outputs": [],
   "execution_count": 3
  },
  {
   "cell_type": "markdown",
   "metadata": {},
   "source": [
    "## Plotting Sankey"
   ]
  },
  {
   "cell_type": "code",
   "metadata": {
    "ExecuteTime": {
     "end_time": "2024-07-28T15:44:14.547384Z",
     "start_time": "2024-07-28T15:44:14.478223Z"
    }
   },
   "source": [
    "df1 = duckdb.sql(\"\"\"\n",
    "          SELECT\n",
    "           concat(origin, ' (Origin)') as train_origin, \n",
    "           concat(destination, ' (Destination)') as train_destination,\n",
    "           sum(passengers) as total_passengers\n",
    "          FROM df_\n",
    "          WHERE origin <> destination\n",
    "               AND origin not ilike '%all station%'\n",
    "               AND destination not ilike '%all station%'\n",
    "               AND frequency = 'monthly'\n",
    "          GROUP BY ALL\n",
    "\n",
    "\"\"\").df()\n",
    "\n",
    "df1.head()"
   ],
   "outputs": [
    {
     "data": {
      "text/plain": [
       "                  train_origin                 train_destination  \\\n",
       "0  AG01: Sentul Timur (Origin)    AG03: Titiwangsa (Destination)   \n",
       "1  AG01: Sentul Timur (Origin)        AG13: Maluri (Destination)   \n",
       "2  AG01: Sentul Timur (Origin)  AG15: Pandan Indah (Destination)   \n",
       "3  AG01: Sentul Timur (Origin)          KG10: TTDI (Destination)   \n",
       "4  AG01: Sentul Timur (Origin)    KG16: Pasar Seni (Destination)   \n",
       "\n",
       "   total_passengers  \n",
       "0           94697.0  \n",
       "1            9075.0  \n",
       "2            2906.0  \n",
       "3            4501.0  \n",
       "4            2310.0  "
      ],
      "text/html": [
       "<div>\n",
       "<style scoped>\n",
       "    .dataframe tbody tr th:only-of-type {\n",
       "        vertical-align: middle;\n",
       "    }\n",
       "\n",
       "    .dataframe tbody tr th {\n",
       "        vertical-align: top;\n",
       "    }\n",
       "\n",
       "    .dataframe thead th {\n",
       "        text-align: right;\n",
       "    }\n",
       "</style>\n",
       "<table border=\"1\" class=\"dataframe\">\n",
       "  <thead>\n",
       "    <tr style=\"text-align: right;\">\n",
       "      <th></th>\n",
       "      <th>train_origin</th>\n",
       "      <th>train_destination</th>\n",
       "      <th>total_passengers</th>\n",
       "    </tr>\n",
       "  </thead>\n",
       "  <tbody>\n",
       "    <tr>\n",
       "      <th>0</th>\n",
       "      <td>AG01: Sentul Timur (Origin)</td>\n",
       "      <td>AG03: Titiwangsa (Destination)</td>\n",
       "      <td>94697.0</td>\n",
       "    </tr>\n",
       "    <tr>\n",
       "      <th>1</th>\n",
       "      <td>AG01: Sentul Timur (Origin)</td>\n",
       "      <td>AG13: Maluri (Destination)</td>\n",
       "      <td>9075.0</td>\n",
       "    </tr>\n",
       "    <tr>\n",
       "      <th>2</th>\n",
       "      <td>AG01: Sentul Timur (Origin)</td>\n",
       "      <td>AG15: Pandan Indah (Destination)</td>\n",
       "      <td>2906.0</td>\n",
       "    </tr>\n",
       "    <tr>\n",
       "      <th>3</th>\n",
       "      <td>AG01: Sentul Timur (Origin)</td>\n",
       "      <td>KG10: TTDI (Destination)</td>\n",
       "      <td>4501.0</td>\n",
       "    </tr>\n",
       "    <tr>\n",
       "      <th>4</th>\n",
       "      <td>AG01: Sentul Timur (Origin)</td>\n",
       "      <td>KG16: Pasar Seni (Destination)</td>\n",
       "      <td>2310.0</td>\n",
       "    </tr>\n",
       "  </tbody>\n",
       "</table>\n",
       "</div>"
      ]
     },
     "execution_count": 4,
     "metadata": {},
     "output_type": "execute_result"
    }
   ],
   "execution_count": 4
  },
  {
   "cell_type": "code",
   "metadata": {
    "ExecuteTime": {
     "end_time": "2024-07-28T15:45:35.875551Z",
     "start_time": "2024-07-28T15:45:35.834602Z"
    }
   },
   "source": [
    "df1 = duckdb.sql(\"\"\"\n",
    "           SELECT *\n",
    "           FROM df1\n",
    "           ORDER BY total_passengers desc\n",
    "           LIMIT 30\n",
    "           \n",
    "           \"\"\").df()"
   ],
   "outputs": [],
   "execution_count": 5
  },
  {
   "cell_type": "code",
   "metadata": {
    "ExecuteTime": {
     "end_time": "2024-07-28T15:46:10.904157Z",
     "start_time": "2024-07-28T15:46:10.873785Z"
    }
   },
   "source": [
    "#for using with 'label' parameter in plotly \n",
    "#https://sparkbyexamples.com/pandas/pandas-find-unique-values-from-columns\n",
    "unique_source_target = list(pd.unique(df1[['train_origin', 'train_destination']].values.ravel('K')))\n",
    "\n",
    "link_opacity = 0.3  # Set a value from 0 to 1: the lower, the more transparent the links\n",
    "\n",
    "# Define a list of hex color codes for nodes\n",
    "node_colors = px.colors.qualitative.G10  \n",
    "\n",
    "# Convert list of colors to RGB format to override default gray link colors\n",
    "colors = [matplotlib.colors.to_rgb(i) for i in node_colors]  \n",
    "\n",
    "# Create objects to hold node/label and link colors\n",
    "label_colors, df1[\"link_c\"] = [], str(0)\n",
    "\n",
    "# Loop through all the labels to specify color and to use label indices\n",
    "c, max_colors = 0, len(colors)  # To loop through the colors array\n",
    "for l in range(len(unique_source_target)):\n",
    "    label_colors.append(colors[c])\n",
    "    link_color = colors[c] + (link_opacity,)  # Make link more transparent than the node\n",
    "    df1.loc[df1['train_origin'] == unique_source_target[l], \"link_c\"] = \"rgba\" + str(link_color)\n",
    "    # df1 = df1.replace({unique_source_target[l]: l})  # Replace node labels with the label's index\n",
    "    if c == max_colors - 1:\n",
    "        c = 0\n",
    "    else:\n",
    "        c += 1\n",
    "\n",
    "# Convert colors into RGB string format for Plotly\n",
    "label_colors = [\"rgb\" + str(i) for i in label_colors]\n",
    "\n",
    "#converting full dataframe as list for using with in plotly\n",
    "links_dict = df1.to_dict(orient='list')\n",
    "\n",
    "\n",
    "#for assigning unique number to each source and target\n",
    "mapping_dict = {k: v for v, k in enumerate(unique_source_target)}\n",
    "\n",
    "#mapping of full data\n",
    "df1['train_origin'] = df1['train_origin'].map(mapping_dict)\n",
    "df1['train_destination'] = df1['train_destination'].map(mapping_dict)\n",
    "\n",
    "\n",
    "links_dict = df1.to_dict(orient='list')"
   ],
   "outputs": [],
   "execution_count": 6
  },
  {
   "cell_type": "code",
   "metadata": {
    "ExecuteTime": {
     "end_time": "2024-07-28T15:46:15.304564Z",
     "start_time": "2024-07-28T15:46:15.261247Z"
    }
   },
   "source": [
    "\n",
    "#Sankey Diagram Code \n",
    "fig = go.Figure(data=[go.Sankey(\n",
    "    arrangement = \"snap\",\n",
    "    node = dict(\n",
    "      pad = 25,\n",
    "      thickness = 50,\n",
    "      line = dict(color = \"black\", width = 0.7),\n",
    "      label = unique_source_target,\n",
    "      color = label_colors\n",
    "      \n",
    "    ),\n",
    "    link = dict(\n",
    "      arrowlen=15,\n",
    "      source = links_dict[\"train_origin\"],\n",
    "      target = links_dict[\"train_destination\"],\n",
    "      value = links_dict[\"total_passengers\"],\n",
    "      color = links_dict[\"link_c\"]\n",
    "  \n",
    "  ))])\n",
    "\n",
    "fig.update_layout(title_text=\"Total Passengers To-From Stations\")\n",
    "\n",
    "# fig.update_traces(node_color = color_for_nodes, link_color = color_for_links)\n",
    "fig.show()"
   ],
   "outputs": [
    {
     "data": {
      "application/vnd.plotly.v1+json": {
       "data": [
        {
         "arrangement": "snap",
         "link": {
          "arrowlen": 15,
          "color": [
           "rgba(0.2, 0.4, 0.8, 0.3)",
           "rgba(0.8627450980392157, 0.2235294117647059, 0.07058823529411765, 0.3)",
           "rgba(0.8627450980392157, 0.2235294117647059, 0.07058823529411765, 0.3)",
           "rgba(1.0, 0.6, 0.0, 0.3)",
           "rgba(0.06274509803921569, 0.5882352941176471, 0.09411764705882353, 0.3)",
           "rgba(0.6, 0.0, 0.6, 0.3)",
           "rgba(0.0, 0.6, 0.7764705882352941, 0.3)",
           "rgba(0.8666666666666667, 0.26666666666666666, 0.4666666666666667, 0.3)",
           "rgba(1.0, 0.6, 0.0, 0.3)",
           "rgba(0.4, 0.6666666666666666, 0.0, 0.3)",
           "rgba(0.7215686274509804, 0.1803921568627451, 0.1803921568627451, 0.3)",
           "rgba(0.2, 0.4, 0.8, 0.3)",
           "rgba(0.19215686274509805, 0.38823529411764707, 0.5843137254901961, 0.3)",
           "rgba(0.8627450980392157, 0.2235294117647059, 0.07058823529411765, 0.3)",
           "rgba(0.06274509803921569, 0.5882352941176471, 0.09411764705882353, 0.3)",
           "rgba(0.2, 0.4, 0.8, 0.3)",
           "rgba(0.06274509803921569, 0.5882352941176471, 0.09411764705882353, 0.3)",
           "rgba(0.8627450980392157, 0.2235294117647059, 0.07058823529411765, 0.3)",
           "rgba(0.2, 0.4, 0.8, 0.3)",
           "rgba(0.4, 0.6666666666666666, 0.0, 0.3)",
           "rgba(0.19215686274509805, 0.38823529411764707, 0.5843137254901961, 0.3)",
           "rgba(1.0, 0.6, 0.0, 0.3)",
           "rgba(0.06274509803921569, 0.5882352941176471, 0.09411764705882353, 0.3)",
           "rgba(0.2, 0.4, 0.8, 0.3)",
           "rgba(0.2, 0.4, 0.8, 0.3)",
           "rgba(0.6, 0.0, 0.6, 0.3)",
           "rgba(0.0, 0.6, 0.7764705882352941, 0.3)",
           "rgba(0.8666666666666667, 0.26666666666666666, 0.4666666666666667, 0.3)",
           "rgba(0.8627450980392157, 0.2235294117647059, 0.07058823529411765, 0.3)",
           "rgba(0.8666666666666667, 0.26666666666666666, 0.4666666666666667, 0.3)"
          ],
          "source": [
           0,
           1,
           1,
           2,
           3,
           4,
           5,
           6,
           2,
           7,
           8,
           0,
           9,
           1,
           3,
           10,
           3,
           11,
           0,
           7,
           9,
           12,
           13,
           0,
           0,
           14,
           15,
           6,
           11,
           16
          ],
          "target": [
           17,
           18,
           19,
           17,
           20,
           21,
           21,
           22,
           23,
           18,
           19,
           24,
           25,
           23,
           26,
           22,
           27,
           22,
           28,
           17,
           29,
           19,
           19,
           30,
           31,
           21,
           22,
           32,
           25,
           19
          ],
          "value": [
           1154165.0,
           1125131.0,
           1063458.0,
           1006173.0,
           924038.0,
           868185.0,
           839255.0,
           796578.0,
           756580.0,
           745867.0,
           737455.0,
           727013.0,
           720124.0,
           716788.0,
           701731.0,
           697918.0,
           679724.0,
           671287.0,
           669424.0,
           653145.0,
           652225.0,
           650482.0,
           640494.0,
           632245.0,
           623588.0,
           617203.0,
           606225.0,
           603795.0,
           594509.0,
           588909.0
          ]
         },
         "node": {
          "color": [
           "rgb(0.2, 0.4, 0.8)",
           "rgb(0.8627450980392157, 0.2235294117647059, 0.07058823529411765)",
           "rgb(1.0, 0.6, 0.0)",
           "rgb(0.06274509803921569, 0.5882352941176471, 0.09411764705882353)",
           "rgb(0.6, 0.0, 0.6)",
           "rgb(0.0, 0.6, 0.7764705882352941)",
           "rgb(0.8666666666666667, 0.26666666666666666, 0.4666666666666667)",
           "rgb(0.4, 0.6666666666666666, 0.0)",
           "rgb(0.7215686274509804, 0.1803921568627451, 0.1803921568627451)",
           "rgb(0.19215686274509805, 0.38823529411764707, 0.5843137254901961)",
           "rgb(0.2, 0.4, 0.8)",
           "rgb(0.8627450980392157, 0.2235294117647059, 0.07058823529411765)",
           "rgb(1.0, 0.6, 0.0)",
           "rgb(0.06274509803921569, 0.5882352941176471, 0.09411764705882353)",
           "rgb(0.6, 0.0, 0.6)",
           "rgb(0.0, 0.6, 0.7764705882352941)",
           "rgb(0.8666666666666667, 0.26666666666666666, 0.4666666666666667)",
           "rgb(0.4, 0.6666666666666666, 0.0)",
           "rgb(0.7215686274509804, 0.1803921568627451, 0.1803921568627451)",
           "rgb(0.19215686274509805, 0.38823529411764707, 0.5843137254901961)",
           "rgb(0.2, 0.4, 0.8)",
           "rgb(0.8627450980392157, 0.2235294117647059, 0.07058823529411765)",
           "rgb(1.0, 0.6, 0.0)",
           "rgb(0.06274509803921569, 0.5882352941176471, 0.09411764705882353)",
           "rgb(0.6, 0.0, 0.6)",
           "rgb(0.0, 0.6, 0.7764705882352941)",
           "rgb(0.8666666666666667, 0.26666666666666666, 0.4666666666666667)",
           "rgb(0.4, 0.6666666666666666, 0.0)",
           "rgb(0.7215686274509804, 0.1803921568627451, 0.1803921568627451)",
           "rgb(0.19215686274509805, 0.38823529411764707, 0.5843137254901961)",
           "rgb(0.2, 0.4, 0.8)",
           "rgb(0.8627450980392157, 0.2235294117647059, 0.07058823529411765)",
           "rgb(1.0, 0.6, 0.0)"
          ],
          "label": [
           "KJ15: KL Sentral (Origin)",
           "KJ10: KLCC (Origin)",
           "KJ09: Ampang Park (Origin)",
           "KG18: Bukit Bintang (Origin)",
           "KG22: Maluri (Origin)",
           "KG20: Tun Razak Exchange (Origin)",
           "MR01: KL Sentral (Origin)",
           "KJ03: Wangsa Maju (Origin)",
           "KJ16: Bank Rakyat Bangsar (Origin)",
           "MR06: Bukit Bintang (Origin)",
           "MR10: Chow Kit (Origin)",
           "MR05: Imbi (Origin)",
           "KJ17: Abdullah Hukum (Origin)",
           "KJ14: Pasar Seni (Origin)",
           "KG21: Cochrane (Origin)",
           "MR08: Bukit Nanas (Origin)",
           "KJ19: Universiti (Origin)",
           "KJ10: KLCC (Destination)",
           "KJ09: Ampang Park (Destination)",
           "KJ15: KL Sentral (Destination)",
           "KG22: Maluri (Destination)",
           "KG18: Bukit Bintang (Destination)",
           "MR06: Bukit Bintang (Destination)",
           "KJ03: Wangsa Maju (Destination)",
           "KJ16: Bank Rakyat Bangsar (Destination)",
           "MR01: KL Sentral (Destination)",
           "KG20: Tun Razak Exchange (Destination)",
           "KG21: Cochrane (Destination)",
           "KJ17: Abdullah Hukum (Destination)",
           "MR10: Chow Kit (Destination)",
           "KJ19: Universiti (Destination)",
           "KJ14: Pasar Seni (Destination)",
           "MR05: Imbi (Destination)"
          ],
          "line": {
           "color": "black",
           "width": 0.7
          },
          "pad": 25,
          "thickness": 50
         },
         "type": "sankey"
        }
       ],
       "layout": {
        "template": {
         "data": {
          "histogram2dcontour": [
           {
            "type": "histogram2dcontour",
            "colorbar": {
             "outlinewidth": 0,
             "ticks": ""
            },
            "colorscale": [
             [
              0.0,
              "#0d0887"
             ],
             [
              0.1111111111111111,
              "#46039f"
             ],
             [
              0.2222222222222222,
              "#7201a8"
             ],
             [
              0.3333333333333333,
              "#9c179e"
             ],
             [
              0.4444444444444444,
              "#bd3786"
             ],
             [
              0.5555555555555556,
              "#d8576b"
             ],
             [
              0.6666666666666666,
              "#ed7953"
             ],
             [
              0.7777777777777778,
              "#fb9f3a"
             ],
             [
              0.8888888888888888,
              "#fdca26"
             ],
             [
              1.0,
              "#f0f921"
             ]
            ]
           }
          ],
          "choropleth": [
           {
            "type": "choropleth",
            "colorbar": {
             "outlinewidth": 0,
             "ticks": ""
            }
           }
          ],
          "histogram2d": [
           {
            "type": "histogram2d",
            "colorbar": {
             "outlinewidth": 0,
             "ticks": ""
            },
            "colorscale": [
             [
              0.0,
              "#0d0887"
             ],
             [
              0.1111111111111111,
              "#46039f"
             ],
             [
              0.2222222222222222,
              "#7201a8"
             ],
             [
              0.3333333333333333,
              "#9c179e"
             ],
             [
              0.4444444444444444,
              "#bd3786"
             ],
             [
              0.5555555555555556,
              "#d8576b"
             ],
             [
              0.6666666666666666,
              "#ed7953"
             ],
             [
              0.7777777777777778,
              "#fb9f3a"
             ],
             [
              0.8888888888888888,
              "#fdca26"
             ],
             [
              1.0,
              "#f0f921"
             ]
            ]
           }
          ],
          "heatmap": [
           {
            "type": "heatmap",
            "colorbar": {
             "outlinewidth": 0,
             "ticks": ""
            },
            "colorscale": [
             [
              0.0,
              "#0d0887"
             ],
             [
              0.1111111111111111,
              "#46039f"
             ],
             [
              0.2222222222222222,
              "#7201a8"
             ],
             [
              0.3333333333333333,
              "#9c179e"
             ],
             [
              0.4444444444444444,
              "#bd3786"
             ],
             [
              0.5555555555555556,
              "#d8576b"
             ],
             [
              0.6666666666666666,
              "#ed7953"
             ],
             [
              0.7777777777777778,
              "#fb9f3a"
             ],
             [
              0.8888888888888888,
              "#fdca26"
             ],
             [
              1.0,
              "#f0f921"
             ]
            ]
           }
          ],
          "heatmapgl": [
           {
            "type": "heatmapgl",
            "colorbar": {
             "outlinewidth": 0,
             "ticks": ""
            },
            "colorscale": [
             [
              0.0,
              "#0d0887"
             ],
             [
              0.1111111111111111,
              "#46039f"
             ],
             [
              0.2222222222222222,
              "#7201a8"
             ],
             [
              0.3333333333333333,
              "#9c179e"
             ],
             [
              0.4444444444444444,
              "#bd3786"
             ],
             [
              0.5555555555555556,
              "#d8576b"
             ],
             [
              0.6666666666666666,
              "#ed7953"
             ],
             [
              0.7777777777777778,
              "#fb9f3a"
             ],
             [
              0.8888888888888888,
              "#fdca26"
             ],
             [
              1.0,
              "#f0f921"
             ]
            ]
           }
          ],
          "contourcarpet": [
           {
            "type": "contourcarpet",
            "colorbar": {
             "outlinewidth": 0,
             "ticks": ""
            }
           }
          ],
          "contour": [
           {
            "type": "contour",
            "colorbar": {
             "outlinewidth": 0,
             "ticks": ""
            },
            "colorscale": [
             [
              0.0,
              "#0d0887"
             ],
             [
              0.1111111111111111,
              "#46039f"
             ],
             [
              0.2222222222222222,
              "#7201a8"
             ],
             [
              0.3333333333333333,
              "#9c179e"
             ],
             [
              0.4444444444444444,
              "#bd3786"
             ],
             [
              0.5555555555555556,
              "#d8576b"
             ],
             [
              0.6666666666666666,
              "#ed7953"
             ],
             [
              0.7777777777777778,
              "#fb9f3a"
             ],
             [
              0.8888888888888888,
              "#fdca26"
             ],
             [
              1.0,
              "#f0f921"
             ]
            ]
           }
          ],
          "surface": [
           {
            "type": "surface",
            "colorbar": {
             "outlinewidth": 0,
             "ticks": ""
            },
            "colorscale": [
             [
              0.0,
              "#0d0887"
             ],
             [
              0.1111111111111111,
              "#46039f"
             ],
             [
              0.2222222222222222,
              "#7201a8"
             ],
             [
              0.3333333333333333,
              "#9c179e"
             ],
             [
              0.4444444444444444,
              "#bd3786"
             ],
             [
              0.5555555555555556,
              "#d8576b"
             ],
             [
              0.6666666666666666,
              "#ed7953"
             ],
             [
              0.7777777777777778,
              "#fb9f3a"
             ],
             [
              0.8888888888888888,
              "#fdca26"
             ],
             [
              1.0,
              "#f0f921"
             ]
            ]
           }
          ],
          "mesh3d": [
           {
            "type": "mesh3d",
            "colorbar": {
             "outlinewidth": 0,
             "ticks": ""
            }
           }
          ],
          "scatter": [
           {
            "marker": {
             "line": {
              "color": "#283442"
             }
            },
            "type": "scatter"
           }
          ],
          "parcoords": [
           {
            "type": "parcoords",
            "line": {
             "colorbar": {
              "outlinewidth": 0,
              "ticks": ""
             }
            }
           }
          ],
          "scatterpolargl": [
           {
            "type": "scatterpolargl",
            "marker": {
             "colorbar": {
              "outlinewidth": 0,
              "ticks": ""
             }
            }
           }
          ],
          "bar": [
           {
            "error_x": {
             "color": "#f2f5fa"
            },
            "error_y": {
             "color": "#f2f5fa"
            },
            "marker": {
             "line": {
              "color": "rgb(17,17,17)",
              "width": 0.5
             },
             "pattern": {
              "fillmode": "overlay",
              "size": 10,
              "solidity": 0.2
             }
            },
            "type": "bar"
           }
          ],
          "scattergeo": [
           {
            "type": "scattergeo",
            "marker": {
             "colorbar": {
              "outlinewidth": 0,
              "ticks": ""
             }
            }
           }
          ],
          "scatterpolar": [
           {
            "type": "scatterpolar",
            "marker": {
             "colorbar": {
              "outlinewidth": 0,
              "ticks": ""
             }
            }
           }
          ],
          "histogram": [
           {
            "marker": {
             "pattern": {
              "fillmode": "overlay",
              "size": 10,
              "solidity": 0.2
             }
            },
            "type": "histogram"
           }
          ],
          "scattergl": [
           {
            "marker": {
             "line": {
              "color": "#283442"
             }
            },
            "type": "scattergl"
           }
          ],
          "scatter3d": [
           {
            "type": "scatter3d",
            "line": {
             "colorbar": {
              "outlinewidth": 0,
              "ticks": ""
             }
            },
            "marker": {
             "colorbar": {
              "outlinewidth": 0,
              "ticks": ""
             }
            }
           }
          ],
          "scattermapbox": [
           {
            "type": "scattermapbox",
            "marker": {
             "colorbar": {
              "outlinewidth": 0,
              "ticks": ""
             }
            }
           }
          ],
          "scatterternary": [
           {
            "type": "scatterternary",
            "marker": {
             "colorbar": {
              "outlinewidth": 0,
              "ticks": ""
             }
            }
           }
          ],
          "scattercarpet": [
           {
            "type": "scattercarpet",
            "marker": {
             "colorbar": {
              "outlinewidth": 0,
              "ticks": ""
             }
            }
           }
          ],
          "carpet": [
           {
            "aaxis": {
             "endlinecolor": "#A2B1C6",
             "gridcolor": "#506784",
             "linecolor": "#506784",
             "minorgridcolor": "#506784",
             "startlinecolor": "#A2B1C6"
            },
            "baxis": {
             "endlinecolor": "#A2B1C6",
             "gridcolor": "#506784",
             "linecolor": "#506784",
             "minorgridcolor": "#506784",
             "startlinecolor": "#A2B1C6"
            },
            "type": "carpet"
           }
          ],
          "table": [
           {
            "cells": {
             "fill": {
              "color": "#506784"
             },
             "line": {
              "color": "rgb(17,17,17)"
             }
            },
            "header": {
             "fill": {
              "color": "#2a3f5f"
             },
             "line": {
              "color": "rgb(17,17,17)"
             }
            },
            "type": "table"
           }
          ],
          "barpolar": [
           {
            "marker": {
             "line": {
              "color": "rgb(17,17,17)",
              "width": 0.5
             },
             "pattern": {
              "fillmode": "overlay",
              "size": 10,
              "solidity": 0.2
             }
            },
            "type": "barpolar"
           }
          ],
          "pie": [
           {
            "automargin": true,
            "type": "pie"
           }
          ]
         },
         "layout": {
          "autotypenumbers": "strict",
          "colorway": [
           "#636efa",
           "#EF553B",
           "#00cc96",
           "#ab63fa",
           "#FFA15A",
           "#19d3f3",
           "#FF6692",
           "#B6E880",
           "#FF97FF",
           "#FECB52"
          ],
          "font": {
           "color": "#f2f5fa"
          },
          "hovermode": "closest",
          "hoverlabel": {
           "align": "left"
          },
          "paper_bgcolor": "rgb(17,17,17)",
          "plot_bgcolor": "rgb(17,17,17)",
          "polar": {
           "bgcolor": "rgb(17,17,17)",
           "angularaxis": {
            "gridcolor": "#506784",
            "linecolor": "#506784",
            "ticks": ""
           },
           "radialaxis": {
            "gridcolor": "#506784",
            "linecolor": "#506784",
            "ticks": ""
           }
          },
          "ternary": {
           "bgcolor": "rgb(17,17,17)",
           "aaxis": {
            "gridcolor": "#506784",
            "linecolor": "#506784",
            "ticks": ""
           },
           "baxis": {
            "gridcolor": "#506784",
            "linecolor": "#506784",
            "ticks": ""
           },
           "caxis": {
            "gridcolor": "#506784",
            "linecolor": "#506784",
            "ticks": ""
           }
          },
          "coloraxis": {
           "colorbar": {
            "outlinewidth": 0,
            "ticks": ""
           }
          },
          "colorscale": {
           "sequential": [
            [
             0.0,
             "#0d0887"
            ],
            [
             0.1111111111111111,
             "#46039f"
            ],
            [
             0.2222222222222222,
             "#7201a8"
            ],
            [
             0.3333333333333333,
             "#9c179e"
            ],
            [
             0.4444444444444444,
             "#bd3786"
            ],
            [
             0.5555555555555556,
             "#d8576b"
            ],
            [
             0.6666666666666666,
             "#ed7953"
            ],
            [
             0.7777777777777778,
             "#fb9f3a"
            ],
            [
             0.8888888888888888,
             "#fdca26"
            ],
            [
             1.0,
             "#f0f921"
            ]
           ],
           "sequentialminus": [
            [
             0.0,
             "#0d0887"
            ],
            [
             0.1111111111111111,
             "#46039f"
            ],
            [
             0.2222222222222222,
             "#7201a8"
            ],
            [
             0.3333333333333333,
             "#9c179e"
            ],
            [
             0.4444444444444444,
             "#bd3786"
            ],
            [
             0.5555555555555556,
             "#d8576b"
            ],
            [
             0.6666666666666666,
             "#ed7953"
            ],
            [
             0.7777777777777778,
             "#fb9f3a"
            ],
            [
             0.8888888888888888,
             "#fdca26"
            ],
            [
             1.0,
             "#f0f921"
            ]
           ],
           "diverging": [
            [
             0,
             "#8e0152"
            ],
            [
             0.1,
             "#c51b7d"
            ],
            [
             0.2,
             "#de77ae"
            ],
            [
             0.3,
             "#f1b6da"
            ],
            [
             0.4,
             "#fde0ef"
            ],
            [
             0.5,
             "#f7f7f7"
            ],
            [
             0.6,
             "#e6f5d0"
            ],
            [
             0.7,
             "#b8e186"
            ],
            [
             0.8,
             "#7fbc41"
            ],
            [
             0.9,
             "#4d9221"
            ],
            [
             1,
             "#276419"
            ]
           ]
          },
          "xaxis": {
           "gridcolor": "#283442",
           "linecolor": "#506784",
           "ticks": "",
           "title": {
            "standoff": 15
           },
           "zerolinecolor": "#283442",
           "automargin": true,
           "zerolinewidth": 2
          },
          "yaxis": {
           "gridcolor": "#283442",
           "linecolor": "#506784",
           "ticks": "",
           "title": {
            "standoff": 15
           },
           "zerolinecolor": "#283442",
           "automargin": true,
           "zerolinewidth": 2
          },
          "scene": {
           "xaxis": {
            "backgroundcolor": "rgb(17,17,17)",
            "gridcolor": "#506784",
            "linecolor": "#506784",
            "showbackground": true,
            "ticks": "",
            "zerolinecolor": "#C8D4E3",
            "gridwidth": 2
           },
           "yaxis": {
            "backgroundcolor": "rgb(17,17,17)",
            "gridcolor": "#506784",
            "linecolor": "#506784",
            "showbackground": true,
            "ticks": "",
            "zerolinecolor": "#C8D4E3",
            "gridwidth": 2
           },
           "zaxis": {
            "backgroundcolor": "rgb(17,17,17)",
            "gridcolor": "#506784",
            "linecolor": "#506784",
            "showbackground": true,
            "ticks": "",
            "zerolinecolor": "#C8D4E3",
            "gridwidth": 2
           }
          },
          "shapedefaults": {
           "line": {
            "color": "#f2f5fa"
           }
          },
          "annotationdefaults": {
           "arrowcolor": "#f2f5fa",
           "arrowhead": 0,
           "arrowwidth": 1
          },
          "geo": {
           "bgcolor": "rgb(17,17,17)",
           "landcolor": "rgb(17,17,17)",
           "subunitcolor": "#506784",
           "showland": true,
           "showlakes": true,
           "lakecolor": "rgb(17,17,17)"
          },
          "title": {
           "x": 0.05
          },
          "updatemenudefaults": {
           "bgcolor": "#506784",
           "borderwidth": 0
          },
          "sliderdefaults": {
           "bgcolor": "#C8D4E3",
           "borderwidth": 1,
           "bordercolor": "rgb(17,17,17)",
           "tickwidth": 0
          },
          "mapbox": {
           "style": "dark"
          }
         }
        },
        "title": {
         "text": "Total Passengers To-From Stations"
        }
       },
       "config": {
        "plotlyServerURL": "https://plot.ly"
       }
      }
     },
     "metadata": {},
     "output_type": "display_data"
    }
   ],
   "execution_count": 7
  },
  {
   "cell_type": "code",
   "execution_count": 17,
   "metadata": {},
   "outputs": [],
   "source": [
    "# !pip install --upgrade nbformat"
   ]
  },
  {
   "cell_type": "markdown",
   "metadata": {},
   "source": [
    "## Plotting Passenger Growth Over Time"
   ]
  },
  {
   "cell_type": "code",
   "metadata": {
    "ExecuteTime": {
     "end_time": "2024-07-28T15:49:07.315623Z",
     "start_time": "2024-07-28T15:49:07.123790Z"
    }
   },
   "source": [
    "df2 = duckdb.sql(\"\"\"\n",
    "            SELECT \n",
    "                concat(origin, ' (Origin)') as train_origin, \n",
    "                date,\n",
    "                SUM(passengers) as total_passengers\n",
    "            FROM df_\n",
    "            WHERE origin <> destination\n",
    "               AND origin not ilike '%all station%'\n",
    "               AND destination not ilike '%all station%'\n",
    "               AND frequency = 'daily'\n",
    "               and date > '2023-07-01'\n",
    "               and date < '2024-08-01'\n",
    "               and origin not like '%BRT%'\n",
    "           GROUP BY ALL\n",
    "\n",
    "           \"\"\").df()\n",
    "\n",
    "df2['line_name'] = [x[:2] for x in df2['train_origin']]"
   ],
   "outputs": [],
   "execution_count": 12
  },
  {
   "cell_type": "code",
   "metadata": {
    "ExecuteTime": {
     "end_time": "2024-07-28T15:49:12.170401Z",
     "start_time": "2024-07-28T15:49:12.152586Z"
    }
   },
   "source": [
    "df2 = duckdb.sql(\"\"\"\n",
    "            SELECT \n",
    "                *,\n",
    "                CASE \n",
    "                    WHEN LAG(total_passengers) OVER(PARTITION BY train_origin ORDER BY date ASC) IS NULL THEN 0\n",
    "                    ELSE ROUND( (LAG(total_passengers) OVER(PARTITION BY train_origin ORDER BY date ASC) - total_passengers  )  * 100 / total_passengers , 2)\n",
    "                    END AS mom_passenger_change\n",
    "            FROM df2\n",
    "\n",
    "           \"\"\").df()\n",
    "\n",
    "df2.head(10)"
   ],
   "outputs": [
    {
     "data": {
      "text/plain": [
       "                       train_origin       date  total_passengers line_name  \\\n",
       "0  KG08: Mutiara Damansara (Origin) 2024-06-01            5232.0        KG   \n",
       "1  KG08: Mutiara Damansara (Origin) 2024-06-02            3359.0        KG   \n",
       "2  KG08: Mutiara Damansara (Origin) 2024-06-03            2987.0        KG   \n",
       "3  KG08: Mutiara Damansara (Origin) 2024-06-04            5165.0        KG   \n",
       "4  KG08: Mutiara Damansara (Origin) 2024-06-05            5358.0        KG   \n",
       "5  KG08: Mutiara Damansara (Origin) 2024-06-06            5126.0        KG   \n",
       "6  KG08: Mutiara Damansara (Origin) 2024-06-07            5257.0        KG   \n",
       "7  KG08: Mutiara Damansara (Origin) 2024-06-08            3516.0        KG   \n",
       "8  KG08: Mutiara Damansara (Origin) 2024-06-09            3203.0        KG   \n",
       "9  KG08: Mutiara Damansara (Origin) 2024-06-10            5213.0        KG   \n",
       "\n",
       "   mom_passenger_change  \n",
       "0                  0.00  \n",
       "1                 55.76  \n",
       "2                 12.45  \n",
       "3                -42.17  \n",
       "4                 -3.60  \n",
       "5                  4.53  \n",
       "6                 -2.49  \n",
       "7                 49.52  \n",
       "8                  9.77  \n",
       "9                -38.56  "
      ],
      "text/html": [
       "<div>\n",
       "<style scoped>\n",
       "    .dataframe tbody tr th:only-of-type {\n",
       "        vertical-align: middle;\n",
       "    }\n",
       "\n",
       "    .dataframe tbody tr th {\n",
       "        vertical-align: top;\n",
       "    }\n",
       "\n",
       "    .dataframe thead th {\n",
       "        text-align: right;\n",
       "    }\n",
       "</style>\n",
       "<table border=\"1\" class=\"dataframe\">\n",
       "  <thead>\n",
       "    <tr style=\"text-align: right;\">\n",
       "      <th></th>\n",
       "      <th>train_origin</th>\n",
       "      <th>date</th>\n",
       "      <th>total_passengers</th>\n",
       "      <th>line_name</th>\n",
       "      <th>mom_passenger_change</th>\n",
       "    </tr>\n",
       "  </thead>\n",
       "  <tbody>\n",
       "    <tr>\n",
       "      <th>0</th>\n",
       "      <td>KG08: Mutiara Damansara (Origin)</td>\n",
       "      <td>2024-06-01</td>\n",
       "      <td>5232.0</td>\n",
       "      <td>KG</td>\n",
       "      <td>0.00</td>\n",
       "    </tr>\n",
       "    <tr>\n",
       "      <th>1</th>\n",
       "      <td>KG08: Mutiara Damansara (Origin)</td>\n",
       "      <td>2024-06-02</td>\n",
       "      <td>3359.0</td>\n",
       "      <td>KG</td>\n",
       "      <td>55.76</td>\n",
       "    </tr>\n",
       "    <tr>\n",
       "      <th>2</th>\n",
       "      <td>KG08: Mutiara Damansara (Origin)</td>\n",
       "      <td>2024-06-03</td>\n",
       "      <td>2987.0</td>\n",
       "      <td>KG</td>\n",
       "      <td>12.45</td>\n",
       "    </tr>\n",
       "    <tr>\n",
       "      <th>3</th>\n",
       "      <td>KG08: Mutiara Damansara (Origin)</td>\n",
       "      <td>2024-06-04</td>\n",
       "      <td>5165.0</td>\n",
       "      <td>KG</td>\n",
       "      <td>-42.17</td>\n",
       "    </tr>\n",
       "    <tr>\n",
       "      <th>4</th>\n",
       "      <td>KG08: Mutiara Damansara (Origin)</td>\n",
       "      <td>2024-06-05</td>\n",
       "      <td>5358.0</td>\n",
       "      <td>KG</td>\n",
       "      <td>-3.60</td>\n",
       "    </tr>\n",
       "    <tr>\n",
       "      <th>5</th>\n",
       "      <td>KG08: Mutiara Damansara (Origin)</td>\n",
       "      <td>2024-06-06</td>\n",
       "      <td>5126.0</td>\n",
       "      <td>KG</td>\n",
       "      <td>4.53</td>\n",
       "    </tr>\n",
       "    <tr>\n",
       "      <th>6</th>\n",
       "      <td>KG08: Mutiara Damansara (Origin)</td>\n",
       "      <td>2024-06-07</td>\n",
       "      <td>5257.0</td>\n",
       "      <td>KG</td>\n",
       "      <td>-2.49</td>\n",
       "    </tr>\n",
       "    <tr>\n",
       "      <th>7</th>\n",
       "      <td>KG08: Mutiara Damansara (Origin)</td>\n",
       "      <td>2024-06-08</td>\n",
       "      <td>3516.0</td>\n",
       "      <td>KG</td>\n",
       "      <td>49.52</td>\n",
       "    </tr>\n",
       "    <tr>\n",
       "      <th>8</th>\n",
       "      <td>KG08: Mutiara Damansara (Origin)</td>\n",
       "      <td>2024-06-09</td>\n",
       "      <td>3203.0</td>\n",
       "      <td>KG</td>\n",
       "      <td>9.77</td>\n",
       "    </tr>\n",
       "    <tr>\n",
       "      <th>9</th>\n",
       "      <td>KG08: Mutiara Damansara (Origin)</td>\n",
       "      <td>2024-06-10</td>\n",
       "      <td>5213.0</td>\n",
       "      <td>KG</td>\n",
       "      <td>-38.56</td>\n",
       "    </tr>\n",
       "  </tbody>\n",
       "</table>\n",
       "</div>"
      ]
     },
     "execution_count": 13,
     "metadata": {},
     "output_type": "execute_result"
    }
   ],
   "execution_count": 13
  },
  {
   "cell_type": "code",
   "metadata": {
    "ExecuteTime": {
     "end_time": "2024-07-28T15:49:23.072431Z",
     "start_time": "2024-07-28T15:49:23.068422Z"
    }
   },
   "source": [
    "import seaborn as sns\n",
    "import matplotlib.pyplot as plt"
   ],
   "outputs": [],
   "execution_count": 14
  },
  {
   "cell_type": "code",
   "metadata": {
    "ExecuteTime": {
     "end_time": "2024-07-28T15:49:25.459844Z",
     "start_time": "2024-07-28T15:49:25.438997Z"
    }
   },
   "source": [
    "df2[df2['line_name'] == 'AG']"
   ],
   "outputs": [
    {
     "data": {
      "text/plain": [
       "                     train_origin       date  total_passengers line_name  \\\n",
       "912   AG15: Pandan Indah (Origin) 2024-06-01            2021.0        AG   \n",
       "913   AG15: Pandan Indah (Origin) 2024-06-02            1641.0        AG   \n",
       "914   AG15: Pandan Indah (Origin) 2024-06-03            1448.0        AG   \n",
       "915   AG15: Pandan Indah (Origin) 2024-06-04            2560.0        AG   \n",
       "916   AG15: Pandan Indah (Origin) 2024-06-05            2628.0        AG   \n",
       "...                           ...        ...               ...       ...   \n",
       "7291     AG09: Hang Tuah (Origin) 2024-07-23            4044.0        AG   \n",
       "7292     AG09: Hang Tuah (Origin) 2024-07-24            4004.0        AG   \n",
       "7293     AG09: Hang Tuah (Origin) 2024-07-25            3969.0        AG   \n",
       "7294     AG09: Hang Tuah (Origin) 2024-07-26            4231.0        AG   \n",
       "7295     AG09: Hang Tuah (Origin) 2024-07-27            4052.0        AG   \n",
       "\n",
       "      mom_passenger_change  \n",
       "912                   0.00  \n",
       "913                  23.16  \n",
       "914                  13.33  \n",
       "915                 -43.44  \n",
       "916                  -2.59  \n",
       "...                    ...  \n",
       "7291                 -0.20  \n",
       "7292                  1.00  \n",
       "7293                  0.88  \n",
       "7294                 -6.19  \n",
       "7295                  4.42  \n",
       "\n",
       "[1026 rows x 5 columns]"
      ],
      "text/html": [
       "<div>\n",
       "<style scoped>\n",
       "    .dataframe tbody tr th:only-of-type {\n",
       "        vertical-align: middle;\n",
       "    }\n",
       "\n",
       "    .dataframe tbody tr th {\n",
       "        vertical-align: top;\n",
       "    }\n",
       "\n",
       "    .dataframe thead th {\n",
       "        text-align: right;\n",
       "    }\n",
       "</style>\n",
       "<table border=\"1\" class=\"dataframe\">\n",
       "  <thead>\n",
       "    <tr style=\"text-align: right;\">\n",
       "      <th></th>\n",
       "      <th>train_origin</th>\n",
       "      <th>date</th>\n",
       "      <th>total_passengers</th>\n",
       "      <th>line_name</th>\n",
       "      <th>mom_passenger_change</th>\n",
       "    </tr>\n",
       "  </thead>\n",
       "  <tbody>\n",
       "    <tr>\n",
       "      <th>912</th>\n",
       "      <td>AG15: Pandan Indah (Origin)</td>\n",
       "      <td>2024-06-01</td>\n",
       "      <td>2021.0</td>\n",
       "      <td>AG</td>\n",
       "      <td>0.00</td>\n",
       "    </tr>\n",
       "    <tr>\n",
       "      <th>913</th>\n",
       "      <td>AG15: Pandan Indah (Origin)</td>\n",
       "      <td>2024-06-02</td>\n",
       "      <td>1641.0</td>\n",
       "      <td>AG</td>\n",
       "      <td>23.16</td>\n",
       "    </tr>\n",
       "    <tr>\n",
       "      <th>914</th>\n",
       "      <td>AG15: Pandan Indah (Origin)</td>\n",
       "      <td>2024-06-03</td>\n",
       "      <td>1448.0</td>\n",
       "      <td>AG</td>\n",
       "      <td>13.33</td>\n",
       "    </tr>\n",
       "    <tr>\n",
       "      <th>915</th>\n",
       "      <td>AG15: Pandan Indah (Origin)</td>\n",
       "      <td>2024-06-04</td>\n",
       "      <td>2560.0</td>\n",
       "      <td>AG</td>\n",
       "      <td>-43.44</td>\n",
       "    </tr>\n",
       "    <tr>\n",
       "      <th>916</th>\n",
       "      <td>AG15: Pandan Indah (Origin)</td>\n",
       "      <td>2024-06-05</td>\n",
       "      <td>2628.0</td>\n",
       "      <td>AG</td>\n",
       "      <td>-2.59</td>\n",
       "    </tr>\n",
       "    <tr>\n",
       "      <th>...</th>\n",
       "      <td>...</td>\n",
       "      <td>...</td>\n",
       "      <td>...</td>\n",
       "      <td>...</td>\n",
       "      <td>...</td>\n",
       "    </tr>\n",
       "    <tr>\n",
       "      <th>7291</th>\n",
       "      <td>AG09: Hang Tuah (Origin)</td>\n",
       "      <td>2024-07-23</td>\n",
       "      <td>4044.0</td>\n",
       "      <td>AG</td>\n",
       "      <td>-0.20</td>\n",
       "    </tr>\n",
       "    <tr>\n",
       "      <th>7292</th>\n",
       "      <td>AG09: Hang Tuah (Origin)</td>\n",
       "      <td>2024-07-24</td>\n",
       "      <td>4004.0</td>\n",
       "      <td>AG</td>\n",
       "      <td>1.00</td>\n",
       "    </tr>\n",
       "    <tr>\n",
       "      <th>7293</th>\n",
       "      <td>AG09: Hang Tuah (Origin)</td>\n",
       "      <td>2024-07-25</td>\n",
       "      <td>3969.0</td>\n",
       "      <td>AG</td>\n",
       "      <td>0.88</td>\n",
       "    </tr>\n",
       "    <tr>\n",
       "      <th>7294</th>\n",
       "      <td>AG09: Hang Tuah (Origin)</td>\n",
       "      <td>2024-07-26</td>\n",
       "      <td>4231.0</td>\n",
       "      <td>AG</td>\n",
       "      <td>-6.19</td>\n",
       "    </tr>\n",
       "    <tr>\n",
       "      <th>7295</th>\n",
       "      <td>AG09: Hang Tuah (Origin)</td>\n",
       "      <td>2024-07-27</td>\n",
       "      <td>4052.0</td>\n",
       "      <td>AG</td>\n",
       "      <td>4.42</td>\n",
       "    </tr>\n",
       "  </tbody>\n",
       "</table>\n",
       "<p>1026 rows × 5 columns</p>\n",
       "</div>"
      ]
     },
     "execution_count": 15,
     "metadata": {},
     "output_type": "execute_result"
    }
   ],
   "execution_count": 15
  },
  {
   "cell_type": "code",
   "metadata": {
    "ExecuteTime": {
     "end_time": "2024-07-28T15:49:29.723849Z",
     "start_time": "2024-07-28T15:49:29.186926Z"
    }
   },
   "source": [
    "plt.figure(figsize=(18,6))\n",
    "sns.lineplot(data=df2, x='date', y='mom_passenger_change', hue='line_name', errorbar=None)\n",
    "# sns.move_legend(ax, \"upper left\", bbox_to_anchor=(1, 1))\n",
    "plt.legend(bbox_to_anchor=(1.05, 1), loc=2, borderaxespad=0.)\n"
   ],
   "outputs": [
    {
     "data": {
      "text/plain": [
       "<matplotlib.legend.Legend at 0x14e7fbe50>"
      ]
     },
     "execution_count": 16,
     "metadata": {},
     "output_type": "execute_result"
    },
    {
     "data": {
      "text/plain": [
       "<Figure size 1800x600 with 1 Axes>"
      ],
      "image/png": "[encoded data removed]"
     },
     "metadata": {},
     "output_type": "display_data"
    }
   ],
   "execution_count": 16
  }
 ],
 "metadata": {
  "kernelspec": {
   "display_name": "Python3_10_Env",
   "language": "python",
   "name": "python3"
  },
  "language_info": {
   "codemirror_mode": {
    "name": "ipython",
    "version": 3
   },
   "file_extension": ".py",
   "mimetype": "text/x-python",
   "name": "python",
   "nbconvert_exporter": "python",
   "pygments_lexer": "ipython3",
   "version": "3.12.4"
  }
 },
 "nbformat": 4,
 "nbformat_minor": 2
}
