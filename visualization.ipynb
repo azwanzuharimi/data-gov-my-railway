{
 "cells": [
  {
   "cell_type": "code",
   "execution_count": 93,
   "metadata": {},
   "outputs": [],
   "source": [
    "import pandas as pd\n",
    "import duckdb\n",
    "import hvplot.pandas\n",
    "from deltalake import DeltaTable\n",
    "\n",
    "import plotly.io as pio\n",
    "import plotly.express as px\n",
    "import plotly.graph_objects as go\n",
    "pio.renderers.default = \"nteract\"\n",
    "\n",
    "import matplotlib.colors\n"
   ]
  },
  {
   "cell_type": "code",
   "execution_count": 94,
   "metadata": {},
   "outputs": [
    {
     "data": {
      "text/html": [
       "<div>\n",
       "<style scoped>\n",
       "    .dataframe tbody tr th:only-of-type {\n",
       "        vertical-align: middle;\n",
       "    }\n",
       "\n",
       "    .dataframe tbody tr th {\n",
       "        vertical-align: top;\n",
       "    }\n",
       "\n",
       "    .dataframe thead th {\n",
       "        text-align: right;\n",
       "    }\n",
       "</style>\n",
       "<table border=\"1\" class=\"dataframe\">\n",
       "  <thead>\n",
       "    <tr style=\"text-align: right;\">\n",
       "      <th></th>\n",
       "      <th>station_name_origin</th>\n",
       "      <th>station_name_destination</th>\n",
       "      <th>passengers</th>\n",
       "    </tr>\n",
       "  </thead>\n",
       "  <tbody>\n",
       "    <tr>\n",
       "      <th>11573</th>\n",
       "      <td>Tun Razak Exchange (origin)</td>\n",
       "      <td>Bukit Bintang (destination)</td>\n",
       "      <td>191976.0</td>\n",
       "    </tr>\n",
       "    <tr>\n",
       "      <th>8382</th>\n",
       "      <td>KLCC (origin)</td>\n",
       "      <td>Ampang Park (destination)</td>\n",
       "      <td>147679.0</td>\n",
       "    </tr>\n",
       "    <tr>\n",
       "      <th>7252</th>\n",
       "      <td>Bukit Bintang (origin)</td>\n",
       "      <td>Tun Razak Exchange (destination)</td>\n",
       "      <td>147415.0</td>\n",
       "    </tr>\n",
       "    <tr>\n",
       "      <th>2372</th>\n",
       "      <td>Ampang Park (origin)</td>\n",
       "      <td>KLCC (destination)</td>\n",
       "      <td>125545.0</td>\n",
       "    </tr>\n",
       "    <tr>\n",
       "      <th>12069</th>\n",
       "      <td>KL Sentral (origin)</td>\n",
       "      <td>KLCC (destination)</td>\n",
       "      <td>121270.0</td>\n",
       "    </tr>\n",
       "  </tbody>\n",
       "</table>\n",
       "</div>"
      ],
      "text/plain": [
       "               station_name_origin          station_name_destination  \\\n",
       "11573  Tun Razak Exchange (origin)       Bukit Bintang (destination)   \n",
       "8382                 KLCC (origin)         Ampang Park (destination)   \n",
       "7252        Bukit Bintang (origin)  Tun Razak Exchange (destination)   \n",
       "2372          Ampang Park (origin)                KLCC (destination)   \n",
       "12069          KL Sentral (origin)                KLCC (destination)   \n",
       "\n",
       "       passengers  \n",
       "11573    191976.0  \n",
       "8382     147679.0  \n",
       "7252     147415.0  \n",
       "2372     125545.0  \n",
       "12069    121270.0  "
      ]
     },
     "execution_count": 94,
     "metadata": {},
     "output_type": "execute_result"
    }
   ],
   "source": [
    "df = pd.read_parquet('./data/ridership/passengers_daily.parquet')\n",
    "df_sankey = duckdb.sql(\"\"\"\n",
    "            SELECT station_name_origin, station_name_destination, sum(passengers) as passengers\n",
    "           FROM df\n",
    "           GROUP BY 1,2\n",
    "           \"\"\").df()\n",
    "\n",
    "df_sankey_top10 = df_sankey.sort_values('passengers', ascending=False)[:20]\n",
    "df_sankey_top10.head()"
   ]
  },
  {
   "cell_type": "code",
   "execution_count": 95,
   "metadata": {},
   "outputs": [],
   "source": [
    "df_sankey_top10 = df_sankey.sort_values('passengers', ascending=False)[:20]\n",
    "\n",
    "def prepare_sankey(dataframe:pd.DataFrame, source:pd.Series, target:pd.Series, opacity:float = 0.5, color_tone = px.colors.qualitative.G10):\n",
    "    \"\"\"\n",
    "    This function will convert a dataframe into readable format for Plotly Sankey chart\n",
    "    Sample table input:\n",
    "\n",
    "    |  source  |  target  | value  |  \n",
    "    |------------------------------|\n",
    "    |    a1     |    b1     |   1  |\n",
    "    |------------------------------|\n",
    "    |    a2     |    b1     |   3  |\n",
    "    |------------------------------|\n",
    "    \n",
    "    color_tone:\n",
    "        # https://plotly.com/python/discrete-color/\n",
    "        fig = px.colors.qualitative.swatches()\n",
    "        fig.show()\n",
    "\n",
    "    \"\"\"\n",
    "    source = source.name\n",
    "    target = target.name\n",
    "\n",
    "    data = dataframe.copy()\n",
    "\n",
    "    unique_source_target = list(pd.unique(data[[source, target]].values.ravel('K')))\n",
    "\n",
    "    # Define a list of hex color codes for nodes\n",
    "    node_colors = color_tone\n",
    "\n",
    "     # Create var to hold node/label and link colors\n",
    "    label_colors, data[\"link_colors\"] = [], str(0)\n",
    "\n",
    "    # Convert list of colors to RGB format to override default gray LINK colors\n",
    "    colors = [matplotlib.colors.to_rgb(i) for i in node_colors]  \n",
    "\n",
    "    # Loop through all the labels to specify color and to use label indices\n",
    "    c, max_colors = 0, len(colors)  # To loop through the colors array\n",
    "    for l in range(len(unique_source_target)):\n",
    "        label_colors.append(colors[c])\n",
    "        link_color = colors[c] + (opacity,)  # Make link more transparent than the node\n",
    "        data.loc[data[target] == unique_source_target[l], \"link_colors\"] = \"rgba\" + str(link_color)\n",
    "        # data.loc[data[source] == unique_source_target[l], \"link_colors\"] = \"rgba\" + str(link_color) # uncomment this line if want the LINK color to follow source node color\n",
    "        if c == max_colors - 1:\n",
    "            c = 0\n",
    "        else:\n",
    "            c += 1\n",
    "\n",
    "    # Convert colors into RGB string format for Plotly\n",
    "    label_colors = [\"rgb\" + str(i) for i in label_colors]\n",
    "\n",
    "    #for assigning unique number to each source and target\n",
    "    mapping_dict = {k: v for v, k in enumerate(unique_source_target)}\n",
    "\n",
    "    #mapping of full data\n",
    "    data[source] = data[source].map(mapping_dict)\n",
    "    data[target] = data[target].map(mapping_dict)\n",
    "\n",
    "    links_dict = data.to_dict(orient='list')\n",
    "\n",
    "    return links_dict, unique_source_target, label_colors\n",
    "\n",
    "\n",
    "links, unique_source_target, label_colors = prepare_sankey(dataframe=df_sankey_top10,\n",
    "                       source=df_sankey_top10['station_name_origin'],\n",
    "                       target=df_sankey_top10['station_name_destination']\n",
    "                       )"
   ]
  },
  {
   "cell_type": "code",
   "execution_count": 96,
   "metadata": {},
   "outputs": [
    {
     "data": {
      "application/vnd.plotly.v1+json": {
       "config": {
        "plotlyServerURL": "https://plot.ly"
       },
       "data": [
        {
         "arrangement": "snap",
         "link": {
          "arrowlen": 35,
          "color": [
           "rgba(0.2, 0.4, 0.8, 0.5)",
           "rgba(0.8627450980392157, 0.2235294117647059, 0.07058823529411765, 0.5)",
           "rgba(1.0, 0.6, 0.0, 0.5)",
           "rgba(0.06274509803921569, 0.5882352941176471, 0.09411764705882353, 0.5)",
           "rgba(0.06274509803921569, 0.5882352941176471, 0.09411764705882353, 0.5)",
           "rgba(0.6, 0.0, 0.6, 0.5)",
           "rgba(0.2, 0.4, 0.8, 0.5)",
           "rgba(0.0, 0.6, 0.7764705882352941, 0.5)",
           "rgba(0.2, 0.4, 0.8, 0.5)",
           "rgba(0.2, 0.4, 0.8, 0.5)",
           "rgba(0.8666666666666667, 0.26666666666666666, 0.4666666666666667, 0.5)",
           "rgba(0.0, 0.6, 0.7764705882352941, 0.5)",
           "rgba(0.4, 0.6666666666666666, 0.0, 0.5)",
           "rgba(0.6, 0.0, 0.6, 0.5)",
           "rgba(0.8627450980392157, 0.2235294117647059, 0.07058823529411765, 0.5)",
           "rgba(0.0, 0.6, 0.7764705882352941, 0.5)",
           "rgba(0.8666666666666667, 0.26666666666666666, 0.4666666666666667, 0.5)",
           "rgba(0.2, 0.4, 0.8, 0.5)",
           "rgba(1.0, 0.6, 0.0, 0.5)",
           "rgba(0.2, 0.4, 0.8, 0.5)"
          ],
          "source": [
           0,
           1,
           2,
           3,
           4,
           2,
           5,
           1,
           6,
           4,
           2,
           2,
           3,
           0,
           7,
           5,
           4,
           8,
           6,
           9
          ],
          "target": [
           10,
           11,
           12,
           13,
           13,
           14,
           10,
           15,
           10,
           10,
           16,
           15,
           17,
           14,
           11,
           15,
           16,
           10,
           12,
           10
          ],
          "value": [
           191976,
           147679,
           147415,
           125545,
           121270,
           112189,
           111253,
           111120,
           102329,
           98533,
           97146,
           93673,
           89815,
           88874,
           88568,
           83110,
           82259,
           81954,
           80318,
           77305
          ]
         },
         "node": {
          "color": [
           "rgb(0.2, 0.4, 0.8)",
           "rgb(0.8627450980392157, 0.2235294117647059, 0.07058823529411765)",
           "rgb(1.0, 0.6, 0.0)",
           "rgb(0.06274509803921569, 0.5882352941176471, 0.09411764705882353)",
           "rgb(0.6, 0.0, 0.6)",
           "rgb(0.0, 0.6, 0.7764705882352941)",
           "rgb(0.8666666666666667, 0.26666666666666666, 0.4666666666666667)",
           "rgb(0.4, 0.6666666666666666, 0.0)",
           "rgb(0.7215686274509804, 0.1803921568627451, 0.1803921568627451)",
           "rgb(0.19215686274509805, 0.38823529411764707, 0.5843137254901961)",
           "rgb(0.2, 0.4, 0.8)",
           "rgb(0.8627450980392157, 0.2235294117647059, 0.07058823529411765)",
           "rgb(1.0, 0.6, 0.0)",
           "rgb(0.06274509803921569, 0.5882352941176471, 0.09411764705882353)",
           "rgb(0.6, 0.0, 0.6)",
           "rgb(0.0, 0.6, 0.7764705882352941)",
           "rgb(0.8666666666666667, 0.26666666666666666, 0.4666666666666667)",
           "rgb(0.4, 0.6666666666666666, 0.0)"
          ],
          "label": [
           "Tun Razak Exchange (origin)",
           "KLCC (origin)",
           "Bukit Bintang (origin)",
           "Ampang Park (origin)",
           "KL Sentral (origin)",
           "Pasar Seni (origin)",
           "Maluri (origin)",
           "Wangsa Maju (origin)",
           "Imbi (origin)",
           "Hang Tuah (origin)",
           "Bukit Bintang (destination)",
           "Ampang Park (destination)",
           "Tun Razak Exchange (destination)",
           "KLCC (destination)",
           "Maluri (destination)",
           "KL Sentral (destination)",
           "Pasar Seni (destination)",
           "Wangsa Maju (destination)"
          ],
          "line": {
           "color": "black",
           "width": 0.7
          },
          "pad": 15,
          "thickness": 15
         },
         "type": "sankey"
        }
       ],
       "layout": {
        "autosize": false,
        "height": 1000,
        "template": {
         "data": {
          "bar": [
           {
            "error_x": {
             "color": "#2a3f5f"
            },
            "error_y": {
             "color": "#2a3f5f"
            },
            "marker": {
             "line": {
              "color": "#E5ECF6",
              "width": 0.5
             },
             "pattern": {
              "fillmode": "overlay",
              "size": 10,
              "solidity": 0.2
             }
            },
            "type": "bar"
           }
          ],
          "barpolar": [
           {
            "marker": {
             "line": {
              "color": "#E5ECF6",
              "width": 0.5
             },
             "pattern": {
              "fillmode": "overlay",
              "size": 10,
              "solidity": 0.2
             }
            },
            "type": "barpolar"
           }
          ],
          "carpet": [
           {
            "aaxis": {
             "endlinecolor": "#2a3f5f",
             "gridcolor": "white",
             "linecolor": "white",
             "minorgridcolor": "white",
             "startlinecolor": "#2a3f5f"
            },
            "baxis": {
             "endlinecolor": "#2a3f5f",
             "gridcolor": "white",
             "linecolor": "white",
             "minorgridcolor": "white",
             "startlinecolor": "#2a3f5f"
            },
            "type": "carpet"
           }
          ],
          "choropleth": [
           {
            "colorbar": {
             "outlinewidth": 0,
             "ticks": ""
            },
            "type": "choropleth"
           }
          ],
          "contour": [
           {
            "colorbar": {
             "outlinewidth": 0,
             "ticks": ""
            },
            "colorscale": [
             [
              0,
              "#0d0887"
             ],
             [
              0.1111111111111111,
              "#46039f"
             ],
             [
              0.2222222222222222,
              "#7201a8"
             ],
             [
              0.3333333333333333,
              "#9c179e"
             ],
             [
              0.4444444444444444,
              "#bd3786"
             ],
             [
              0.5555555555555556,
              "#d8576b"
             ],
             [
              0.6666666666666666,
              "#ed7953"
             ],
             [
              0.7777777777777778,
              "#fb9f3a"
             ],
             [
              0.8888888888888888,
              "#fdca26"
             ],
             [
              1,
              "#f0f921"
             ]
            ],
            "type": "contour"
           }
          ],
          "contourcarpet": [
           {
            "colorbar": {
             "outlinewidth": 0,
             "ticks": ""
            },
            "type": "contourcarpet"
           }
          ],
          "heatmap": [
           {
            "colorbar": {
             "outlinewidth": 0,
             "ticks": ""
            },
            "colorscale": [
             [
              0,
              "#0d0887"
             ],
             [
              0.1111111111111111,
              "#46039f"
             ],
             [
              0.2222222222222222,
              "#7201a8"
             ],
             [
              0.3333333333333333,
              "#9c179e"
             ],
             [
              0.4444444444444444,
              "#bd3786"
             ],
             [
              0.5555555555555556,
              "#d8576b"
             ],
             [
              0.6666666666666666,
              "#ed7953"
             ],
             [
              0.7777777777777778,
              "#fb9f3a"
             ],
             [
              0.8888888888888888,
              "#fdca26"
             ],
             [
              1,
              "#f0f921"
             ]
            ],
            "type": "heatmap"
           }
          ],
          "heatmapgl": [
           {
            "colorbar": {
             "outlinewidth": 0,
             "ticks": ""
            },
            "colorscale": [
             [
              0,
              "#0d0887"
             ],
             [
              0.1111111111111111,
              "#46039f"
             ],
             [
              0.2222222222222222,
              "#7201a8"
             ],
             [
              0.3333333333333333,
              "#9c179e"
             ],
             [
              0.4444444444444444,
              "#bd3786"
             ],
             [
              0.5555555555555556,
              "#d8576b"
             ],
             [
              0.6666666666666666,
              "#ed7953"
             ],
             [
              0.7777777777777778,
              "#fb9f3a"
             ],
             [
              0.8888888888888888,
              "#fdca26"
             ],
             [
              1,
              "#f0f921"
             ]
            ],
            "type": "heatmapgl"
           }
          ],
          "histogram": [
           {
            "marker": {
             "pattern": {
              "fillmode": "overlay",
              "size": 10,
              "solidity": 0.2
             }
            },
            "type": "histogram"
           }
          ],
          "histogram2d": [
           {
            "colorbar": {
             "outlinewidth": 0,
             "ticks": ""
            },
            "colorscale": [
             [
              0,
              "#0d0887"
             ],
             [
              0.1111111111111111,
              "#46039f"
             ],
             [
              0.2222222222222222,
              "#7201a8"
             ],
             [
              0.3333333333333333,
              "#9c179e"
             ],
             [
              0.4444444444444444,
              "#bd3786"
             ],
             [
              0.5555555555555556,
              "#d8576b"
             ],
             [
              0.6666666666666666,
              "#ed7953"
             ],
             [
              0.7777777777777778,
              "#fb9f3a"
             ],
             [
              0.8888888888888888,
              "#fdca26"
             ],
             [
              1,
              "#f0f921"
             ]
            ],
            "type": "histogram2d"
           }
          ],
          "histogram2dcontour": [
           {
            "colorbar": {
             "outlinewidth": 0,
             "ticks": ""
            },
            "colorscale": [
             [
              0,
              "#0d0887"
             ],
             [
              0.1111111111111111,
              "#46039f"
             ],
             [
              0.2222222222222222,
              "#7201a8"
             ],
             [
              0.3333333333333333,
              "#9c179e"
             ],
             [
              0.4444444444444444,
              "#bd3786"
             ],
             [
              0.5555555555555556,
              "#d8576b"
             ],
             [
              0.6666666666666666,
              "#ed7953"
             ],
             [
              0.7777777777777778,
              "#fb9f3a"
             ],
             [
              0.8888888888888888,
              "#fdca26"
             ],
             [
              1,
              "#f0f921"
             ]
            ],
            "type": "histogram2dcontour"
           }
          ],
          "mesh3d": [
           {
            "colorbar": {
             "outlinewidth": 0,
             "ticks": ""
            },
            "type": "mesh3d"
           }
          ],
          "parcoords": [
           {
            "line": {
             "colorbar": {
              "outlinewidth": 0,
              "ticks": ""
             }
            },
            "type": "parcoords"
           }
          ],
          "pie": [
           {
            "automargin": true,
            "type": "pie"
           }
          ],
          "scatter": [
           {
            "fillpattern": {
             "fillmode": "overlay",
             "size": 10,
             "solidity": 0.2
            },
            "type": "scatter"
           }
          ],
          "scatter3d": [
           {
            "line": {
             "colorbar": {
              "outlinewidth": 0,
              "ticks": ""
             }
            },
            "marker": {
             "colorbar": {
              "outlinewidth": 0,
              "ticks": ""
             }
            },
            "type": "scatter3d"
           }
          ],
          "scattercarpet": [
           {
            "marker": {
             "colorbar": {
              "outlinewidth": 0,
              "ticks": ""
             }
            },
            "type": "scattercarpet"
           }
          ],
          "scattergeo": [
           {
            "marker": {
             "colorbar": {
              "outlinewidth": 0,
              "ticks": ""
             }
            },
            "type": "scattergeo"
           }
          ],
          "scattergl": [
           {
            "marker": {
             "colorbar": {
              "outlinewidth": 0,
              "ticks": ""
             }
            },
            "type": "scattergl"
           }
          ],
          "scattermapbox": [
           {
            "marker": {
             "colorbar": {
              "outlinewidth": 0,
              "ticks": ""
             }
            },
            "type": "scattermapbox"
           }
          ],
          "scatterpolar": [
           {
            "marker": {
             "colorbar": {
              "outlinewidth": 0,
              "ticks": ""
             }
            },
            "type": "scatterpolar"
           }
          ],
          "scatterpolargl": [
           {
            "marker": {
             "colorbar": {
              "outlinewidth": 0,
              "ticks": ""
             }
            },
            "type": "scatterpolargl"
           }
          ],
          "scatterternary": [
           {
            "marker": {
             "colorbar": {
              "outlinewidth": 0,
              "ticks": ""
             }
            },
            "type": "scatterternary"
           }
          ],
          "surface": [
           {
            "colorbar": {
             "outlinewidth": 0,
             "ticks": ""
            },
            "colorscale": [
             [
              0,
              "#0d0887"
             ],
             [
              0.1111111111111111,
              "#46039f"
             ],
             [
              0.2222222222222222,
              "#7201a8"
             ],
             [
              0.3333333333333333,
              "#9c179e"
             ],
             [
              0.4444444444444444,
              "#bd3786"
             ],
             [
              0.5555555555555556,
              "#d8576b"
             ],
             [
              0.6666666666666666,
              "#ed7953"
             ],
             [
              0.7777777777777778,
              "#fb9f3a"
             ],
             [
              0.8888888888888888,
              "#fdca26"
             ],
             [
              1,
              "#f0f921"
             ]
            ],
            "type": "surface"
           }
          ],
          "table": [
           {
            "cells": {
             "fill": {
              "color": "#EBF0F8"
             },
             "line": {
              "color": "white"
             }
            },
            "header": {
             "fill": {
              "color": "#C8D4E3"
             },
             "line": {
              "color": "white"
             }
            },
            "type": "table"
           }
          ]
         },
         "layout": {
          "annotationdefaults": {
           "arrowcolor": "#2a3f5f",
           "arrowhead": 0,
           "arrowwidth": 1
          },
          "autotypenumbers": "strict",
          "coloraxis": {
           "colorbar": {
            "outlinewidth": 0,
            "ticks": ""
           }
          },
          "colorscale": {
           "diverging": [
            [
             0,
             "#8e0152"
            ],
            [
             0.1,
             "#c51b7d"
            ],
            [
             0.2,
             "#de77ae"
            ],
            [
             0.3,
             "#f1b6da"
            ],
            [
             0.4,
             "#fde0ef"
            ],
            [
             0.5,
             "#f7f7f7"
            ],
            [
             0.6,
             "#e6f5d0"
            ],
            [
             0.7,
             "#b8e186"
            ],
            [
             0.8,
             "#7fbc41"
            ],
            [
             0.9,
             "#4d9221"
            ],
            [
             1,
             "#276419"
            ]
           ],
           "sequential": [
            [
             0,
             "#0d0887"
            ],
            [
             0.1111111111111111,
             "#46039f"
            ],
            [
             0.2222222222222222,
             "#7201a8"
            ],
            [
             0.3333333333333333,
             "#9c179e"
            ],
            [
             0.4444444444444444,
             "#bd3786"
            ],
            [
             0.5555555555555556,
             "#d8576b"
            ],
            [
             0.6666666666666666,
             "#ed7953"
            ],
            [
             0.7777777777777778,
             "#fb9f3a"
            ],
            [
             0.8888888888888888,
             "#fdca26"
            ],
            [
             1,
             "#f0f921"
            ]
           ],
           "sequentialminus": [
            [
             0,
             "#0d0887"
            ],
            [
             0.1111111111111111,
             "#46039f"
            ],
            [
             0.2222222222222222,
             "#7201a8"
            ],
            [
             0.3333333333333333,
             "#9c179e"
            ],
            [
             0.4444444444444444,
             "#bd3786"
            ],
            [
             0.5555555555555556,
             "#d8576b"
            ],
            [
             0.6666666666666666,
             "#ed7953"
            ],
            [
             0.7777777777777778,
             "#fb9f3a"
            ],
            [
             0.8888888888888888,
             "#fdca26"
            ],
            [
             1,
             "#f0f921"
            ]
           ]
          },
          "colorway": [
           "#636efa",
           "#EF553B",
           "#00cc96",
           "#ab63fa",
           "#FFA15A",
           "#19d3f3",
           "#FF6692",
           "#B6E880",
           "#FF97FF",
           "#FECB52"
          ],
          "font": {
           "color": "#2a3f5f"
          },
          "geo": {
           "bgcolor": "white",
           "lakecolor": "white",
           "landcolor": "#E5ECF6",
           "showlakes": true,
           "showland": true,
           "subunitcolor": "white"
          },
          "hoverlabel": {
           "align": "left"
          },
          "hovermode": "closest",
          "mapbox": {
           "style": "light"
          },
          "paper_bgcolor": "white",
          "plot_bgcolor": "#E5ECF6",
          "polar": {
           "angularaxis": {
            "gridcolor": "white",
            "linecolor": "white",
            "ticks": ""
           },
           "bgcolor": "#E5ECF6",
           "radialaxis": {
            "gridcolor": "white",
            "linecolor": "white",
            "ticks": ""
           }
          },
          "scene": {
           "xaxis": {
            "backgroundcolor": "#E5ECF6",
            "gridcolor": "white",
            "gridwidth": 2,
            "linecolor": "white",
            "showbackground": true,
            "ticks": "",
            "zerolinecolor": "white"
           },
           "yaxis": {
            "backgroundcolor": "#E5ECF6",
            "gridcolor": "white",
            "gridwidth": 2,
            "linecolor": "white",
            "showbackground": true,
            "ticks": "",
            "zerolinecolor": "white"
           },
           "zaxis": {
            "backgroundcolor": "#E5ECF6",
            "gridcolor": "white",
            "gridwidth": 2,
            "linecolor": "white",
            "showbackground": true,
            "ticks": "",
            "zerolinecolor": "white"
           }
          },
          "shapedefaults": {
           "line": {
            "color": "#2a3f5f"
           }
          },
          "ternary": {
           "aaxis": {
            "gridcolor": "white",
            "linecolor": "white",
            "ticks": ""
           },
           "baxis": {
            "gridcolor": "white",
            "linecolor": "white",
            "ticks": ""
           },
           "bgcolor": "#E5ECF6",
           "caxis": {
            "gridcolor": "white",
            "linecolor": "white",
            "ticks": ""
           }
          },
          "title": {
           "x": 0.05
          },
          "xaxis": {
           "automargin": true,
           "gridcolor": "white",
           "linecolor": "white",
           "ticks": "",
           "title": {
            "standoff": 15
           },
           "zerolinecolor": "white",
           "zerolinewidth": 2
          },
          "yaxis": {
           "automargin": true,
           "gridcolor": "white",
           "linecolor": "white",
           "ticks": "",
           "title": {
            "standoff": 15
           },
           "zerolinecolor": "white",
           "zerolinewidth": 2
          }
         }
        },
        "title": {
         "text": "Train Passengers To-From Stations"
        },
        "width": 750
       }
      }
     },
     "metadata": {},
     "output_type": "display_data"
    }
   ],
   "source": [
    "#Sankey Diagram Code \n",
    "fig = go.Figure(data=[go.Sankey(\n",
    "    arrangement = \"snap\",\n",
    "    node = dict(\n",
    "      pad = 15,\n",
    "      thickness = 15,\n",
    "      line = dict(color = \"black\", width = 0.7),\n",
    "      label = unique_source_target,\n",
    "      color = label_colors\n",
    "      \n",
    "    ),\n",
    "    link = dict(\n",
    "      arrowlen=35,\n",
    "      source = links[\"station_name_origin\"],\n",
    "      target = links[\"station_name_destination\"],\n",
    "      value = links[\"passengers\"]\n",
    "      ,color = links[\"link_colors\"]\n",
    "  \n",
    "  ))])\n",
    "\n",
    "fig.update_layout(title_text=\"Train Passengers To-From Stations\",\n",
    "                  autosize=False,\n",
    "                  width=750,\n",
    "                  height=1000,)\n",
    "\n",
    "# How to color the links: https://plotly.com/python/sankey-diagram/ \n",
    "fig.show()"
   ]
  },
  {
   "cell_type": "markdown",
   "metadata": {},
   "source": [
    "## Using HoloViz"
   ]
  },
  {
   "cell_type": "code",
   "execution_count": 97,
   "metadata": {},
   "outputs": [
    {
     "data": {
      "application/javascript": "(function(root) {\n  function now() {\n    return new Date();\n  }\n\n  var force = true;\n  var py_version = '3.3.2'.replace('rc', '-rc.').replace('.dev', '-dev.');\n  var reloading = false;\n  var Bokeh = root.Bokeh;\n\n  if (typeof (root._bokeh_timeout) === \"undefined\" || force) {\n    root._bokeh_timeout = Date.now() + 5000;\n    root._bokeh_failed_load = false;\n  }\n\n  function run_callbacks() {\n    try {\n      root._bokeh_onload_callbacks.forEach(function(callback) {\n        if (callback != null)\n          callback();\n      });\n    } finally {\n      delete root._bokeh_onload_callbacks;\n    }\n    console.debug(\"Bokeh: all callbacks have finished\");\n  }\n\n  function load_libs(css_urls, js_urls, js_modules, js_exports, callback) {\n    if (css_urls == null) css_urls = [];\n    if (js_urls == null) js_urls = [];\n    if (js_modules == null) js_modules = [];\n    if (js_exports == null) js_exports = {};\n\n    root._bokeh_onload_callbacks.push(callback);\n\n    if (root._bokeh_is_loading > 0) {\n      console.debug(\"Bokeh: BokehJS is being loaded, scheduling callback at\", now());\n      return null;\n    }\n    if (js_urls.length === 0 && js_modules.length === 0 && Object.keys(js_exports).length === 0) {\n      run_callbacks();\n      return null;\n    }\n    if (!reloading) {\n      console.debug(\"Bokeh: BokehJS not loaded, scheduling load and callback at\", now());\n    }\n\n    function on_load() {\n      root._bokeh_is_loading--;\n      if (root._bokeh_is_loading === 0) {\n        console.debug(\"Bokeh: all BokehJS libraries/stylesheets loaded\");\n        run_callbacks()\n      }\n    }\n    window._bokeh_on_load = on_load\n\n    function on_error() {\n      console.error(\"failed to load \" + url);\n    }\n\n    var skip = [];\n    if (window.requirejs) {\n      window.requirejs.config({'packages': {}, 'paths': {'jspanel': 'https://cdn.jsdelivr.net/npm/jspanel4@4.12.0/dist/jspanel', 'jspanel-modal': 'https://cdn.jsdelivr.net/npm/jspanel4@4.12.0/dist/extensions/modal/jspanel.modal', 'jspanel-tooltip': 'https://cdn.jsdelivr.net/npm/jspanel4@4.12.0/dist/extensions/tooltip/jspanel.tooltip', 'jspanel-hint': 'https://cdn.jsdelivr.net/npm/jspanel4@4.12.0/dist/extensions/hint/jspanel.hint', 'jspanel-layout': 'https://cdn.jsdelivr.net/npm/jspanel4@4.12.0/dist/extensions/layout/jspanel.layout', 'jspanel-contextmenu': 'https://cdn.jsdelivr.net/npm/jspanel4@4.12.0/dist/extensions/contextmenu/jspanel.contextmenu', 'jspanel-dock': 'https://cdn.jsdelivr.net/npm/jspanel4@4.12.0/dist/extensions/dock/jspanel.dock', 'gridstack': 'https://cdn.jsdelivr.net/npm/gridstack@7.2.3/dist/gridstack-all', 'notyf': 'https://cdn.jsdelivr.net/npm/notyf@3/notyf.min'}, 'shim': {'jspanel': {'exports': 'jsPanel'}, 'gridstack': {'exports': 'GridStack'}}});\n      require([\"jspanel\"], function(jsPanel) {\n\twindow.jsPanel = jsPanel\n\ton_load()\n      })\n      require([\"jspanel-modal\"], function() {\n\ton_load()\n      })\n      require([\"jspanel-tooltip\"], function() {\n\ton_load()\n      })\n      require([\"jspanel-hint\"], function() {\n\ton_load()\n      })\n      require([\"jspanel-layout\"], function() {\n\ton_load()\n      })\n      require([\"jspanel-contextmenu\"], function() {\n\ton_load()\n      })\n      require([\"jspanel-dock\"], function() {\n\ton_load()\n      })\n      require([\"gridstack\"], function(GridStack) {\n\twindow.GridStack = GridStack\n\ton_load()\n      })\n      require([\"notyf\"], function() {\n\ton_load()\n      })\n      root._bokeh_is_loading = css_urls.length + 9;\n    } else {\n      root._bokeh_is_loading = css_urls.length + js_urls.length + js_modules.length + Object.keys(js_exports).length;\n    }\n\n    var existing_stylesheets = []\n    var links = document.getElementsByTagName('link')\n    for (var i = 0; i < links.length; i++) {\n      var link = links[i]\n      if (link.href != null) {\n\texisting_stylesheets.push(link.href)\n      }\n    }\n    for (var i = 0; i < css_urls.length; i++) {\n      var url = css_urls[i];\n      if (existing_stylesheets.indexOf(url) !== -1) {\n\ton_load()\n\tcontinue;\n      }\n      const element = document.createElement(\"link\");\n      element.onload = on_load;\n      element.onerror = on_error;\n      element.rel = \"stylesheet\";\n      element.type = \"text/css\";\n      element.href = url;\n      console.debug(\"Bokeh: injecting link tag for BokehJS stylesheet: \", url);\n      document.body.appendChild(element);\n    }    if (((window['jsPanel'] !== undefined) && (!(window['jsPanel'] instanceof HTMLElement))) || window.requirejs) {\n      var urls = ['https://cdn.holoviz.org/panel/1.3.6/dist/bundled/floatpanel/jspanel4@4.12.0/dist/jspanel.js', 'https://cdn.holoviz.org/panel/1.3.6/dist/bundled/floatpanel/jspanel4@4.12.0/dist/extensions/modal/jspanel.modal.js', 'https://cdn.holoviz.org/panel/1.3.6/dist/bundled/floatpanel/jspanel4@4.12.0/dist/extensions/tooltip/jspanel.tooltip.js', 'https://cdn.holoviz.org/panel/1.3.6/dist/bundled/floatpanel/jspanel4@4.12.0/dist/extensions/hint/jspanel.hint.js', 'https://cdn.holoviz.org/panel/1.3.6/dist/bundled/floatpanel/jspanel4@4.12.0/dist/extensions/layout/jspanel.layout.js', 'https://cdn.holoviz.org/panel/1.3.6/dist/bundled/floatpanel/jspanel4@4.12.0/dist/extensions/contextmenu/jspanel.contextmenu.js', 'https://cdn.holoviz.org/panel/1.3.6/dist/bundled/floatpanel/jspanel4@4.12.0/dist/extensions/dock/jspanel.dock.js'];\n      for (var i = 0; i < urls.length; i++) {\n        skip.push(urls[i])\n      }\n    }    if (((window['GridStack'] !== undefined) && (!(window['GridStack'] instanceof HTMLElement))) || window.requirejs) {\n      var urls = ['https://cdn.holoviz.org/panel/1.3.6/dist/bundled/gridstack/gridstack@7.2.3/dist/gridstack-all.js'];\n      for (var i = 0; i < urls.length; i++) {\n        skip.push(urls[i])\n      }\n    }    if (((window['Notyf'] !== undefined) && (!(window['Notyf'] instanceof HTMLElement))) || window.requirejs) {\n      var urls = ['https://cdn.holoviz.org/panel/1.3.6/dist/bundled/notificationarea/notyf@3/notyf.min.js'];\n      for (var i = 0; i < urls.length; i++) {\n        skip.push(urls[i])\n      }\n    }    var existing_scripts = []\n    var scripts = document.getElementsByTagName('script')\n    for (var i = 0; i < scripts.length; i++) {\n      var script = scripts[i]\n      if (script.src != null) {\n\texisting_scripts.push(script.src)\n      }\n    }\n    for (var i = 0; i < js_urls.length; i++) {\n      var url = js_urls[i];\n      if (skip.indexOf(url) !== -1 || existing_scripts.indexOf(url) !== -1) {\n\tif (!window.requirejs) {\n\t  on_load();\n\t}\n\tcontinue;\n      }\n      var element = document.createElement('script');\n      element.onload = on_load;\n      element.onerror = on_error;\n      element.async = false;\n      element.src = url;\n      console.debug(\"Bokeh: injecting script tag for BokehJS library: \", url);\n      document.head.appendChild(element);\n    }\n    for (var i = 0; i < js_modules.length; i++) {\n      var url = js_modules[i];\n      if (skip.indexOf(url) !== -1 || existing_scripts.indexOf(url) !== -1) {\n\tif (!window.requirejs) {\n\t  on_load();\n\t}\n\tcontinue;\n      }\n      var element = document.createElement('script');\n      element.onload = on_load;\n      element.onerror = on_error;\n      element.async = false;\n      element.src = url;\n      element.type = \"module\";\n      console.debug(\"Bokeh: injecting script tag for BokehJS library: \", url);\n      document.head.appendChild(element);\n    }\n    for (const name in js_exports) {\n      var url = js_exports[name];\n      if (skip.indexOf(url) >= 0 || root[name] != null) {\n\tif (!window.requirejs) {\n\t  on_load();\n\t}\n\tcontinue;\n      }\n      var element = document.createElement('script');\n      element.onerror = on_error;\n      element.async = false;\n      element.type = \"module\";\n      console.debug(\"Bokeh: injecting script tag for BokehJS library: \", url);\n      element.textContent = `\n      import ${name} from \"${url}\"\n      window.${name} = ${name}\n      window._bokeh_on_load()\n      `\n      document.head.appendChild(element);\n    }\n    if (!js_urls.length && !js_modules.length) {\n      on_load()\n    }\n  };\n\n  function inject_raw_css(css) {\n    const element = document.createElement(\"style\");\n    element.appendChild(document.createTextNode(css));\n    document.body.appendChild(element);\n  }\n\n  var js_urls = [\"https://cdn.bokeh.org/bokeh/release/bokeh-3.3.2.min.js\", \"https://cdn.bokeh.org/bokeh/release/bokeh-gl-3.3.2.min.js\", \"https://cdn.bokeh.org/bokeh/release/bokeh-widgets-3.3.2.min.js\", \"https://cdn.bokeh.org/bokeh/release/bokeh-tables-3.3.2.min.js\", \"https://cdn.holoviz.org/panel/1.3.6/dist/panel.min.js\"];\n  var js_modules = [];\n  var js_exports = {};\n  var css_urls = [];\n  var inline_js = [    function(Bokeh) {\n      Bokeh.set_log_level(\"info\");\n    },\nfunction(Bokeh) {} // ensure no trailing comma for IE\n  ];\n\n  function run_inline_js() {\n    if ((root.Bokeh !== undefined) || (force === true)) {\n      for (var i = 0; i < inline_js.length; i++) {\n\ttry {\n          inline_js[i].call(root, root.Bokeh);\n\t} catch(e) {\n\t  if (!reloading) {\n\t    throw e;\n\t  }\n\t}\n      }\n      // Cache old bokeh versions\n      if (Bokeh != undefined && !reloading) {\n\tvar NewBokeh = root.Bokeh;\n\tif (Bokeh.versions === undefined) {\n\t  Bokeh.versions = new Map();\n\t}\n\tif (NewBokeh.version !== Bokeh.version) {\n\t  Bokeh.versions.set(NewBokeh.version, NewBokeh)\n\t}\n\troot.Bokeh = Bokeh;\n      }} else if (Date.now() < root._bokeh_timeout) {\n      setTimeout(run_inline_js, 100);\n    } else if (!root._bokeh_failed_load) {\n      console.log(\"Bokeh: BokehJS failed to load within specified timeout.\");\n      root._bokeh_failed_load = true;\n    }\n    root._bokeh_is_initializing = false\n  }\n\n  function load_or_wait() {\n    // Implement a backoff loop that tries to ensure we do not load multiple\n    // versions of Bokeh and its dependencies at the same time.\n    // In recent versions we use the root._bokeh_is_initializing flag\n    // to determine whether there is an ongoing attempt to initialize\n    // bokeh, however for backward compatibility we also try to ensure\n    // that we do not start loading a newer (Panel>=1.0 and Bokeh>3) version\n    // before older versions are fully initialized.\n    if (root._bokeh_is_initializing && Date.now() > root._bokeh_timeout) {\n      root._bokeh_is_initializing = false;\n      root._bokeh_onload_callbacks = undefined;\n      console.log(\"Bokeh: BokehJS was loaded multiple times but one version failed to initialize.\");\n      load_or_wait();\n    } else if (root._bokeh_is_initializing || (typeof root._bokeh_is_initializing === \"undefined\" && root._bokeh_onload_callbacks !== undefined)) {\n      setTimeout(load_or_wait, 100);\n    } else {\n      root._bokeh_is_initializing = true\n      root._bokeh_onload_callbacks = []\n      var bokeh_loaded = Bokeh != null && (Bokeh.version === py_version || (Bokeh.versions !== undefined && Bokeh.versions.has(py_version)));\n      if (!reloading && !bokeh_loaded) {\n\troot.Bokeh = undefined;\n      }\n      load_libs(css_urls, js_urls, js_modules, js_exports, function() {\n\tconsole.debug(\"Bokeh: BokehJS plotting callback run at\", now());\n\trun_inline_js();\n      });\n    }\n  }\n  // Give older versions of the autoload script a head-start to ensure\n  // they initialize before we start loading newer version.\n  setTimeout(load_or_wait, 100)\n}(window));",
      "application/vnd.holoviews_load.v0+json": ""
     },
     "metadata": {},
     "output_type": "display_data"
    },
    {
     "data": {
      "application/javascript": "\nif ((window.PyViz === undefined) || (window.PyViz instanceof HTMLElement)) {\n  window.PyViz = {comms: {}, comm_status:{}, kernels:{}, receivers: {}, plot_index: []}\n}\n\n\n    function JupyterCommManager() {\n    }\n\n    JupyterCommManager.prototype.register_target = function(plot_id, comm_id, msg_handler) {\n      if (window.comm_manager || ((window.Jupyter !== undefined) && (Jupyter.notebook.kernel != null))) {\n        var comm_manager = window.comm_manager || Jupyter.notebook.kernel.comm_manager;\n        comm_manager.register_target(comm_id, function(comm) {\n          comm.on_msg(msg_handler);\n        });\n      } else if ((plot_id in window.PyViz.kernels) && (window.PyViz.kernels[plot_id])) {\n        window.PyViz.kernels[plot_id].registerCommTarget(comm_id, function(comm) {\n          comm.onMsg = msg_handler;\n        });\n      } else if (typeof google != 'undefined' && google.colab.kernel != null) {\n        google.colab.kernel.comms.registerTarget(comm_id, (comm) => {\n          var messages = comm.messages[Symbol.asyncIterator]();\n          function processIteratorResult(result) {\n            var message = result.value;\n            console.log(message)\n            var content = {data: message.data, comm_id};\n            var buffers = []\n            for (var buffer of message.buffers || []) {\n              buffers.push(new DataView(buffer))\n            }\n            var metadata = message.metadata || {};\n            var msg = {content, buffers, metadata}\n            msg_handler(msg);\n            return messages.next().then(processIteratorResult);\n          }\n          return messages.next().then(processIteratorResult);\n        })\n      }\n    }\n\n    JupyterCommManager.prototype.get_client_comm = function(plot_id, comm_id, msg_handler) {\n      if (comm_id in window.PyViz.comms) {\n        return window.PyViz.comms[comm_id];\n      } else if (window.comm_manager || ((window.Jupyter !== undefined) && (Jupyter.notebook.kernel != null))) {\n        var comm_manager = window.comm_manager || Jupyter.notebook.kernel.comm_manager;\n        var comm = comm_manager.new_comm(comm_id, {}, {}, {}, comm_id);\n        if (msg_handler) {\n          comm.on_msg(msg_handler);\n        }\n      } else if ((plot_id in window.PyViz.kernels) && (window.PyViz.kernels[plot_id])) {\n        var comm = window.PyViz.kernels[plot_id].connectToComm(comm_id);\n        comm.open();\n        if (msg_handler) {\n          comm.onMsg = msg_handler;\n        }\n      } else if (typeof google != 'undefined' && google.colab.kernel != null) {\n        var comm_promise = google.colab.kernel.comms.open(comm_id)\n        comm_promise.then((comm) => {\n          window.PyViz.comms[comm_id] = comm;\n          if (msg_handler) {\n            var messages = comm.messages[Symbol.asyncIterator]();\n            function processIteratorResult(result) {\n              var message = result.value;\n              var content = {data: message.data};\n              var metadata = message.metadata || {comm_id};\n              var msg = {content, metadata}\n              msg_handler(msg);\n              return messages.next().then(processIteratorResult);\n            }\n            return messages.next().then(processIteratorResult);\n          }\n        }) \n        var sendClosure = (data, metadata, buffers, disposeOnDone) => {\n          return comm_promise.then((comm) => {\n            comm.send(data, metadata, buffers, disposeOnDone);\n          });\n        };\n        var comm = {\n          send: sendClosure\n        };\n      }\n      window.PyViz.comms[comm_id] = comm;\n      return comm;\n    }\n    window.PyViz.comm_manager = new JupyterCommManager();\n    \n\n\nvar JS_MIME_TYPE = 'application/javascript';\nvar HTML_MIME_TYPE = 'text/html';\nvar EXEC_MIME_TYPE = 'application/vnd.holoviews_exec.v0+json';\nvar CLASS_NAME = 'output';\n\n/**\n * Render data to the DOM node\n */\nfunction render(props, node) {\n  var div = document.createElement(\"div\");\n  var script = document.createElement(\"script\");\n  node.appendChild(div);\n  node.appendChild(script);\n}\n\n/**\n * Handle when a new output is added\n */\nfunction handle_add_output(event, handle) {\n  var output_area = handle.output_area;\n  var output = handle.output;\n  if ((output.data == undefined) || (!output.data.hasOwnProperty(EXEC_MIME_TYPE))) {\n    return\n  }\n  var id = output.metadata[EXEC_MIME_TYPE][\"id\"];\n  var toinsert = output_area.element.find(\".\" + CLASS_NAME.split(' ')[0]);\n  if (id !== undefined) {\n    var nchildren = toinsert.length;\n    var html_node = toinsert[nchildren-1].children[0];\n    html_node.innerHTML = output.data[HTML_MIME_TYPE];\n    var scripts = [];\n    var nodelist = html_node.querySelectorAll(\"script\");\n    for (var i in nodelist) {\n      if (nodelist.hasOwnProperty(i)) {\n        scripts.push(nodelist[i])\n      }\n    }\n\n    scripts.forEach( function (oldScript) {\n      var newScript = document.createElement(\"script\");\n      var attrs = [];\n      var nodemap = oldScript.attributes;\n      for (var j in nodemap) {\n        if (nodemap.hasOwnProperty(j)) {\n          attrs.push(nodemap[j])\n        }\n      }\n      attrs.forEach(function(attr) { newScript.setAttribute(attr.name, attr.value) });\n      newScript.appendChild(document.createTextNode(oldScript.innerHTML));\n      oldScript.parentNode.replaceChild(newScript, oldScript);\n    });\n    if (JS_MIME_TYPE in output.data) {\n      toinsert[nchildren-1].children[1].textContent = output.data[JS_MIME_TYPE];\n    }\n    output_area._hv_plot_id = id;\n    if ((window.Bokeh !== undefined) && (id in Bokeh.index)) {\n      window.PyViz.plot_index[id] = Bokeh.index[id];\n    } else {\n      window.PyViz.plot_index[id] = null;\n    }\n  } else if (output.metadata[EXEC_MIME_TYPE][\"server_id\"] !== undefined) {\n    var bk_div = document.createElement(\"div\");\n    bk_div.innerHTML = output.data[HTML_MIME_TYPE];\n    var script_attrs = bk_div.children[0].attributes;\n    for (var i = 0; i < script_attrs.length; i++) {\n      toinsert[toinsert.length - 1].childNodes[1].setAttribute(script_attrs[i].name, script_attrs[i].value);\n    }\n    // store reference to server id on output_area\n    output_area._bokeh_server_id = output.metadata[EXEC_MIME_TYPE][\"server_id\"];\n  }\n}\n\n/**\n * Handle when an output is cleared or removed\n */\nfunction handle_clear_output(event, handle) {\n  var id = handle.cell.output_area._hv_plot_id;\n  var server_id = handle.cell.output_area._bokeh_server_id;\n  if (((id === undefined) || !(id in PyViz.plot_index)) && (server_id !== undefined)) { return; }\n  var comm = window.PyViz.comm_manager.get_client_comm(\"hv-extension-comm\", \"hv-extension-comm\", function () {});\n  if (server_id !== null) {\n    comm.send({event_type: 'server_delete', 'id': server_id});\n    return;\n  } else if (comm !== null) {\n    comm.send({event_type: 'delete', 'id': id});\n  }\n  delete PyViz.plot_index[id];\n  if ((window.Bokeh !== undefined) & (id in window.Bokeh.index)) {\n    var doc = window.Bokeh.index[id].model.document\n    doc.clear();\n    const i = window.Bokeh.documents.indexOf(doc);\n    if (i > -1) {\n      window.Bokeh.documents.splice(i, 1);\n    }\n  }\n}\n\n/**\n * Handle kernel restart event\n */\nfunction handle_kernel_cleanup(event, handle) {\n  delete PyViz.comms[\"hv-extension-comm\"];\n  window.PyViz.plot_index = {}\n}\n\n/**\n * Handle update_display_data messages\n */\nfunction handle_update_output(event, handle) {\n  handle_clear_output(event, {cell: {output_area: handle.output_area}})\n  handle_add_output(event, handle)\n}\n\nfunction register_renderer(events, OutputArea) {\n  function append_mime(data, metadata, element) {\n    // create a DOM node to render to\n    var toinsert = this.create_output_subarea(\n    metadata,\n    CLASS_NAME,\n    EXEC_MIME_TYPE\n    );\n    this.keyboard_manager.register_events(toinsert);\n    // Render to node\n    var props = {data: data, metadata: metadata[EXEC_MIME_TYPE]};\n    render(props, toinsert[0]);\n    element.append(toinsert);\n    return toinsert\n  }\n\n  events.on('output_added.OutputArea', handle_add_output);\n  events.on('output_updated.OutputArea', handle_update_output);\n  events.on('clear_output.CodeCell', handle_clear_output);\n  events.on('delete.Cell', handle_clear_output);\n  events.on('kernel_ready.Kernel', handle_kernel_cleanup);\n\n  OutputArea.prototype.register_mime_type(EXEC_MIME_TYPE, append_mime, {\n    safe: true,\n    index: 0\n  });\n}\n\nif (window.Jupyter !== undefined) {\n  try {\n    var events = require('base/js/events');\n    var OutputArea = require('notebook/js/outputarea').OutputArea;\n    if (OutputArea.prototype.mime_types().indexOf(EXEC_MIME_TYPE) == -1) {\n      register_renderer(events, OutputArea);\n    }\n  } catch(err) {\n  }\n}\n",
      "application/vnd.holoviews_load.v0+json": ""
     },
     "metadata": {},
     "output_type": "display_data"
    },
    {
     "data": {
      "text/html": [
       "<style>*[data-root-id],\n",
       "*[data-root-id] > * {\n",
       "  box-sizing: border-box;\n",
       "  font-family: var(--jp-ui-font-family);\n",
       "  font-size: var(--jp-ui-font-size1);\n",
       "  color: var(--vscode-editor-foreground, var(--jp-ui-font-color1));\n",
       "}\n",
       "\n",
       "/* Override VSCode background color */\n",
       ".cell-output-ipywidget-background:has(\n",
       "    > .cell-output-ipywidget-background > .lm-Widget > *[data-root-id]\n",
       "  ),\n",
       ".cell-output-ipywidget-background:has(> .lm-Widget > *[data-root-id]) {\n",
       "  background-color: transparent !important;\n",
       "}\n",
       "</style>"
      ]
     },
     "metadata": {},
     "output_type": "display_data"
    },
    {
     "data": {
      "application/vnd.holoviews_exec.v0+json": "",
      "text/html": [
       "<div id='p3307'>\n",
       "  <div id=\"ddefdbea-c9c5-4e55-8acd-8267c78dc289\" data-root-id=\"p3307\" style=\"display: contents;\"></div>\n",
       "</div>\n",
       "<script type=\"application/javascript\">(function(root) {\n",
       "  var docs_json = {\"1cd88d91-34b3-47b7-be59-3478b06cdb39\":{\"version\":\"3.3.2\",\"title\":\"Bokeh Application\",\"roots\":[{\"type\":\"object\",\"name\":\"panel.models.browser.BrowserInfo\",\"id\":\"p3307\"},{\"type\":\"object\",\"name\":\"panel.models.comm_manager.CommManager\",\"id\":\"p3308\",\"attributes\":{\"plot_id\":\"p3307\",\"comm_id\":\"fa5e9af7a9f246b8a93d8a75fdcbde80\",\"client_comm_id\":\"1271c9c410504fa09cb8b8208c5e0af0\"}}],\"defs\":[{\"type\":\"model\",\"name\":\"ReactiveHTML1\"},{\"type\":\"model\",\"name\":\"FlexBox1\",\"properties\":[{\"name\":\"align_content\",\"kind\":\"Any\",\"default\":\"flex-start\"},{\"name\":\"align_items\",\"kind\":\"Any\",\"default\":\"flex-start\"},{\"name\":\"flex_direction\",\"kind\":\"Any\",\"default\":\"row\"},{\"name\":\"flex_wrap\",\"kind\":\"Any\",\"default\":\"wrap\"},{\"name\":\"justify_content\",\"kind\":\"Any\",\"default\":\"flex-start\"}]},{\"type\":\"model\",\"name\":\"FloatPanel1\",\"properties\":[{\"name\":\"config\",\"kind\":\"Any\",\"default\":{\"type\":\"map\"}},{\"name\":\"contained\",\"kind\":\"Any\",\"default\":true},{\"name\":\"position\",\"kind\":\"Any\",\"default\":\"right-top\"},{\"name\":\"offsetx\",\"kind\":\"Any\",\"default\":null},{\"name\":\"offsety\",\"kind\":\"Any\",\"default\":null},{\"name\":\"theme\",\"kind\":\"Any\",\"default\":\"primary\"},{\"name\":\"status\",\"kind\":\"Any\",\"default\":\"normalized\"}]},{\"type\":\"model\",\"name\":\"GridStack1\",\"properties\":[{\"name\":\"mode\",\"kind\":\"Any\",\"default\":\"warn\"},{\"name\":\"ncols\",\"kind\":\"Any\",\"default\":null},{\"name\":\"nrows\",\"kind\":\"Any\",\"default\":null},{\"name\":\"allow_resize\",\"kind\":\"Any\",\"default\":true},{\"name\":\"allow_drag\",\"kind\":\"Any\",\"default\":true},{\"name\":\"state\",\"kind\":\"Any\",\"default\":[]}]},{\"type\":\"model\",\"name\":\"drag1\",\"properties\":[{\"name\":\"slider_width\",\"kind\":\"Any\",\"default\":5},{\"name\":\"slider_color\",\"kind\":\"Any\",\"default\":\"black\"},{\"name\":\"value\",\"kind\":\"Any\",\"default\":50}]},{\"type\":\"model\",\"name\":\"click1\",\"properties\":[{\"name\":\"terminal_output\",\"kind\":\"Any\",\"default\":\"\"},{\"name\":\"debug_name\",\"kind\":\"Any\",\"default\":\"\"},{\"name\":\"clears\",\"kind\":\"Any\",\"default\":0}]},{\"type\":\"model\",\"name\":\"copy_to_clipboard1\",\"properties\":[{\"name\":\"fill\",\"kind\":\"Any\",\"default\":\"none\"},{\"name\":\"value\",\"kind\":\"Any\",\"default\":null}]},{\"type\":\"model\",\"name\":\"FastWrapper1\",\"properties\":[{\"name\":\"object\",\"kind\":\"Any\",\"default\":null},{\"name\":\"style\",\"kind\":\"Any\",\"default\":null}]},{\"type\":\"model\",\"name\":\"NotificationAreaBase1\",\"properties\":[{\"name\":\"js_events\",\"kind\":\"Any\",\"default\":{\"type\":\"map\"}},{\"name\":\"position\",\"kind\":\"Any\",\"default\":\"bottom-right\"},{\"name\":\"_clear\",\"kind\":\"Any\",\"default\":0}]},{\"type\":\"model\",\"name\":\"NotificationArea1\",\"properties\":[{\"name\":\"js_events\",\"kind\":\"Any\",\"default\":{\"type\":\"map\"}},{\"name\":\"notifications\",\"kind\":\"Any\",\"default\":[]},{\"name\":\"position\",\"kind\":\"Any\",\"default\":\"bottom-right\"},{\"name\":\"_clear\",\"kind\":\"Any\",\"default\":0},{\"name\":\"types\",\"kind\":\"Any\",\"default\":[{\"type\":\"map\",\"entries\":[[\"type\",\"warning\"],[\"background\",\"#ffc107\"],[\"icon\",{\"type\":\"map\",\"entries\":[[\"className\",\"fas fa-exclamation-triangle\"],[\"tagName\",\"i\"],[\"color\",\"white\"]]}]]},{\"type\":\"map\",\"entries\":[[\"type\",\"info\"],[\"background\",\"#007bff\"],[\"icon\",{\"type\":\"map\",\"entries\":[[\"className\",\"fas fa-info-circle\"],[\"tagName\",\"i\"],[\"color\",\"white\"]]}]]}]}]},{\"type\":\"model\",\"name\":\"Notification\",\"properties\":[{\"name\":\"background\",\"kind\":\"Any\",\"default\":null},{\"name\":\"duration\",\"kind\":\"Any\",\"default\":3000},{\"name\":\"icon\",\"kind\":\"Any\",\"default\":null},{\"name\":\"message\",\"kind\":\"Any\",\"default\":\"\"},{\"name\":\"notification_type\",\"kind\":\"Any\",\"default\":null},{\"name\":\"_destroyed\",\"kind\":\"Any\",\"default\":false}]},{\"type\":\"model\",\"name\":\"TemplateActions1\",\"properties\":[{\"name\":\"open_modal\",\"kind\":\"Any\",\"default\":0},{\"name\":\"close_modal\",\"kind\":\"Any\",\"default\":0}]},{\"type\":\"model\",\"name\":\"BootstrapTemplateActions1\",\"properties\":[{\"name\":\"open_modal\",\"kind\":\"Any\",\"default\":0},{\"name\":\"close_modal\",\"kind\":\"Any\",\"default\":0}]},{\"type\":\"model\",\"name\":\"MaterialTemplateActions1\",\"properties\":[{\"name\":\"open_modal\",\"kind\":\"Any\",\"default\":0},{\"name\":\"close_modal\",\"kind\":\"Any\",\"default\":0}]}]}};\n",
       "  var render_items = [{\"docid\":\"1cd88d91-34b3-47b7-be59-3478b06cdb39\",\"roots\":{\"p3307\":\"ddefdbea-c9c5-4e55-8acd-8267c78dc289\"},\"root_ids\":[\"p3307\"]}];\n",
       "  var docs = Object.values(docs_json)\n",
       "  if (!docs) {\n",
       "    return\n",
       "  }\n",
       "  const py_version = docs[0].version.replace('rc', '-rc.').replace('.dev', '-dev.')\n",
       "  function embed_document(root) {\n",
       "    var Bokeh = get_bokeh(root)\n",
       "    Bokeh.embed.embed_items_notebook(docs_json, render_items);\n",
       "    for (const render_item of render_items) {\n",
       "      for (const root_id of render_item.root_ids) {\n",
       "\tconst id_el = document.getElementById(root_id)\n",
       "\tif (id_el.children.length && (id_el.children[0].className === 'bk-root')) {\n",
       "\t  const root_el = id_el.children[0]\n",
       "\t  root_el.id = root_el.id + '-rendered'\n",
       "\t}\n",
       "      }\n",
       "    }\n",
       "  }\n",
       "  function get_bokeh(root) {\n",
       "    if (root.Bokeh === undefined) {\n",
       "      return null\n",
       "    } else if (root.Bokeh.version !== py_version) {\n",
       "      if (root.Bokeh.versions === undefined || !root.Bokeh.versions.has(py_version)) {\n",
       "\treturn null\n",
       "      }\n",
       "      return root.Bokeh.versions.get(py_version);\n",
       "    } else if (root.Bokeh.version === py_version) {\n",
       "      return root.Bokeh\n",
       "    }\n",
       "    return null\n",
       "  }\n",
       "  function is_loaded(root) {\n",
       "    var Bokeh = get_bokeh(root)\n",
       "    return (Bokeh != null && Bokeh.Panel !== undefined)\n",
       "  }\n",
       "  if (is_loaded(root)) {\n",
       "    embed_document(root);\n",
       "  } else {\n",
       "    var attempts = 0;\n",
       "    var timer = setInterval(function(root) {\n",
       "      if (is_loaded(root)) {\n",
       "        clearInterval(timer);\n",
       "        embed_document(root);\n",
       "      } else if (document.readyState == \"complete\") {\n",
       "        attempts++;\n",
       "        if (attempts > 200) {\n",
       "          clearInterval(timer);\n",
       "\t  var Bokeh = get_bokeh(root)\n",
       "\t  if (Bokeh == null || Bokeh.Panel == null) {\n",
       "            console.warn(\"Panel: ERROR: Unable to run Panel code because Bokeh or Panel library is missing\");\n",
       "\t  } else {\n",
       "\t    console.warn(\"Panel: WARNING: Attempting to render but not all required libraries could be resolved.\")\n",
       "\t    embed_document(root)\n",
       "\t  }\n",
       "        }\n",
       "      }\n",
       "    }, 25, root)\n",
       "  }\n",
       "})(window);</script>"
      ]
     },
     "metadata": {
      "application/vnd.holoviews_exec.v0+json": {
       "id": "p3307"
      }
     },
     "output_type": "display_data"
    },
    {
     "data": {
      "text/html": [
       "\n",
       "<div class=\"logo-block\">\n",
       "<img src='data:image/png;base64,iVBORw0KGgoAAAANSUhEUgAAAEAAAABACAYAAACqaXHeAAAABHNCSVQICAgIfAhkiAAAAAlwSFlz\n",
       "AAAB+wAAAfsBxc2miwAAABl0RVh0U29mdHdhcmUAd3d3Lmlua3NjYXBlLm9yZ5vuPBoAAA6zSURB\n",
       "VHic7ZtpeFRVmsf/5966taWqUlUJ2UioBBJiIBAwCZtog9IOgjqACsogKtqirT2ttt069nQ/zDzt\n",
       "tI4+CrJIREFaFgWhBXpUNhHZQoKBkIUASchWla1S+3ar7r1nPkDaCAnZKoQP/D7mnPOe9/xy76n3\n",
       "nFSAW9ziFoPFNED2LLK5wcyBDObkb8ZkxuaoSYlI6ZcOKq1eWFdedqNzGHQBk9RMEwFAASkk0Xw3\n",
       "ETacDNi2vtvc7L0ROdw0AjoSotQVkKSvHQz/wRO1lScGModBFbDMaNRN1A4tUBCS3lk7BWhQkgpD\n",
       "lG4852/+7DWr1R3uHAZVQDsbh6ZPN7CyxUrCzJMRouusj0ipRwD2uKm0Zn5d2dFwzX1TCGhnmdGo\n",
       "G62Nna+isiUqhkzuKrkQaJlPEv5mFl2fvGg2t/VnzkEV8F5ioioOEWkLG86fvbpthynjdhXYZziQ\n",
       "x1hC9J2NFyi8vCTt91Fh04KGip0AaG9zuCk2wQCVyoNU3Hjezee9bq92duzzTmxsRJoy+jEZZZYo\n",
       "GTKJ6SJngdJqAfRzpze0+jHreUtPc7gpBLQnIYK6BYp/uGhw9YK688eu7v95ysgshcg9qSLMo3JC\n",
       "4jqLKQFBgdKDPoQ+Pltb8dUyQLpeDjeVgI6EgLIQFT5tEl3rn2losHVsexbZ3EyT9wE1uGdkIPcy\n",
       "BGxn8QUq1QrA5nqW5i2tLqvrrM9NK6AdkVIvL9E9bZL/oyfMVd/jqvc8LylzRBKDJSzIExwhQzuL\n",
       "QYGQj4rHfFTc8mUdu3E7yoLtbTe9gI4EqVgVkug2i5+uXGo919ixbRog+3fTbQ8qJe4ZOYNfMoTI\n",
       "OoshUNosgO60AisX15aeI2PSIp5KiFLI9ubb1vV3Qb2ltwLakUCDAkWX7/nHKRmmGIl9VgYsUhJm\n",
       "2NXjKYADtM1ygne9QQDIXlk49FBstMKx66D1v4+XuQr7vqTe0VcBHQlRWiOCbmmSYe2SqtL6q5rJ\n",
       "zsTb7lKx3FKOYC4DoqyS/B5bvLPxvD9Qtf6saxYLQGJErmDOdOMr/zo96km1nElr8bmPOBwI9COv\n",
       "HnFPRIwmkSOv9kcAS4heRsidOkpeWBgZM+UBrTFAXNYL5Vf2ii9c1trNzpYdaoVil3WIc+wdk+gQ\n",
       "noie3ecCcxt9ITcLAPWt/laGEO/9U6PmzZkenTtsSMQ8uYywJVW+grCstAvCIaAdArAsIWkRDDs/\n",
       "KzLm2YcjY1Lv0UdW73HabE9n6V66cxSzfEmuJssTpKGVp+0vHq73FwL46eOjpMpbRAnNmJFrGJNu\n",
       "Ukf9Yrz+3rghiumCKNXXWPhLYcjxGsIpoCMsIRoFITkW8AuyM8jC1+/QLx4bozCEJIq38+1rtpR6\n",
       "V/yzb8eBlRb3fo5l783N0CWolAzJHaVNzkrTzlEp2bQ2q3TC5gn6wpnoQAmwSiGh2GitnTmVMc5O\n",
       "UyfKWUKCIsU7+fZDKwqdT6DDpvkzAX4/+AMFjk0tDp5GRXLpQ2MUmhgDp5gxQT8+Y7hyPsMi8uxF\n",
       "71H0oebujHALECjFKaW9Lm68n18wXp2kVzIcABytD5iXFzg+WVXkegpAsOOYziqo0OkK76GyquC3\n",
       "ltZAzMhhqlSNmmWTE5T6e3IN05ITFLM4GdN0vtZ3ob8Jh1NAKXFbm5PtLU/eqTSlGjkNAJjdgn/N\n",
       "aedXa0tdi7+t9G0FIF49rtMSEgAs1kDLkTPO7ebm4IUWeyh1bKomXqlgMG6kJmHcSM0clYLJ8XtR\n",
       "1GTnbV3F6I5wCGikAb402npp1h1s7LQUZZSMIfALFOuL3UUrfnS8+rez7v9qcold5tilgHbO1fjK\n",
       "9ubb17u9oshxzMiUBKXWqJNxd+fqb0tLVs4lILFnK71H0Ind7uiPgACVcFJlrb0tV6DzxqqTIhUM\n",
       "CwDf1/rrVhTa33/3pGPxJYdQ2l2cbgVcQSosdx8uqnDtbGjh9SlDVSMNWhlnilfqZk42Th2ZpLpf\n",
       "xrHec5e815zrr0dfBZSwzkZfqsv+1FS1KUknUwPARVvItfKUY+cn57yP7qv07UE3p8B2uhUwLk09\n",
       "e0SCOrK+hbdYHYLjRIl71wWzv9jpEoeOHhGRrJAzyEyNiJuUqX0g2sBN5kGK6y2Blp5M3lsB9Qh4\n",
       "y2Ja6x6+i0ucmKgwMATwhSjdUu49tKrQ/pvN5d53ml2CGwCmJipmKjgmyuaXzNeL2a0AkQ01Th5j\n",
       "2DktO3Jyk8f9vcOBQHV94OK+fPumJmvQHxJoWkaKWq9Vs+yUsbq0zGT1I4RgeH2b5wef7+c7bl8F\n",
       "eKgoHVVZa8ZPEORzR6sT1BzDUAD/d9F78e2Tzv99v8D+fLVTqAKAsbGamKey1Mt9Ann4eH3gTXTz\n",
       "idWtAJ8PQWOk7NzSeQn/OTHDuEikVF1R4z8BQCy+6D1aWRfY0tTGG2OM8rRoPaeIj5ZHzJxszElN\n",
       "VM8K8JS5WOfv8mzRnQAKoEhmt8gyPM4lU9SmBK1MCQBnW4KONT86v1hZ1PbwSXPw4JWussVjtH9Y\n",
       "NCoiL9UoH/6PSu8jFrfY2t36erQHXLIEakMi1SydmzB31h3GGXFDFNPaK8Rme9B79Ixrd0WN+1ij\n",
       "NRQ/doRmuFLBkHSTOm5GruG+pFjFdAmorG4IXH1Qua6ASniclfFtDYt+oUjKipPrCQB7QBQ2lrgP\n",
       "fFzm+9XWUtcqJ3/5vDLDpJ79XHZk3u8nGZ42qlj1+ydtbxysCezrydp6ugmipNJ7WBPB5tydY0jP\n",
       "HaVNzs3QzeE4ZpTbI+ZbnSFPbVOw9vsfnVvqWnirPyCNGD08IlqtYkh2hjZ5dErEQzoNm+6ykyOt\n",
       "Lt5/PQEuSRRKo22VkydK+vvS1XEKlhCJAnsqvcVvH7f/ZU2R67eXbMEGAMiIV5oWZWiWvz5Fv2xG\n",
       "sjqNJQRvn3Rs2lji/lNP19VjAQDgD7FHhujZB9OGqYxRkZxixgRDVlqS6uEOFaJUVu0rPFzctrnF\n",
       "JqijImVp8dEKVWyUXDk92zAuMZ6bFwpBU1HrOw6AdhQgUooChb0+ItMbWJitSo5Ws3IAOGEOtL53\n",
       "0vHZih9sC4vtofZ7Qu6523V/fmGcds1TY3V36pUsBwAbSlxnVh2xLfAD/IAIMDf7XYIkNmXfpp2l\n",
       "18rkAJAy9HKFaIr/qULkeQQKy9zf1JgDB2uaeFNGijo5QsUyacNUUTOnGO42xSnv4oOwpDi1zYkc\n",
       "efUc3I5Gk6PhyTuVKaOGyLUAYPGIoY9Pu/atL/L92+4q9wbflRJ2Trpm/jPjdBtfnqB/dIThcl8A\n",
       "KG7hbRuKnb8qsQsVvVlTrwQAQMUlf3kwJI24Z4JhPMtcfng5GcH49GsrxJpGvvHIaeem2ma+KSjQ\n",
       "lIwUdYyCY8j4dE1KzijNnIP2llF2wcXNnsoapw9XxsgYAl6k+KzUXbi2yP3KR2ecf6z3BFsBICdW\n",
       "nvnIaG3eHybqX7vbpEqUMT+9OL4Qpe8VON7dXuFd39v19FoAABRVePbGGuXTszO0P7tu6lghUonE\n",
       "llRdrhArLvmKdh9u29jcFiRRkfLUxBiFNiqSU9icoZQHo5mYBI1MBgBH6wMNb+U7Pnw337H4gi1Y\n",
       "ciWs+uks3Z9fztUvfzxTm9Ne8XXkvQLHNytOOZeiD4e0PgkAIAYCYknKUNUDSXEKzdWNpnil7r4p\n",
       "xqkjTarZMtk/K8TQ6Qve78qqvXurGwIJqcOUKfUWHsm8KGvxSP68YudXq4pcj39X49uOK2X142O0\n",
       "Tz5/u/7TVybqH0rSya6ZBwD21/gubbrgWdDgEOx9WUhfBaC2ibcEBYm7a7x+ukrBMNcEZggyR0TE\n",
       "T8zUPjikQ4VosQZbTpS4vqizBKvqmvjsqnpfzaZyx9JPiz1/bfGKdgD45XB1zoIMzYbfTdS/NClB\n",
       "Gct0USiY3YL/g0LHy/uq/Ef6uo5+n0R/vyhp17Klpge763f8rMu6YU/zrn2nml+2WtH+Z+5IAAFc\n",
       "2bUTdTDOSNa9+cQY7YLsOIXhevEkCvzph7a8laecz/Un/z4/Ae04XeL3UQb57IwU9ZDr9UuKVajv\n",
       "nxp1+1UVIo/LjztZkKH59fO3G/JemqCfmaCRqbqbd90ZZ8FfjtkfAyD0J/9+C2h1hDwsSxvGjNDc\n",
       "b4zk5NfrSwiQblLHzZhg+Jf4aPlUwpDqkQqa9nimbt1/TDH8OitGMaQnj+RJS6B1fbF7SY1TqO5v\n",
       "/v0WAADl1f7zokgS7s7VT2DZ7pegUjBM7mjtiDZbcN4j0YrHH0rXpCtY0qPX0cVL0rv5jv/ZXend\n",
       "0u/EESYBAFBU4T4Qa5TflZOhTe7pmKpaP8kCVUVw1+yhXfJWvn1P3hnXi33JsTN6PnP3hHZ8Z3/h\n",
       "aLHzmkNPuPj7Bc/F/Q38CwjTpSwQXgE4Vmwry9tpfq/ZFgqFMy4AVDtCvi8rvMvOmv0N4YwbVgEA\n",
       "sPM72/KVnzfspmH7HQGCRLG2yL1+z8XwvPcdCbsAANh+xPzstgMtxeGKt+6MK3/tacfvwhWvIwMi\n",
       "oKEBtm0H7W+UVfkc/Y1V0BhoPlDr/w1w/eu1vjIgAgDg22OtX6/eYfnEz/focrZTHAFR+PSs56/7\n",
       "q32nwpjazxgwAQCwcU/T62t3WL7r6/jVRa6/byp1rei+Z98ZUAEAhEPHPc8fKnTU9nbgtnOe8h0l\n",
       "9hcGIqmODLQAHCy2Xti6v/XNRivf43f4fFvIteu854+VHnR7q9tfBlwAAGz+pnndB9vM26UebAe8\n",
       "SLHujPOTPVW+rwY+sxskAAC2HrA8t2Vvc7ffP1r9o+vwR2dcr92InIAbKKC1FZ5tB1tf+/G8p8sv\n",
       "N/9Q5zd/XR34LYCwV5JdccMEAMDBk45DH243r/X4xGvqxFa/GNpS7n6rwOwNWwHVE26oAADYurf1\n",
       "zx/utOzt+DMKYM0p17YtZZ5VNzqfsB2HewG1WXE8PoZ7gOclbTIvynZf9JV+fqZtfgs/8F/Nu5rB\n",
       "EIBmJ+8QRMmpU7EzGRsf2FzuePqYRbzh/zE26EwdrT10f6r6o8HOYzCJB9Dpff8tbnGLG8L/A/WE\n",
       "roTBs2RqAAAAAElFTkSuQmCC'\n",
       "     style='height:25px; border-radius:12px; display: inline-block; float: left; vertical-align: middle'></img>\n",
       "\n",
       "\n",
       "  <img src='data:image/png;base64,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'\n",
       "       style='height:15px; border-radius:12px; display: inline-block; float: left'></img>\n",
       "  \n",
       "\n",
       "\n",
       "\n",
       "\n",
       "</div>\n"
      ]
     },
     "metadata": {},
     "output_type": "display_data"
    }
   ],
   "source": [
    "import holoviews as hv\n",
    "from holoviews import opts\n",
    "\n",
    "hv.extension('bokeh')"
   ]
  },
  {
   "cell_type": "code",
   "execution_count": 98,
   "metadata": {},
   "outputs": [
    {
     "data": {},
     "metadata": {},
     "output_type": "display_data"
    },
    {
     "data": {
      "application/vnd.holoviews_exec.v0+json": "",
      "text/html": [
       "<div id='p3309'>\n",
       "  <div id=\"cb545fc1-f57b-4a5f-9c4c-9d6eefd423b9\" data-root-id=\"p3309\" style=\"display: contents;\"></div>\n",
       "</div>\n",
       "<script type=\"application/javascript\">(function(root) {\n",
       "  var docs_json = {\"acfa5a2d-ff27-4cc1-824b-f22d7b234e1a\":{\"version\":\"3.3.2\",\"title\":\"Bokeh Application\",\"roots\":[{\"type\":\"object\",\"name\":\"Row\",\"id\":\"p3309\",\"attributes\":{\"name\":\"Row10019\",\"tags\":[\"embedded\"],\"stylesheets\":[\"\\n:host(.pn-loading.pn-arc):before, .pn-loading.pn-arc:before {\\n  background-image: url(\\\"data:image/svg+xml;base64,PHN2ZyB4bWxucz0iaHR0cDovL3d3dy53My5vcmcvMjAwMC9zdmciIHN0eWxlPSJtYXJnaW46IGF1dG87IGJhY2tncm91bmQ6IG5vbmU7IGRpc3BsYXk6IGJsb2NrOyBzaGFwZS1yZW5kZXJpbmc6IGF1dG87IiB2aWV3Qm94PSIwIDAgMTAwIDEwMCIgcHJlc2VydmVBc3BlY3RSYXRpbz0ieE1pZFlNaWQiPiAgPGNpcmNsZSBjeD0iNTAiIGN5PSI1MCIgZmlsbD0ibm9uZSIgc3Ryb2tlPSIjYzNjM2MzIiBzdHJva2Utd2lkdGg9IjEwIiByPSIzNSIgc3Ryb2tlLWRhc2hhcnJheT0iMTY0LjkzMzYxNDMxMzQ2NDE1IDU2Ljk3Nzg3MTQzNzgyMTM4Ij4gICAgPGFuaW1hdGVUcmFuc2Zvcm0gYXR0cmlidXRlTmFtZT0idHJhbnNmb3JtIiB0eXBlPSJyb3RhdGUiIHJlcGVhdENvdW50PSJpbmRlZmluaXRlIiBkdXI9IjFzIiB2YWx1ZXM9IjAgNTAgNTA7MzYwIDUwIDUwIiBrZXlUaW1lcz0iMDsxIj48L2FuaW1hdGVUcmFuc2Zvcm0+ICA8L2NpcmNsZT48L3N2Zz4=\\\");\\n  background-size: auto calc(min(50%, 400px));\\n}\",{\"type\":\"object\",\"name\":\"ImportedStyleSheet\",\"id\":\"p3312\",\"attributes\":{\"url\":\"https://cdn.holoviz.org/panel/1.3.6/dist/css/loading.css\"}},{\"type\":\"object\",\"name\":\"ImportedStyleSheet\",\"id\":\"p3432\",\"attributes\":{\"url\":\"https://cdn.holoviz.org/panel/1.3.6/dist/css/listpanel.css\"}},{\"type\":\"object\",\"name\":\"ImportedStyleSheet\",\"id\":\"p3310\",\"attributes\":{\"url\":\"https://cdn.holoviz.org/panel/1.3.6/dist/bundled/theme/default.css\"}},{\"type\":\"object\",\"name\":\"ImportedStyleSheet\",\"id\":\"p3311\",\"attributes\":{\"url\":\"https://cdn.holoviz.org/panel/1.3.6/dist/bundled/theme/native.css\"}}],\"min_width\":1200,\"margin\":0,\"sizing_mode\":\"stretch_width\",\"align\":\"start\",\"children\":[{\"type\":\"object\",\"name\":\"Spacer\",\"id\":\"p3313\",\"attributes\":{\"name\":\"HSpacer10026\",\"stylesheets\":[\"\\n:host(.pn-loading.pn-arc):before, .pn-loading.pn-arc:before {\\n  background-image: url(\\\"data:image/svg+xml;base64,PHN2ZyB4bWxucz0iaHR0cDovL3d3dy53My5vcmcvMjAwMC9zdmciIHN0eWxlPSJtYXJnaW46IGF1dG87IGJhY2tncm91bmQ6IG5vbmU7IGRpc3BsYXk6IGJsb2NrOyBzaGFwZS1yZW5kZXJpbmc6IGF1dG87IiB2aWV3Qm94PSIwIDAgMTAwIDEwMCIgcHJlc2VydmVBc3BlY3RSYXRpbz0ieE1pZFlNaWQiPiAgPGNpcmNsZSBjeD0iNTAiIGN5PSI1MCIgZmlsbD0ibm9uZSIgc3Ryb2tlPSIjYzNjM2MzIiBzdHJva2Utd2lkdGg9IjEwIiByPSIzNSIgc3Ryb2tlLWRhc2hhcnJheT0iMTY0LjkzMzYxNDMxMzQ2NDE1IDU2Ljk3Nzg3MTQzNzgyMTM4Ij4gICAgPGFuaW1hdGVUcmFuc2Zvcm0gYXR0cmlidXRlTmFtZT0idHJhbnNmb3JtIiB0eXBlPSJyb3RhdGUiIHJlcGVhdENvdW50PSJpbmRlZmluaXRlIiBkdXI9IjFzIiB2YWx1ZXM9IjAgNTAgNTA7MzYwIDUwIDUwIiBrZXlUaW1lcz0iMDsxIj48L2FuaW1hdGVUcmFuc2Zvcm0+ICA8L2NpcmNsZT48L3N2Zz4=\\\");\\n  background-size: auto calc(min(50%, 400px));\\n}\",{\"id\":\"p3312\"},{\"id\":\"p3310\"},{\"id\":\"p3311\"}],\"margin\":0,\"sizing_mode\":\"stretch_width\",\"align\":\"start\"}},{\"type\":\"object\",\"name\":\"Figure\",\"id\":\"p3321\",\"attributes\":{\"width\":1200,\"height\":1000,\"margin\":[5,10],\"sizing_mode\":\"fixed\",\"align\":\"start\",\"x_range\":{\"type\":\"object\",\"name\":\"Range1d\",\"id\":\"p3314\",\"attributes\":{\"tags\":[[[\"x\",\"x\",null]],[]],\"start\":-227.5,\"end\":1033.5,\"reset_start\":-227.5,\"reset_end\":1033.5}},\"y_range\":{\"type\":\"object\",\"name\":\"Range1d\",\"id\":\"p3315\",\"attributes\":{\"tags\":[[[\"y\",\"y\",null]],{\"type\":\"map\",\"entries\":[[\"invert_yaxis\",false],[\"autorange\",false]]}],\"start\":-25.000000000000004,\"end\":525.0000000000001,\"reset_start\":-25.000000000000004,\"reset_end\":525.0000000000001}},\"x_scale\":{\"type\":\"object\",\"name\":\"LinearScale\",\"id\":\"p3331\"},\"y_scale\":{\"type\":\"object\",\"name\":\"LinearScale\",\"id\":\"p3332\"},\"title\":{\"type\":\"object\",\"name\":\"Title\",\"id\":\"p3324\",\"attributes\":{\"text\":\"Rail Diagram\",\"text_color\":\"black\",\"text_font_size\":\"14pt\"}},\"outline_line_alpha\":0,\"renderers\":[{\"type\":\"object\",\"name\":\"GraphRenderer\",\"id\":\"p3378\",\"attributes\":{\"layout_provider\":{\"type\":\"object\",\"name\":\"StaticLayoutProvider\",\"id\":\"p3361\",\"attributes\":{\"graph_layout\":{\"type\":\"map\",\"entries\":[[0,[15.0,21.0736515]],[1,[15.0,275.33595885527336]],[2,[15.0,348.5526122740388]],[3,[15.0,483.8404075164688]],[4,[15.0,425.0155158673218]],[5,[15.0,221.3328326177338]],[6,[15.0,139.75234597480642]],[7,[15.0,180.10303266657584]],[8,[15.0,68.29674182336396]],[9,[15.0,100.2467815989736]],[10,[985.0,51.98724853024499]],[11,[985.0,189.66236527702438]],[12,[985.0,244.47722312851374]],[13,[985.0,401.07819076579267]],[14,[985.0,136.84869833201986]],[15,[985.0,303.1681018202483]],[16,[985.0,453.0597171904893]],[17,[985.0,493.2607085860497]]]}}},\"node_renderer\":{\"type\":\"object\",\"name\":\"GlyphRenderer\",\"id\":\"p3367\",\"attributes\":{\"data_source\":{\"type\":\"object\",\"name\":\"ColumnDataSource\",\"id\":\"p3354\",\"attributes\":{\"selected\":{\"type\":\"object\",\"name\":\"Selection\",\"id\":\"p3355\",\"attributes\":{\"indices\":[],\"line_indices\":[]}},\"selection_policy\":{\"type\":\"object\",\"name\":\"UnionRenderers\",\"id\":\"p3356\"},\"data\":{\"type\":\"map\",\"entries\":[[\"index\",[\"Tun Razak Exchange (origin)\",\"KLCC (origin)\",\"Bukit Bintang (origin)\",\"Ampang Park (origin)\",\"KL Sentral (origin)\",\"Pasar Seni (origin)\",\"Maluri (origin)\",\"Wangsa Maju (origin)\",\"Imbi (origin)\",\"Hang Tuah (origin)\",\"Bukit Bintang (destination)\",\"Ampang Park (destination)\",\"Tun Razak Exchange (destination)\",\"KLCC (destination)\",\"Maluri (destination)\",\"KL Sentral (destination)\",\"Pasar Seni (destination)\",\"Wangsa Maju (destination)\"]],[\"x0\",[0.0,0.0,0.0,0.0,0.0,0.0,0.0,0.0,0.0,0.0,970.0,970.0,970.0,970.0,970.0,970.0,970.0,970.0]],[\"x1\",[30.0,30.0,30.0,30.0,30.0,30.0,30.0,30.0,30.0,30.0,1000.0,1000.0,1000.0,1000.0,1000.0,1000.0,1000.0,1000.0]],[\"y0\",[0.0,255.91690971054672,314.7550075480775,467.68081503293763,402.3502167346437,206.7487552354676,126.0473819496128,173.4573103331517,62.147302646727915,94.4461811979472,2.212612060489974,171.9355115540488,227.3892192570275,382.5583645315853,121.76188466403974,281.5652266404966,439.5980173809787,486.5214171720994]],[\"y1\",[42.147303,294.755008,382.350217,500.0,447.680815,235.91691,153.45731,186.748755,74.446181,106.047382,101.761885,207.389219,261.565227,419.598017,151.935512,324.770977,466.521417,500.0]]]}}},\"view\":{\"type\":\"object\",\"name\":\"CDSView\",\"id\":\"p3368\",\"attributes\":{\"filter\":{\"type\":\"object\",\"name\":\"AllIndices\",\"id\":\"p3369\"}}},\"glyph\":{\"type\":\"object\",\"name\":\"Circle\",\"id\":\"p3362\",\"attributes\":{\"size\":{\"type\":\"value\",\"value\":10},\"fill_color\":{\"type\":\"field\",\"field\":\"index\",\"transform\":{\"type\":\"object\",\"name\":\"CategoricalColorMapper\",\"id\":\"p3353\",\"attributes\":{\"palette\":[\"#1f77b4\",\"#aec7e8\",\"#ff7f0e\",\"#ffbb78\",\"#2ca02c\",\"#98df8a\",\"#d62728\",\"#ff9896\",\"#9467bd\",\"#c5b0d5\",\"#8c564b\",\"#c49c94\",\"#e377c2\",\"#f7b6d2\",\"#7f7f7f\",\"#c7c7c7\",\"#bcbd22\",\"#dbdb8d\"],\"factors\":[\"Tun Razak Exchange (origin)\",\"KLCC (origin)\",\"Bukit Bintang (origin)\",\"Ampang Park (origin)\",\"KL Sentral (origin)\",\"Pasar Seni (origin)\",\"Maluri (origin)\",\"Wangsa Maju (origin)\",\"Imbi (origin)\",\"Hang Tuah (origin)\",\"Bukit Bintang (destination)\",\"Ampang Park (destination)\",\"Tun Razak Exchange (destination)\",\"KLCC (destination)\",\"Maluri (destination)\",\"KL Sentral (destination)\",\"Pasar Seni (destination)\",\"Wangsa Maju (destination)\"]}}}}},\"selection_glyph\":{\"type\":\"object\",\"name\":\"Circle\",\"id\":\"p3364\",\"attributes\":{\"size\":{\"type\":\"value\",\"value\":10},\"fill_color\":{\"type\":\"field\",\"field\":\"index\",\"transform\":{\"id\":\"p3353\"}}}},\"nonselection_glyph\":{\"type\":\"object\",\"name\":\"Circle\",\"id\":\"p3363\",\"attributes\":{\"size\":{\"type\":\"value\",\"value\":10},\"line_alpha\":{\"type\":\"value\",\"value\":0.2},\"fill_color\":{\"type\":\"field\",\"field\":\"index\",\"transform\":{\"id\":\"p3353\"}},\"fill_alpha\":{\"type\":\"value\",\"value\":0.2},\"hatch_alpha\":{\"type\":\"value\",\"value\":0.2}}},\"hover_glyph\":{\"type\":\"object\",\"name\":\"Circle\",\"id\":\"p3365\",\"attributes\":{\"size\":{\"type\":\"value\",\"value\":10},\"fill_color\":{\"type\":\"field\",\"field\":\"index\",\"transform\":{\"id\":\"p3353\"}}}},\"muted_glyph\":{\"type\":\"object\",\"name\":\"Circle\",\"id\":\"p3366\",\"attributes\":{\"size\":{\"type\":\"value\",\"value\":10},\"line_alpha\":{\"type\":\"value\",\"value\":0.2},\"fill_color\":{\"type\":\"field\",\"field\":\"index\",\"transform\":{\"id\":\"p3353\"}},\"fill_alpha\":{\"type\":\"value\",\"value\":0.2},\"hatch_alpha\":{\"type\":\"value\",\"value\":0.2}}}}},\"edge_renderer\":{\"type\":\"object\",\"name\":\"GlyphRenderer\",\"id\":\"p3375\",\"attributes\":{\"data_source\":{\"type\":\"object\",\"name\":\"ColumnDataSource\",\"id\":\"p3358\",\"attributes\":{\"selected\":{\"type\":\"object\",\"name\":\"Selection\",\"id\":\"p3359\",\"attributes\":{\"indices\":[],\"line_indices\":[]}},\"selection_policy\":{\"type\":\"object\",\"name\":\"UnionRenderers\",\"id\":\"p3360\"},\"data\":{\"type\":\"map\",\"entries\":[[\"start\",{\"type\":\"ndarray\",\"array\":{\"type\":\"bytes\",\"data\":\"AAAAAAEAAAACAAAAAwAAAAQAAAACAAAABQAAAAEAAAAGAAAABAAAAAIAAAACAAAAAwAAAAAAAAAHAAAABQAAAAQAAAAIAAAABgAAAAkAAAA=\"},\"shape\":[20],\"dtype\":\"int32\",\"order\":\"little\"}],[\"end\",{\"type\":\"ndarray\",\"array\":{\"type\":\"bytes\",\"data\":\"CgAAAAsAAAAMAAAADQAAAA0AAAAOAAAACgAAAA8AAAAKAAAACgAAABAAAAAPAAAAEQAAAA4AAAALAAAADwAAABAAAAAKAAAADAAAAAoAAAA=\"},\"shape\":[20],\"dtype\":\"int32\",\"order\":\"little\"}],[\"xs\",[{\"type\":\"ndarray\",\"array\":{\"type\":\"bytes\",\"data\":\"AAAAAAAAPkAAAAAAAAA+QAAAAAAAAD5AXFFhjB4ZTUCU/WbNBFFVQAS2QAVy0FtApcStLvQGYUBal6qiPAZkQMuuZRab52ZAoeatQZisaUB+GlLcvFZsQA0mIZ6R525AefJ0n0+wcEBwmT07t+FxQLn1Uf7DCHNAKnWZRDomdECZhftp3jp1QNeUX8p0R3ZAuBCtwcFMd0ARZ8uriUt4QLQFouSQRHlAeFoYyJs4ekAs0xWybih7QKvdgf7NFHxAw+dDCX7+fEBIX0MuQ+Z9QBGyZ8nhzH5A8E2YNh6zf0BbUN5o3kyAQB4MXvvAwIBAKhG/AJk1gUBpFvWmyKuBQMTS8xuyI4JAJf2ujbedgkB3TBoqOxqDQKR3KR+fmYNAlTXQmkUchEAzPQLLkKKEQGpFs93iLIVAIwXXAJ67hUBIM2FiJE+GQMKGRTDY54ZAfLZ3mBuGh0BgeevIUCqIQFiGlO/Z1IhATZRmOhmGiUAoWlXXcD6KQNaOVPRC/opAPulXv/HFi0BNIFNm35WMQOrqORdubo1AAAAAAABQjkAAAAAAAFCOQAAAAAAAUI5AAAAAAABQjkDr6jkXbm6NQE0gU2bflYxAQOlXv/HFi0DYjlT0Qv6KQChaVddwPopATZRmOhmGiUBZhpTv2dSIQGJ568hQKohAfbZ3mBuGh0DChkUw2OeGQEczYWIkT4ZAIgXXAJ67hUBqRbPd4iyFQDU9AsuQooRAljXQmkUchECmdykfn5mDQHlMGio7GoNAJf2ujbedgkDF0vMbsiOCQGgW9abIq4FAKhG/AJk1gUAfDF77wMCAQFxQ3mjeTIBA8E2YNh6zf0AQsmfJ4cx+QElfQy5D5n1Aw+dDCX7+fECt3YH+zRR8QC7TFbJuKHtAeVoYyJs4ekC2BaLkkER5QBFny6uJS3hAuBCtwcFMd0DWlF/KdEd2QJuF+2neOnVALXWZRDomdEC79VH+wwhzQHCZPTu34XFAffJ0n0+wcEAQJiGekeduQIEaUty8VmxAouatQZisaUDMrmUWm+dmQGCXqqI8BmRAqcStLvQGYUAKtkAFctBbQJr9Zs0EUVVAYVFhjB4ZTUAAAAAAAAA+QA==\"},\"shape\":[104],\"dtype\":\"float64\",\"order\":\"little\"},{\"type\":\"ndarray\",\"array\":{\"type\":\"bytes\",\"data\":\"AAAAAAAAPkAAAAAAAAA+QAAAAAAAAD5AXFFhjB4ZTUCU/WbNBFFVQAS2QAVy0FtApcStLvQGYUBal6qiPAZkQMuuZRab52ZAoeatQZisaUB+GlLcvFZsQA0mIZ6R525AefJ0n0+wcEBwmT07t+FxQLn1Uf7DCHNAKnWZRDomdECZhftp3jp1QNeUX8p0R3ZAuBCtwcFMd0ARZ8uriUt4QLQFouSQRHlAeFoYyJs4ekAs0xWybih7QKvdgf7NFHxAw+dDCX7+fEBIX0MuQ+Z9QBGyZ8nhzH5A8E2YNh6zf0BbUN5o3kyAQB4MXvvAwIBAKhG/AJk1gUBpFvWmyKuBQMTS8xuyI4JAJf2ujbedgkB3TBoqOxqDQKR3KR+fmYNAlTXQmkUchEAzPQLLkKKEQGpFs93iLIVAIwXXAJ67hUBIM2FiJE+GQMKGRTDY54ZAfLZ3mBuGh0BgeevIUCqIQFiGlO/Z1IhATZRmOhmGiUAoWlXXcD6KQNaOVPRC/opAPulXv/HFi0BNIFNm35WMQOrqORdubo1AAAAAAABQjkAAAAAAAFCOQAAAAAAAUI5AAAAAAABQjkDr6jkXbm6NQE0gU2bflYxAQOlXv/HFi0DYjlT0Qv6KQChaVddwPopATZRmOhmGiUBZhpTv2dSIQGJ568hQKohAfbZ3mBuGh0DChkUw2OeGQEczYWIkT4ZAIgXXAJ67hUBqRbPd4iyFQDU9AsuQooRAljXQmkUchECmdykfn5mDQHlMGio7GoNAJf2ujbedgkDF0vMbsiOCQGgW9abIq4FAKhG/AJk1gUAfDF77wMCAQFxQ3mjeTIBA8E2YNh6zf0AQsmfJ4cx+QElfQy5D5n1Aw+dDCX7+fECt3YH+zRR8QC7TFbJuKHtAeVoYyJs4ekC2BaLkkER5QBFny6uJS3hAuBCtwcFMd0DWlF/KdEd2QJuF+2neOnVALXWZRDomdEC79VH+wwhzQHCZPTu34XFAffJ0n0+wcEAQJiGekeduQIEaUty8VmxAouatQZisaUDMrmUWm+dmQGCXqqI8BmRAqcStLvQGYUAKtkAFctBbQJr9Zs0EUVVAYVFhjB4ZTUAAAAAAAAA+QA==\"},\"shape\":[104],\"dtype\":\"float64\",\"order\":\"little\"},{\"type\":\"ndarray\",\"array\":{\"type\":\"bytes\",\"data\":\"AAAAAAAAPkAAAAAAAAA+QAAAAAAAAD5AXFFhjB4ZTUCU/WbNBFFVQAS2QAVy0FtApcStLvQGYUBal6qiPAZkQMuuZRab52ZAoeatQZisaUB+GlLcvFZsQA0mIZ6R525AefJ0n0+wcEBwmT07t+FxQLn1Uf7DCHNAKnWZRDomdECZhftp3jp1QNeUX8p0R3ZAuBCtwcFMd0ARZ8uriUt4QLQFouSQRHlAeFoYyJs4ekAs0xWybih7QKvdgf7NFHxAw+dDCX7+fEBIX0MuQ+Z9QBGyZ8nhzH5A8E2YNh6zf0BbUN5o3kyAQB4MXvvAwIBAKhG/AJk1gUBpFvWmyKuBQMTS8xuyI4JAJf2ujbedgkB3TBoqOxqDQKR3KR+fmYNAlTXQmkUchEAzPQLLkKKEQGpFs93iLIVAIwXXAJ67hUBIM2FiJE+GQMKGRTDY54ZAfLZ3mBuGh0BgeevIUCqIQFiGlO/Z1IhATZRmOhmGiUAoWlXXcD6KQNaOVPRC/opAPulXv/HFi0BNIFNm35WMQOrqORdubo1AAAAAAABQjkAAAAAAAFCOQAAAAAAAUI5AAAAAAABQjkDr6jkXbm6NQE0gU2bflYxAQOlXv/HFi0DYjlT0Qv6KQChaVddwPopATZRmOhmGiUBZhpTv2dSIQGJ568hQKohAfbZ3mBuGh0DChkUw2OeGQEczYWIkT4ZAIgXXAJ67hUBqRbPd4iyFQDU9AsuQooRAljXQmkUchECmdykfn5mDQHlMGio7GoNAJf2ujbedgkDF0vMbsiOCQGgW9abIq4FAKhG/AJk1gUAfDF77wMCAQFxQ3mjeTIBA8E2YNh6zf0AQsmfJ4cx+QElfQy5D5n1Aw+dDCX7+fECt3YH+zRR8QC7TFbJuKHtAeVoYyJs4ekC2BaLkkER5QBFny6uJS3hAuBCtwcFMd0DWlF/KdEd2QJuF+2neOnVALXWZRDomdEC79VH+wwhzQHCZPTu34XFAffJ0n0+wcEAQJiGekeduQIEaUty8VmxAouatQZisaUDMrmUWm+dmQGCXqqI8BmRAqcStLvQGYUAKtkAFctBbQJr9Zs0EUVVAYVFhjB4ZTUAAAAAAAAA+QA==\"},\"shape\":[104],\"dtype\":\"float64\",\"order\":\"little\"},{\"type\":\"ndarray\",\"array\":{\"type\":\"bytes\",\"data\":\"AAAAAAAAPkAAAAAAAAA+QAAAAAAAAD5AXFFhjB4ZTUCU/WbNBFFVQAS2QAVy0FtApcStLvQGYUBal6qiPAZkQMuuZRab52ZAoeatQZisaUB+GlLcvFZsQA0mIZ6R525AefJ0n0+wcEBwmT07t+FxQLn1Uf7DCHNAKnWZRDomdECZhftp3jp1QNeUX8p0R3ZAuBCtwcFMd0ARZ8uriUt4QLQFouSQRHlAeFoYyJs4ekAs0xWybih7QKvdgf7NFHxAw+dDCX7+fEBIX0MuQ+Z9QBGyZ8nhzH5A8E2YNh6zf0BbUN5o3kyAQB4MXvvAwIBAKhG/AJk1gUBpFvWmyKuBQMTS8xuyI4JAJf2ujbedgkB3TBoqOxqDQKR3KR+fmYNAlTXQmkUchEAzPQLLkKKEQGpFs93iLIVAIwXXAJ67hUBIM2FiJE+GQMKGRTDY54ZAfLZ3mBuGh0BgeevIUCqIQFiGlO/Z1IhATZRmOhmGiUAoWlXXcD6KQNaOVPRC/opAPulXv/HFi0BNIFNm35WMQOrqORdubo1AAAAAAABQjkAAAAAAAFCOQAAAAAAAUI5AAAAAAABQjkDr6jkXbm6NQE0gU2bflYxAQOlXv/HFi0DYjlT0Qv6KQChaVddwPopATZRmOhmGiUBZhpTv2dSIQGJ568hQKohAfbZ3mBuGh0DChkUw2OeGQEczYWIkT4ZAIgXXAJ67hUBqRbPd4iyFQDU9AsuQooRAljXQmkUchECmdykfn5mDQHlMGio7GoNAJf2ujbedgkDF0vMbsiOCQGgW9abIq4FAKhG/AJk1gUAfDF77wMCAQFxQ3mjeTIBA8E2YNh6zf0AQsmfJ4cx+QElfQy5D5n1Aw+dDCX7+fECt3YH+zRR8QC7TFbJuKHtAeVoYyJs4ekC2BaLkkER5QBFny6uJS3hAuBCtwcFMd0DWlF/KdEd2QJuF+2neOnVALXWZRDomdEC79VH+wwhzQHCZPTu34XFAffJ0n0+wcEAQJiGekeduQIEaUty8VmxAouatQZisaUDMrmUWm+dmQGCXqqI8BmRAqcStLvQGYUAKtkAFctBbQJr9Zs0EUVVAYVFhjB4ZTUAAAAAAAAA+QA==\"},\"shape\":[104],\"dtype\":\"float64\",\"order\":\"little\"},{\"type\":\"ndarray\",\"array\":{\"type\":\"bytes\",\"data\":\"AAAAAAAAPkAAAAAAAAA+QAAAAAAAAD5AXFFhjB4ZTUCU/WbNBFFVQAS2QAVy0FtApcStLvQGYUBal6qiPAZkQMuuZRab52ZAoeatQZisaUB+GlLcvFZsQA0mIZ6R525AefJ0n0+wcEBwmT07t+FxQLn1Uf7DCHNAKnWZRDomdECZhftp3jp1QNeUX8p0R3ZAuBCtwcFMd0ARZ8uriUt4QLQFouSQRHlAeFoYyJs4ekAs0xWybih7QKvdgf7NFHxAw+dDCX7+fEBIX0MuQ+Z9QBGyZ8nhzH5A8E2YNh6zf0BbUN5o3kyAQB4MXvvAwIBAKhG/AJk1gUBpFvWmyKuBQMTS8xuyI4JAJf2ujbedgkB3TBoqOxqDQKR3KR+fmYNAlTXQmkUchEAzPQLLkKKEQGpFs93iLIVAIwXXAJ67hUBIM2FiJE+GQMKGRTDY54ZAfLZ3mBuGh0BgeevIUCqIQFiGlO/Z1IhATZRmOhmGiUAoWlXXcD6KQNaOVPRC/opAPulXv/HFi0BNIFNm35WMQOrqORdubo1AAAAAAABQjkAAAAAAAFCOQAAAAAAAUI5AAAAAAABQjkDr6jkXbm6NQE0gU2bflYxAQOlXv/HFi0DYjlT0Qv6KQChaVddwPopATZRmOhmGiUBZhpTv2dSIQGJ568hQKohAfbZ3mBuGh0DChkUw2OeGQEczYWIkT4ZAIgXXAJ67hUBqRbPd4iyFQDU9AsuQooRAljXQmkUchECmdykfn5mDQHlMGio7GoNAJf2ujbedgkDF0vMbsiOCQGgW9abIq4FAKhG/AJk1gUAfDF77wMCAQFxQ3mjeTIBA8E2YNh6zf0AQsmfJ4cx+QElfQy5D5n1Aw+dDCX7+fECt3YH+zRR8QC7TFbJuKHtAeVoYyJs4ekC2BaLkkER5QBFny6uJS3hAuBCtwcFMd0DWlF/KdEd2QJuF+2neOnVALXWZRDomdEC79VH+wwhzQHCZPTu34XFAffJ0n0+wcEAQJiGekeduQIEaUty8VmxAouatQZisaUDMrmUWm+dmQGCXqqI8BmRAqcStLvQGYUAKtkAFctBbQJr9Zs0EUVVAYVFhjB4ZTUAAAAAAAAA+QA==\"},\"shape\":[104],\"dtype\":\"float64\",\"order\":\"little\"},{\"type\":\"ndarray\",\"array\":{\"type\":\"bytes\",\"data\":\"AAAAAAAAPkAAAAAAAAA+QAAAAAAAAD5AXFFhjB4ZTUCU/WbNBFFVQAS2QAVy0FtApcStLvQGYUBal6qiPAZkQMuuZRab52ZAoeatQZisaUB+GlLcvFZsQA0mIZ6R525AefJ0n0+wcEBwmT07t+FxQLn1Uf7DCHNAKnWZRDomdECZhftp3jp1QNeUX8p0R3ZAuBCtwcFMd0ARZ8uriUt4QLQFouSQRHlAeFoYyJs4ekAs0xWybih7QKvdgf7NFHxAw+dDCX7+fEBIX0MuQ+Z9QBGyZ8nhzH5A8E2YNh6zf0BbUN5o3kyAQB4MXvvAwIBAKhG/AJk1gUBpFvWmyKuBQMTS8xuyI4JAJf2ujbedgkB3TBoqOxqDQKR3KR+fmYNAlTXQmkUchEAzPQLLkKKEQGpFs93iLIVAIwXXAJ67hUBIM2FiJE+GQMKGRTDY54ZAfLZ3mBuGh0BgeevIUCqIQFiGlO/Z1IhATZRmOhmGiUAoWlXXcD6KQNaOVPRC/opAPulXv/HFi0BNIFNm35WMQOrqORdubo1AAAAAAABQjkAAAAAAAFCOQAAAAAAAUI5AAAAAAABQjkDr6jkXbm6NQE0gU2bflYxAQOlXv/HFi0DYjlT0Qv6KQChaVddwPopATZRmOhmGiUBZhpTv2dSIQGJ568hQKohAfbZ3mBuGh0DChkUw2OeGQEczYWIkT4ZAIgXXAJ67hUBqRbPd4iyFQDU9AsuQooRAljXQmkUchECmdykfn5mDQHlMGio7GoNAJf2ujbedgkDF0vMbsiOCQGgW9abIq4FAKhG/AJk1gUAfDF77wMCAQFxQ3mjeTIBA8E2YNh6zf0AQsmfJ4cx+QElfQy5D5n1Aw+dDCX7+fECt3YH+zRR8QC7TFbJuKHtAeVoYyJs4ekC2BaLkkER5QBFny6uJS3hAuBCtwcFMd0DWlF/KdEd2QJuF+2neOnVALXWZRDomdEC79VH+wwhzQHCZPTu34XFAffJ0n0+wcEAQJiGekeduQIEaUty8VmxAouatQZisaUDMrmUWm+dmQGCXqqI8BmRAqcStLvQGYUAKtkAFctBbQJr9Zs0EUVVAYVFhjB4ZTUAAAAAAAAA+QA==\"},\"shape\":[104],\"dtype\":\"float64\",\"order\":\"little\"},{\"type\":\"ndarray\",\"array\":{\"type\":\"bytes\",\"data\":\"AAAAAAAAPkAAAAAAAAA+QAAAAAAAAD5AXFFhjB4ZTUCU/WbNBFFVQAS2QAVy0FtApcStLvQGYUBal6qiPAZkQMuuZRab52ZAoeatQZisaUB+GlLcvFZsQA0mIZ6R525AefJ0n0+wcEBwmT07t+FxQLn1Uf7DCHNAKnWZRDomdECZhftp3jp1QNeUX8p0R3ZAuBCtwcFMd0ARZ8uriUt4QLQFouSQRHlAeFoYyJs4ekAs0xWybih7QKvdgf7NFHxAw+dDCX7+fEBIX0MuQ+Z9QBGyZ8nhzH5A8E2YNh6zf0BbUN5o3kyAQB4MXvvAwIBAKhG/AJk1gUBpFvWmyKuBQMTS8xuyI4JAJf2ujbedgkB3TBoqOxqDQKR3KR+fmYNAlTXQmkUchEAzPQLLkKKEQGpFs93iLIVAIwXXAJ67hUBIM2FiJE+GQMKGRTDY54ZAfLZ3mBuGh0BgeevIUCqIQFiGlO/Z1IhATZRmOhmGiUAoWlXXcD6KQNaOVPRC/opAPulXv/HFi0BNIFNm35WMQOrqORdubo1AAAAAAABQjkAAAAAAAFCOQAAAAAAAUI5AAAAAAABQjkDr6jkXbm6NQE0gU2bflYxAQOlXv/HFi0DYjlT0Qv6KQChaVddwPopATZRmOhmGiUBZhpTv2dSIQGJ568hQKohAfbZ3mBuGh0DChkUw2OeGQEczYWIkT4ZAIgXXAJ67hUBqRbPd4iyFQDU9AsuQooRAljXQmkUchECmdykfn5mDQHlMGio7GoNAJf2ujbedgkDF0vMbsiOCQGgW9abIq4FAKhG/AJk1gUAfDF77wMCAQFxQ3mjeTIBA8E2YNh6zf0AQsmfJ4cx+QElfQy5D5n1Aw+dDCX7+fECt3YH+zRR8QC7TFbJuKHtAeVoYyJs4ekC2BaLkkER5QBFny6uJS3hAuBCtwcFMd0DWlF/KdEd2QJuF+2neOnVALXWZRDomdEC79VH+wwhzQHCZPTu34XFAffJ0n0+wcEAQJiGekeduQIEaUty8VmxAouatQZisaUDMrmUWm+dmQGCXqqI8BmRAqcStLvQGYUAKtkAFctBbQJr9Zs0EUVVAYVFhjB4ZTUAAAAAAAAA+QA==\"},\"shape\":[104],\"dtype\":\"float64\",\"order\":\"little\"},{\"type\":\"ndarray\",\"array\":{\"type\":\"bytes\",\"data\":\"AAAAAAAAPkAAAAAAAAA+QAAAAAAAAD5AXFFhjB4ZTUCU/WbNBFFVQAS2QAVy0FtApcStLvQGYUBal6qiPAZkQMuuZRab52ZAoeatQZisaUB+GlLcvFZsQA0mIZ6R525AefJ0n0+wcEBwmT07t+FxQLn1Uf7DCHNAKnWZRDomdECZhftp3jp1QNeUX8p0R3ZAuBCtwcFMd0ARZ8uriUt4QLQFouSQRHlAeFoYyJs4ekAs0xWybih7QKvdgf7NFHxAw+dDCX7+fEBIX0MuQ+Z9QBGyZ8nhzH5A8E2YNh6zf0BbUN5o3kyAQB4MXvvAwIBAKhG/AJk1gUBpFvWmyKuBQMTS8xuyI4JAJf2ujbedgkB3TBoqOxqDQKR3KR+fmYNAlTXQmkUchEAzPQLLkKKEQGpFs93iLIVAIwXXAJ67hUBIM2FiJE+GQMKGRTDY54ZAfLZ3mBuGh0BgeevIUCqIQFiGlO/Z1IhATZRmOhmGiUAoWlXXcD6KQNaOVPRC/opAPulXv/HFi0BNIFNm35WMQOrqORdubo1AAAAAAABQjkAAAAAAAFCOQAAAAAAAUI5AAAAAAABQjkDr6jkXbm6NQE0gU2bflYxAQOlXv/HFi0DYjlT0Qv6KQChaVddwPopATZRmOhmGiUBZhpTv2dSIQGJ568hQKohAfbZ3mBuGh0DChkUw2OeGQEczYWIkT4ZAIgXXAJ67hUBqRbPd4iyFQDU9AsuQooRAljXQmkUchECmdykfn5mDQHlMGio7GoNAJf2ujbedgkDF0vMbsiOCQGgW9abIq4FAKhG/AJk1gUAfDF77wMCAQFxQ3mjeTIBA8E2YNh6zf0AQsmfJ4cx+QElfQy5D5n1Aw+dDCX7+fECt3YH+zRR8QC7TFbJuKHtAeVoYyJs4ekC2BaLkkER5QBFny6uJS3hAuBCtwcFMd0DWlF/KdEd2QJuF+2neOnVALXWZRDomdEC79VH+wwhzQHCZPTu34XFAffJ0n0+wcEAQJiGekeduQIEaUty8VmxAouatQZisaUDMrmUWm+dmQGCXqqI8BmRAqcStLvQGYUAKtkAFctBbQJr9Zs0EUVVAYVFhjB4ZTUAAAAAAAAA+QA==\"},\"shape\":[104],\"dtype\":\"float64\",\"order\":\"little\"},{\"type\":\"ndarray\",\"array\":{\"type\":\"bytes\",\"data\":\"AAAAAAAAPkAAAAAAAAA+QAAAAAAAAD5AXFFhjB4ZTUCU/WbNBFFVQAS2QAVy0FtApcStLvQGYUBal6qiPAZkQMuuZRab52ZAoeatQZisaUB+GlLcvFZsQA0mIZ6R525AefJ0n0+wcEBwmT07t+FxQLn1Uf7DCHNAKnWZRDomdECZhftp3jp1QNeUX8p0R3ZAuBCtwcFMd0ARZ8uriUt4QLQFouSQRHlAeFoYyJs4ekAs0xWybih7QKvdgf7NFHxAw+dDCX7+fEBIX0MuQ+Z9QBGyZ8nhzH5A8E2YNh6zf0BbUN5o3kyAQB4MXvvAwIBAKhG/AJk1gUBpFvWmyKuBQMTS8xuyI4JAJf2ujbedgkB3TBoqOxqDQKR3KR+fmYNAlTXQmkUchEAzPQLLkKKEQGpFs93iLIVAIwXXAJ67hUBIM2FiJE+GQMKGRTDY54ZAfLZ3mBuGh0BgeevIUCqIQFiGlO/Z1IhATZRmOhmGiUAoWlXXcD6KQNaOVPRC/opAPulXv/HFi0BNIFNm35WMQOrqORdubo1AAAAAAABQjkAAAAAAAFCOQAAAAAAAUI5AAAAAAABQjkDr6jkXbm6NQE0gU2bflYxAQOlXv/HFi0DYjlT0Qv6KQChaVddwPopATZRmOhmGiUBZhpTv2dSIQGJ568hQKohAfbZ3mBuGh0DChkUw2OeGQEczYWIkT4ZAIgXXAJ67hUBqRbPd4iyFQDU9AsuQooRAljXQmkUchECmdykfn5mDQHlMGio7GoNAJf2ujbedgkDF0vMbsiOCQGgW9abIq4FAKhG/AJk1gUAfDF77wMCAQFxQ3mjeTIBA8E2YNh6zf0AQsmfJ4cx+QElfQy5D5n1Aw+dDCX7+fECt3YH+zRR8QC7TFbJuKHtAeVoYyJs4ekC2BaLkkER5QBFny6uJS3hAuBCtwcFMd0DWlF/KdEd2QJuF+2neOnVALXWZRDomdEC79VH+wwhzQHCZPTu34XFAffJ0n0+wcEAQJiGekeduQIEaUty8VmxAouatQZisaUDMrmUWm+dmQGCXqqI8BmRAqcStLvQGYUAKtkAFctBbQJr9Zs0EUVVAYVFhjB4ZTUAAAAAAAAA+QA==\"},\"shape\":[104],\"dtype\":\"float64\",\"order\":\"little\"},{\"type\":\"ndarray\",\"array\":{\"type\":\"bytes\",\"data\":\"AAAAAAAAPkAAAAAAAAA+QAAAAAAAAD5AXFFhjB4ZTUCU/WbNBFFVQAS2QAVy0FtApcStLvQGYUBal6qiPAZkQMuuZRab52ZAoeatQZisaUB+GlLcvFZsQA0mIZ6R525AefJ0n0+wcEBwmT07t+FxQLn1Uf7DCHNAKnWZRDomdECZhftp3jp1QNeUX8p0R3ZAuBCtwcFMd0ARZ8uriUt4QLQFouSQRHlAeFoYyJs4ekAs0xWybih7QKvdgf7NFHxAw+dDCX7+fEBIX0MuQ+Z9QBGyZ8nhzH5A8E2YNh6zf0BbUN5o3kyAQB4MXvvAwIBAKhG/AJk1gUBpFvWmyKuBQMTS8xuyI4JAJf2ujbedgkB3TBoqOxqDQKR3KR+fmYNAlTXQmkUchEAzPQLLkKKEQGpFs93iLIVAIwXXAJ67hUBIM2FiJE+GQMKGRTDY54ZAfLZ3mBuGh0BgeevIUCqIQFiGlO/Z1IhATZRmOhmGiUAoWlXXcD6KQNaOVPRC/opAPulXv/HFi0BNIFNm35WMQOrqORdubo1AAAAAAABQjkAAAAAAAFCOQAAAAAAAUI5AAAAAAABQjkDr6jkXbm6NQE0gU2bflYxAQOlXv/HFi0DYjlT0Qv6KQChaVddwPopATZRmOhmGiUBZhpTv2dSIQGJ568hQKohAfbZ3mBuGh0DChkUw2OeGQEczYWIkT4ZAIgXXAJ67hUBqRbPd4iyFQDU9AsuQooRAljXQmkUchECmdykfn5mDQHlMGio7GoNAJf2ujbedgkDF0vMbsiOCQGgW9abIq4FAKhG/AJk1gUAfDF77wMCAQFxQ3mjeTIBA8E2YNh6zf0AQsmfJ4cx+QElfQy5D5n1Aw+dDCX7+fECt3YH+zRR8QC7TFbJuKHtAeVoYyJs4ekC2BaLkkER5QBFny6uJS3hAuBCtwcFMd0DWlF/KdEd2QJuF+2neOnVALXWZRDomdEC79VH+wwhzQHCZPTu34XFAffJ0n0+wcEAQJiGekeduQIEaUty8VmxAouatQZisaUDMrmUWm+dmQGCXqqI8BmRAqcStLvQGYUAKtkAFctBbQJr9Zs0EUVVAYVFhjB4ZTUAAAAAAAAA+QA==\"},\"shape\":[104],\"dtype\":\"float64\",\"order\":\"little\"},{\"type\":\"ndarray\",\"array\":{\"type\":\"bytes\",\"data\":\"AAAAAAAAPkAAAAAAAAA+QAAAAAAAAD5AXFFhjB4ZTUCU/WbNBFFVQAS2QAVy0FtApcStLvQGYUBal6qiPAZkQMuuZRab52ZAoeatQZisaUB+GlLcvFZsQA0mIZ6R525AefJ0n0+wcEBwmT07t+FxQLn1Uf7DCHNAKnWZRDomdECZhftp3jp1QNeUX8p0R3ZAuBCtwcFMd0ARZ8uriUt4QLQFouSQRHlAeFoYyJs4ekAs0xWybih7QKvdgf7NFHxAw+dDCX7+fEBIX0MuQ+Z9QBGyZ8nhzH5A8E2YNh6zf0BbUN5o3kyAQB4MXvvAwIBAKhG/AJk1gUBpFvWmyKuBQMTS8xuyI4JAJf2ujbedgkB3TBoqOxqDQKR3KR+fmYNAlTXQmkUchEAzPQLLkKKEQGpFs93iLIVAIwXXAJ67hUBIM2FiJE+GQMKGRTDY54ZAfLZ3mBuGh0BgeevIUCqIQFiGlO/Z1IhATZRmOhmGiUAoWlXXcD6KQNaOVPRC/opAPulXv/HFi0BNIFNm35WMQOrqORdubo1AAAAAAABQjkAAAAAAAFCOQAAAAAAAUI5AAAAAAABQjkDr6jkXbm6NQE0gU2bflYxAQOlXv/HFi0DYjlT0Qv6KQChaVddwPopATZRmOhmGiUBZhpTv2dSIQGJ568hQKohAfbZ3mBuGh0DChkUw2OeGQEczYWIkT4ZAIgXXAJ67hUBqRbPd4iyFQDU9AsuQooRAljXQmkUchECmdykfn5mDQHlMGio7GoNAJf2ujbedgkDF0vMbsiOCQGgW9abIq4FAKhG/AJk1gUAfDF77wMCAQFxQ3mjeTIBA8E2YNh6zf0AQsmfJ4cx+QElfQy5D5n1Aw+dDCX7+fECt3YH+zRR8QC7TFbJuKHtAeVoYyJs4ekC2BaLkkER5QBFny6uJS3hAuBCtwcFMd0DWlF/KdEd2QJuF+2neOnVALXWZRDomdEC79VH+wwhzQHCZPTu34XFAffJ0n0+wcEAQJiGekeduQIEaUty8VmxAouatQZisaUDMrmUWm+dmQGCXqqI8BmRAqcStLvQGYUAKtkAFctBbQJr9Zs0EUVVAYVFhjB4ZTUAAAAAAAAA+QA==\"},\"shape\":[104],\"dtype\":\"float64\",\"order\":\"little\"},{\"type\":\"ndarray\",\"array\":{\"type\":\"bytes\",\"data\":\"AAAAAAAAPkAAAAAAAAA+QAAAAAAAAD5AXFFhjB4ZTUCU/WbNBFFVQAS2QAVy0FtApcStLvQGYUBal6qiPAZkQMuuZRab52ZAoeatQZisaUB+GlLcvFZsQA0mIZ6R525AefJ0n0+wcEBwmT07t+FxQLn1Uf7DCHNAKnWZRDomdECZhftp3jp1QNeUX8p0R3ZAuBCtwcFMd0ARZ8uriUt4QLQFouSQRHlAeFoYyJs4ekAs0xWybih7QKvdgf7NFHxAw+dDCX7+fEBIX0MuQ+Z9QBGyZ8nhzH5A8E2YNh6zf0BbUN5o3kyAQB4MXvvAwIBAKhG/AJk1gUBpFvWmyKuBQMTS8xuyI4JAJf2ujbedgkB3TBoqOxqDQKR3KR+fmYNAlTXQmkUchEAzPQLLkKKEQGpFs93iLIVAIwXXAJ67hUBIM2FiJE+GQMKGRTDY54ZAfLZ3mBuGh0BgeevIUCqIQFiGlO/Z1IhATZRmOhmGiUAoWlXXcD6KQNaOVPRC/opAPulXv/HFi0BNIFNm35WMQOrqORdubo1AAAAAAABQjkAAAAAAAFCOQAAAAAAAUI5AAAAAAABQjkDr6jkXbm6NQE0gU2bflYxAQOlXv/HFi0DYjlT0Qv6KQChaVddwPopATZRmOhmGiUBZhpTv2dSIQGJ568hQKohAfbZ3mBuGh0DChkUw2OeGQEczYWIkT4ZAIgXXAJ67hUBqRbPd4iyFQDU9AsuQooRAljXQmkUchECmdykfn5mDQHlMGio7GoNAJf2ujbedgkDF0vMbsiOCQGgW9abIq4FAKhG/AJk1gUAfDF77wMCAQFxQ3mjeTIBA8E2YNh6zf0AQsmfJ4cx+QElfQy5D5n1Aw+dDCX7+fECt3YH+zRR8QC7TFbJuKHtAeVoYyJs4ekC2BaLkkER5QBFny6uJS3hAuBCtwcFMd0DWlF/KdEd2QJuF+2neOnVALXWZRDomdEC79VH+wwhzQHCZPTu34XFAffJ0n0+wcEAQJiGekeduQIEaUty8VmxAouatQZisaUDMrmUWm+dmQGCXqqI8BmRAqcStLvQGYUAKtkAFctBbQJr9Zs0EUVVAYVFhjB4ZTUAAAAAAAAA+QA==\"},\"shape\":[104],\"dtype\":\"float64\",\"order\":\"little\"},{\"type\":\"ndarray\",\"array\":{\"type\":\"bytes\",\"data\":\"AAAAAAAAPkAAAAAAAAA+QAAAAAAAAD5AXFFhjB4ZTUCU/WbNBFFVQAS2QAVy0FtApcStLvQGYUBal6qiPAZkQMuuZRab52ZAoeatQZisaUB+GlLcvFZsQA0mIZ6R525AefJ0n0+wcEBwmT07t+FxQLn1Uf7DCHNAKnWZRDomdECZhftp3jp1QNeUX8p0R3ZAuBCtwcFMd0ARZ8uriUt4QLQFouSQRHlAeFoYyJs4ekAs0xWybih7QKvdgf7NFHxAw+dDCX7+fEBIX0MuQ+Z9QBGyZ8nhzH5A8E2YNh6zf0BbUN5o3kyAQB4MXvvAwIBAKhG/AJk1gUBpFvWmyKuBQMTS8xuyI4JAJf2ujbedgkB3TBoqOxqDQKR3KR+fmYNAlTXQmkUchEAzPQLLkKKEQGpFs93iLIVAIwXXAJ67hUBIM2FiJE+GQMKGRTDY54ZAfLZ3mBuGh0BgeevIUCqIQFiGlO/Z1IhATZRmOhmGiUAoWlXXcD6KQNaOVPRC/opAPulXv/HFi0BNIFNm35WMQOrqORdubo1AAAAAAABQjkAAAAAAAFCOQAAAAAAAUI5AAAAAAABQjkDr6jkXbm6NQE0gU2bflYxAQOlXv/HFi0DYjlT0Qv6KQChaVddwPopATZRmOhmGiUBZhpTv2dSIQGJ568hQKohAfbZ3mBuGh0DChkUw2OeGQEczYWIkT4ZAIgXXAJ67hUBqRbPd4iyFQDU9AsuQooRAljXQmkUchECmdykfn5mDQHlMGio7GoNAJf2ujbedgkDF0vMbsiOCQGgW9abIq4FAKhG/AJk1gUAfDF77wMCAQFxQ3mjeTIBA8E2YNh6zf0AQsmfJ4cx+QElfQy5D5n1Aw+dDCX7+fECt3YH+zRR8QC7TFbJuKHtAeVoYyJs4ekC2BaLkkER5QBFny6uJS3hAuBCtwcFMd0DWlF/KdEd2QJuF+2neOnVALXWZRDomdEC79VH+wwhzQHCZPTu34XFAffJ0n0+wcEAQJiGekeduQIEaUty8VmxAouatQZisaUDMrmUWm+dmQGCXqqI8BmRAqcStLvQGYUAKtkAFctBbQJr9Zs0EUVVAYVFhjB4ZTUAAAAAAAAA+QA==\"},\"shape\":[104],\"dtype\":\"float64\",\"order\":\"little\"},{\"type\":\"ndarray\",\"array\":{\"type\":\"bytes\",\"data\":\"AAAAAAAAPkAAAAAAAAA+QAAAAAAAAD5AXFFhjB4ZTUCU/WbNBFFVQAS2QAVy0FtApcStLvQGYUBal6qiPAZkQMuuZRab52ZAoeatQZisaUB+GlLcvFZsQA0mIZ6R525AefJ0n0+wcEBwmT07t+FxQLn1Uf7DCHNAKnWZRDomdECZhftp3jp1QNeUX8p0R3ZAuBCtwcFMd0ARZ8uriUt4QLQFouSQRHlAeFoYyJs4ekAs0xWybih7QKvdgf7NFHxAw+dDCX7+fEBIX0MuQ+Z9QBGyZ8nhzH5A8E2YNh6zf0BbUN5o3kyAQB4MXvvAwIBAKhG/AJk1gUBpFvWmyKuBQMTS8xuyI4JAJf2ujbedgkB3TBoqOxqDQKR3KR+fmYNAlTXQmkUchEAzPQLLkKKEQGpFs93iLIVAIwXXAJ67hUBIM2FiJE+GQMKGRTDY54ZAfLZ3mBuGh0BgeevIUCqIQFiGlO/Z1IhATZRmOhmGiUAoWlXXcD6KQNaOVPRC/opAPulXv/HFi0BNIFNm35WMQOrqORdubo1AAAAAAABQjkAAAAAAAFCOQAAAAAAAUI5AAAAAAABQjkDr6jkXbm6NQE0gU2bflYxAQOlXv/HFi0DYjlT0Qv6KQChaVddwPopATZRmOhmGiUBZhpTv2dSIQGJ568hQKohAfbZ3mBuGh0DChkUw2OeGQEczYWIkT4ZAIgXXAJ67hUBqRbPd4iyFQDU9AsuQooRAljXQmkUchECmdykfn5mDQHlMGio7GoNAJf2ujbedgkDF0vMbsiOCQGgW9abIq4FAKhG/AJk1gUAfDF77wMCAQFxQ3mjeTIBA8E2YNh6zf0AQsmfJ4cx+QElfQy5D5n1Aw+dDCX7+fECt3YH+zRR8QC7TFbJuKHtAeVoYyJs4ekC2BaLkkER5QBFny6uJS3hAuBCtwcFMd0DWlF/KdEd2QJuF+2neOnVALXWZRDomdEC79VH+wwhzQHCZPTu34XFAffJ0n0+wcEAQJiGekeduQIEaUty8VmxAouatQZisaUDMrmUWm+dmQGCXqqI8BmRAqcStLvQGYUAKtkAFctBbQJr9Zs0EUVVAYVFhjB4ZTUAAAAAAAAA+QA==\"},\"shape\":[104],\"dtype\":\"float64\",\"order\":\"little\"},{\"type\":\"ndarray\",\"array\":{\"type\":\"bytes\",\"data\":\"AAAAAAAAPkAAAAAAAAA+QAAAAAAAAD5AXFFhjB4ZTUCU/WbNBFFVQAS2QAVy0FtApcStLvQGYUBal6qiPAZkQMuuZRab52ZAoeatQZisaUB+GlLcvFZsQA0mIZ6R525AefJ0n0+wcEBwmT07t+FxQLn1Uf7DCHNAKnWZRDomdECZhftp3jp1QNeUX8p0R3ZAuBCtwcFMd0ARZ8uriUt4QLQFouSQRHlAeFoYyJs4ekAs0xWybih7QKvdgf7NFHxAw+dDCX7+fEBIX0MuQ+Z9QBGyZ8nhzH5A8E2YNh6zf0BbUN5o3kyAQB4MXvvAwIBAKhG/AJk1gUBpFvWmyKuBQMTS8xuyI4JAJf2ujbedgkB3TBoqOxqDQKR3KR+fmYNAlTXQmkUchEAzPQLLkKKEQGpFs93iLIVAIwXXAJ67hUBIM2FiJE+GQMKGRTDY54ZAfLZ3mBuGh0BgeevIUCqIQFiGlO/Z1IhATZRmOhmGiUAoWlXXcD6KQNaOVPRC/opAPulXv/HFi0BNIFNm35WMQOrqORdubo1AAAAAAABQjkAAAAAAAFCOQAAAAAAAUI5AAAAAAABQjkDr6jkXbm6NQE0gU2bflYxAQOlXv/HFi0DYjlT0Qv6KQChaVddwPopATZRmOhmGiUBZhpTv2dSIQGJ568hQKohAfbZ3mBuGh0DChkUw2OeGQEczYWIkT4ZAIgXXAJ67hUBqRbPd4iyFQDU9AsuQooRAljXQmkUchECmdykfn5mDQHlMGio7GoNAJf2ujbedgkDF0vMbsiOCQGgW9abIq4FAKhG/AJk1gUAfDF77wMCAQFxQ3mjeTIBA8E2YNh6zf0AQsmfJ4cx+QElfQy5D5n1Aw+dDCX7+fECt3YH+zRR8QC7TFbJuKHtAeVoYyJs4ekC2BaLkkER5QBFny6uJS3hAuBCtwcFMd0DWlF/KdEd2QJuF+2neOnVALXWZRDomdEC79VH+wwhzQHCZPTu34XFAffJ0n0+wcEAQJiGekeduQIEaUty8VmxAouatQZisaUDMrmUWm+dmQGCXqqI8BmRAqcStLvQGYUAKtkAFctBbQJr9Zs0EUVVAYVFhjB4ZTUAAAAAAAAA+QA==\"},\"shape\":[104],\"dtype\":\"float64\",\"order\":\"little\"},{\"type\":\"ndarray\",\"array\":{\"type\":\"bytes\",\"data\":\"AAAAAAAAPkAAAAAAAAA+QAAAAAAAAD5AXFFhjB4ZTUCU/WbNBFFVQAS2QAVy0FtApcStLvQGYUBal6qiPAZkQMuuZRab52ZAoeatQZisaUB+GlLcvFZsQA0mIZ6R525AefJ0n0+wcEBwmT07t+FxQLn1Uf7DCHNAKnWZRDomdECZhftp3jp1QNeUX8p0R3ZAuBCtwcFMd0ARZ8uriUt4QLQFouSQRHlAeFoYyJs4ekAs0xWybih7QKvdgf7NFHxAw+dDCX7+fEBIX0MuQ+Z9QBGyZ8nhzH5A8E2YNh6zf0BbUN5o3kyAQB4MXvvAwIBAKhG/AJk1gUBpFvWmyKuBQMTS8xuyI4JAJf2ujbedgkB3TBoqOxqDQKR3KR+fmYNAlTXQmkUchEAzPQLLkKKEQGpFs93iLIVAIwXXAJ67hUBIM2FiJE+GQMKGRTDY54ZAfLZ3mBuGh0BgeevIUCqIQFiGlO/Z1IhATZRmOhmGiUAoWlXXcD6KQNaOVPRC/opAPulXv/HFi0BNIFNm35WMQOrqORdubo1AAAAAAABQjkAAAAAAAFCOQAAAAAAAUI5AAAAAAABQjkDr6jkXbm6NQE0gU2bflYxAQOlXv/HFi0DYjlT0Qv6KQChaVddwPopATZRmOhmGiUBZhpTv2dSIQGJ568hQKohAfbZ3mBuGh0DChkUw2OeGQEczYWIkT4ZAIgXXAJ67hUBqRbPd4iyFQDU9AsuQooRAljXQmkUchECmdykfn5mDQHlMGio7GoNAJf2ujbedgkDF0vMbsiOCQGgW9abIq4FAKhG/AJk1gUAfDF77wMCAQFxQ3mjeTIBA8E2YNh6zf0AQsmfJ4cx+QElfQy5D5n1Aw+dDCX7+fECt3YH+zRR8QC7TFbJuKHtAeVoYyJs4ekC2BaLkkER5QBFny6uJS3hAuBCtwcFMd0DWlF/KdEd2QJuF+2neOnVALXWZRDomdEC79VH+wwhzQHCZPTu34XFAffJ0n0+wcEAQJiGekeduQIEaUty8VmxAouatQZisaUDMrmUWm+dmQGCXqqI8BmRAqcStLvQGYUAKtkAFctBbQJr9Zs0EUVVAYVFhjB4ZTUAAAAAAAAA+QA==\"},\"shape\":[104],\"dtype\":\"float64\",\"order\":\"little\"},{\"type\":\"ndarray\",\"array\":{\"type\":\"bytes\",\"data\":\"AAAAAAAAPkAAAAAAAAA+QAAAAAAAAD5AXFFhjB4ZTUCU/WbNBFFVQAS2QAVy0FtApcStLvQGYUBal6qiPAZkQMuuZRab52ZAoeatQZisaUB+GlLcvFZsQA0mIZ6R525AefJ0n0+wcEBwmT07t+FxQLn1Uf7DCHNAKnWZRDomdECZhftp3jp1QNeUX8p0R3ZAuBCtwcFMd0ARZ8uriUt4QLQFouSQRHlAeFoYyJs4ekAs0xWybih7QKvdgf7NFHxAw+dDCX7+fEBIX0MuQ+Z9QBGyZ8nhzH5A8E2YNh6zf0BbUN5o3kyAQB4MXvvAwIBAKhG/AJk1gUBpFvWmyKuBQMTS8xuyI4JAJf2ujbedgkB3TBoqOxqDQKR3KR+fmYNAlTXQmkUchEAzPQLLkKKEQGpFs93iLIVAIwXXAJ67hUBIM2FiJE+GQMKGRTDY54ZAfLZ3mBuGh0BgeevIUCqIQFiGlO/Z1IhATZRmOhmGiUAoWlXXcD6KQNaOVPRC/opAPulXv/HFi0BNIFNm35WMQOrqORdubo1AAAAAAABQjkAAAAAAAFCOQAAAAAAAUI5AAAAAAABQjkDr6jkXbm6NQE0gU2bflYxAQOlXv/HFi0DYjlT0Qv6KQChaVddwPopATZRmOhmGiUBZhpTv2dSIQGJ568hQKohAfbZ3mBuGh0DChkUw2OeGQEczYWIkT4ZAIgXXAJ67hUBqRbPd4iyFQDU9AsuQooRAljXQmkUchECmdykfn5mDQHlMGio7GoNAJf2ujbedgkDF0vMbsiOCQGgW9abIq4FAKhG/AJk1gUAfDF77wMCAQFxQ3mjeTIBA8E2YNh6zf0AQsmfJ4cx+QElfQy5D5n1Aw+dDCX7+fECt3YH+zRR8QC7TFbJuKHtAeVoYyJs4ekC2BaLkkER5QBFny6uJS3hAuBCtwcFMd0DWlF/KdEd2QJuF+2neOnVALXWZRDomdEC79VH+wwhzQHCZPTu34XFAffJ0n0+wcEAQJiGekeduQIEaUty8VmxAouatQZisaUDMrmUWm+dmQGCXqqI8BmRAqcStLvQGYUAKtkAFctBbQJr9Zs0EUVVAYVFhjB4ZTUAAAAAAAAA+QA==\"},\"shape\":[104],\"dtype\":\"float64\",\"order\":\"little\"},{\"type\":\"ndarray\",\"array\":{\"type\":\"bytes\",\"data\":\"AAAAAAAAPkAAAAAAAAA+QAAAAAAAAD5AXFFhjB4ZTUCU/WbNBFFVQAS2QAVy0FtApcStLvQGYUBal6qiPAZkQMuuZRab52ZAoeatQZisaUB+GlLcvFZsQA0mIZ6R525AefJ0n0+wcEBwmT07t+FxQLn1Uf7DCHNAKnWZRDomdECZhftp3jp1QNeUX8p0R3ZAuBCtwcFMd0ARZ8uriUt4QLQFouSQRHlAeFoYyJs4ekAs0xWybih7QKvdgf7NFHxAw+dDCX7+fEBIX0MuQ+Z9QBGyZ8nhzH5A8E2YNh6zf0BbUN5o3kyAQB4MXvvAwIBAKhG/AJk1gUBpFvWmyKuBQMTS8xuyI4JAJf2ujbedgkB3TBoqOxqDQKR3KR+fmYNAlTXQmkUchEAzPQLLkKKEQGpFs93iLIVAIwXXAJ67hUBIM2FiJE+GQMKGRTDY54ZAfLZ3mBuGh0BgeevIUCqIQFiGlO/Z1IhATZRmOhmGiUAoWlXXcD6KQNaOVPRC/opAPulXv/HFi0BNIFNm35WMQOrqORdubo1AAAAAAABQjkAAAAAAAFCOQAAAAAAAUI5AAAAAAABQjkDr6jkXbm6NQE0gU2bflYxAQOlXv/HFi0DYjlT0Qv6KQChaVddwPopATZRmOhmGiUBZhpTv2dSIQGJ568hQKohAfbZ3mBuGh0DChkUw2OeGQEczYWIkT4ZAIgXXAJ67hUBqRbPd4iyFQDU9AsuQooRAljXQmkUchECmdykfn5mDQHlMGio7GoNAJf2ujbedgkDF0vMbsiOCQGgW9abIq4FAKhG/AJk1gUAfDF77wMCAQFxQ3mjeTIBA8E2YNh6zf0AQsmfJ4cx+QElfQy5D5n1Aw+dDCX7+fECt3YH+zRR8QC7TFbJuKHtAeVoYyJs4ekC2BaLkkER5QBFny6uJS3hAuBCtwcFMd0DWlF/KdEd2QJuF+2neOnVALXWZRDomdEC79VH+wwhzQHCZPTu34XFAffJ0n0+wcEAQJiGekeduQIEaUty8VmxAouatQZisaUDMrmUWm+dmQGCXqqI8BmRAqcStLvQGYUAKtkAFctBbQJr9Zs0EUVVAYVFhjB4ZTUAAAAAAAAA+QA==\"},\"shape\":[104],\"dtype\":\"float64\",\"order\":\"little\"},{\"type\":\"ndarray\",\"array\":{\"type\":\"bytes\",\"data\":\"AAAAAAAAPkAAAAAAAAA+QAAAAAAAAD5AXFFhjB4ZTUCU/WbNBFFVQAS2QAVy0FtApcStLvQGYUBal6qiPAZkQMuuZRab52ZAoeatQZisaUB+GlLcvFZsQA0mIZ6R525AefJ0n0+wcEBwmT07t+FxQLn1Uf7DCHNAKnWZRDomdECZhftp3jp1QNeUX8p0R3ZAuBCtwcFMd0ARZ8uriUt4QLQFouSQRHlAeFoYyJs4ekAs0xWybih7QKvdgf7NFHxAw+dDCX7+fEBIX0MuQ+Z9QBGyZ8nhzH5A8E2YNh6zf0BbUN5o3kyAQB4MXvvAwIBAKhG/AJk1gUBpFvWmyKuBQMTS8xuyI4JAJf2ujbedgkB3TBoqOxqDQKR3KR+fmYNAlTXQmkUchEAzPQLLkKKEQGpFs93iLIVAIwXXAJ67hUBIM2FiJE+GQMKGRTDY54ZAfLZ3mBuGh0BgeevIUCqIQFiGlO/Z1IhATZRmOhmGiUAoWlXXcD6KQNaOVPRC/opAPulXv/HFi0BNIFNm35WMQOrqORdubo1AAAAAAABQjkAAAAAAAFCOQAAAAAAAUI5AAAAAAABQjkDr6jkXbm6NQE0gU2bflYxAQOlXv/HFi0DYjlT0Qv6KQChaVddwPopATZRmOhmGiUBZhpTv2dSIQGJ568hQKohAfbZ3mBuGh0DChkUw2OeGQEczYWIkT4ZAIgXXAJ67hUBqRbPd4iyFQDU9AsuQooRAljXQmkUchECmdykfn5mDQHlMGio7GoNAJf2ujbedgkDF0vMbsiOCQGgW9abIq4FAKhG/AJk1gUAfDF77wMCAQFxQ3mjeTIBA8E2YNh6zf0AQsmfJ4cx+QElfQy5D5n1Aw+dDCX7+fECt3YH+zRR8QC7TFbJuKHtAeVoYyJs4ekC2BaLkkER5QBFny6uJS3hAuBCtwcFMd0DWlF/KdEd2QJuF+2neOnVALXWZRDomdEC79VH+wwhzQHCZPTu34XFAffJ0n0+wcEAQJiGekeduQIEaUty8VmxAouatQZisaUDMrmUWm+dmQGCXqqI8BmRAqcStLvQGYUAKtkAFctBbQJr9Zs0EUVVAYVFhjB4ZTUAAAAAAAAA+QA==\"},\"shape\":[104],\"dtype\":\"float64\",\"order\":\"little\"},{\"type\":\"ndarray\",\"array\":{\"type\":\"bytes\",\"data\":\"AAAAAAAAPkAAAAAAAAA+QAAAAAAAAD5AXFFhjB4ZTUCU/WbNBFFVQAS2QAVy0FtApcStLvQGYUBal6qiPAZkQMuuZRab52ZAoeatQZisaUB+GlLcvFZsQA0mIZ6R525AefJ0n0+wcEBwmT07t+FxQLn1Uf7DCHNAKnWZRDomdECZhftp3jp1QNeUX8p0R3ZAuBCtwcFMd0ARZ8uriUt4QLQFouSQRHlAeFoYyJs4ekAs0xWybih7QKvdgf7NFHxAw+dDCX7+fEBIX0MuQ+Z9QBGyZ8nhzH5A8E2YNh6zf0BbUN5o3kyAQB4MXvvAwIBAKhG/AJk1gUBpFvWmyKuBQMTS8xuyI4JAJf2ujbedgkB3TBoqOxqDQKR3KR+fmYNAlTXQmkUchEAzPQLLkKKEQGpFs93iLIVAIwXXAJ67hUBIM2FiJE+GQMKGRTDY54ZAfLZ3mBuGh0BgeevIUCqIQFiGlO/Z1IhATZRmOhmGiUAoWlXXcD6KQNaOVPRC/opAPulXv/HFi0BNIFNm35WMQOrqORdubo1AAAAAAABQjkAAAAAAAFCOQAAAAAAAUI5AAAAAAABQjkDr6jkXbm6NQE0gU2bflYxAQOlXv/HFi0DYjlT0Qv6KQChaVddwPopATZRmOhmGiUBZhpTv2dSIQGJ568hQKohAfbZ3mBuGh0DChkUw2OeGQEczYWIkT4ZAIgXXAJ67hUBqRbPd4iyFQDU9AsuQooRAljXQmkUchECmdykfn5mDQHlMGio7GoNAJf2ujbedgkDF0vMbsiOCQGgW9abIq4FAKhG/AJk1gUAfDF77wMCAQFxQ3mjeTIBA8E2YNh6zf0AQsmfJ4cx+QElfQy5D5n1Aw+dDCX7+fECt3YH+zRR8QC7TFbJuKHtAeVoYyJs4ekC2BaLkkER5QBFny6uJS3hAuBCtwcFMd0DWlF/KdEd2QJuF+2neOnVALXWZRDomdEC79VH+wwhzQHCZPTu34XFAffJ0n0+wcEAQJiGekeduQIEaUty8VmxAouatQZisaUDMrmUWm+dmQGCXqqI8BmRAqcStLvQGYUAKtkAFctBbQJr9Zs0EUVVAYVFhjB4ZTUAAAAAAAAA+QA==\"},\"shape\":[104],\"dtype\":\"float64\",\"order\":\"little\"}]],[\"ys\",[{\"type\":\"ndarray\",\"array\":{\"type\":\"bytes\",\"data\":\"bVML+lfPPEAAAAAAAAAAAAAAAAAAAAAAHytno+5WZj93Iz3kDAiGP0t/tYlQcJg/JxTpZUlqpT/DQUX6aH2wP3Olh6QWZrc/sdPjXWNgvz+I9UBpwi7EPw4FRVdYJ8k/tCcST46Szj9hNl6TfzTSP8TxK9qiUdU/n038Zv6c2D+eUdmk3xLcP18Fzf6Tr98/Rrjwb7S34T9jTZDZVafjP9ZFyvHUpOU/dqUjbliu5z8ScCEEB8LpP3ypSGkH3us/h1UeU4AA7j8DvJM7zBPwP2WKdEW7KPE/0hf0oSA+8j8z5tSrD1PzP3J32b2bZvQ/eU3EMth39T8u6ldl2IX2P3vPVrCvj/c/TH+DbnGU+D+Ge6D6MJP5PxVGcK8Bi/o/4GC15/Z6+z/QTTL+I2L8P8+OqU2cP/0/xqXdMHMS/j+eFJECvNn+P0Bdhh2KlP8/ywBAbvggAEDDQSDNgXAAQH4yxdhquABA8BOQPj34AEANJ+Krgi8BQMusHM7EXQFAHuagUo2CAUD5E9DmZZ0BQFF3CzjYrQFAHFG0822zAUAcUbTzbbMBQJDdgbjFBT9AkN2BuMUFP0BVwgwBEwU/QOpV5bYEAz9AMnBfpKn/PkAG6c6TEPs+QE6Yh09I9T5A6lXdoV/uPkC++SNVZeY+QKZbrzNo3T5Ah1PTB3fTPkA/ueOboMg+QLVkNLrzvD5Axy0ZLX+wPkBa7OW+UaM+QEl47jl6lT5AfKmGaAeHPkDOVwIVCHg+QCZbtQmLaD5AYYvzEJ9YPkBjwBD1Ukg+QA7SYIC1Nz5ARJg3fdUmPkDk6ui1wRU+QM+hyPSIBD5A6pQqBDrzPUAUnGKu4+E9QC2PxL2U0D1AGUak/Fu/PUC6mFU1SK49QO1eLDJonT1AmXB8vcqMPUCcpZmhfnw9QNjV16iSbD1AL9mKnRVdPUCChwZKFk49QLS4nnijPz1ApESn88sxPUA0A3SFniQ9QEbMWPgpGD1AvHepFn0MPUB33bmqpgE9QFjV3X619zxAQTdpXbjuPEAS268QvuY8QK6YBWPV3zxA90e+Hg3aPEDNwC0OdNU8QBLbp/sY0jxApm6AsQrQPEBtUwv6V888QA==\"},\"shape\":[104],\"dtype\":\"float64\",\"order\":\"little\"},{\"type\":\"ndarray\",\"array\":{\"type\":\"bytes\",\"data\":\"MSZlSkRhcUDbhQhTV/1vQNuFCFNX/W9AJdromo36b0CyEzXTV/JvQIgN7gzx5G9AoqIUWZTSb0AIrqnIfLtvQLsKrmzln29AwJMiVgmAb0AUJAiWI1xvQL+WXz1vNG9AwMYpXScJb0Abj2cGh9puQNLKGUrJqG5A7FRBOSl0bkBnCN/k4TxuQEfA810uA25AjFeAtUnHbUA9qYX8boltQFiQBETZSW1A5ef9nMMIbUDginIYacZsQFJUY8cEg2xAOx/RutE+bECdxrwDC/prQHslJ7PrtGtA1xYR2q5va0C1dXuJjyprQBcdZ9LI5WpAAejUxZWhakByscV0MV5qQG9UOvDWG2pA+qszScHaaUAWk7KQK5tpQMbkt9dQXWlADHxEL2whaUDsM1mouOdoQGbn9lNxsGhAfnEeQ9F7aEA2rdCGE0poQJN1DjBzG2hAlKXYTyvwZ0A/GDD3dshnQJSoFTeRpGdAljGKILWEZ0BJjo7EHWlnQLCZIzQGUmdAyi5KgKk/Z0CeKAO6QjJnQCxiT/IMKmdAd7YvOkMnZ0B3ti86QydnQP188Xt07GlA/Xzxe3TsaUCwKBE0Pu9pQCPvxPtz92lAUvULwtoEakA0YOV1NxdqQM9UUAZPLmpAHPhLYuZJakAcb9d4wmlqQMbe8TiojWpAHGyakVy1akAYPNBxpOBqQLtzkshED2tAAzjghAJBa0DrrbiVonVrQHH6GurprGtAk0IGcZ3ma0BNq3kZgiJsQJ1ZdNJcYGxAgHL1ivKfbED0GvwxCOFsQPZ3h7ZiI21Aha6WB8dmbUCd4ygU+qptQDw8PcvA721AXt3SG+A0bkAB7Oj0HHpuQCONfkU8v25AweWS/AIEb0DaGiUJNkhvQGdRNFqai29Aaq6/3vTNb0BwK+NChQdwQOG3Ix9QJ3BACg+hez1GcEBmw9rPL2RwQHdnUJMJgXBAuo2BPa2ccECuyO1F/bZwQNGqFCTcz3BAo8Z1TyzncECirpA/0PxwQE315GuqEHFAIy3yS50icUCh6DdXizJxQEi6NQVXQHFAlTRrzeJLcUAH6lcnEVVxQB1te4rEW3FAVlBVbt9fcUAxJmVKRGFxQA==\"},\"shape\":[104],\"dtype\":\"float64\",\"order\":\"little\"},{\"type\":\"ndarray\",\"array\":{\"type\":\"bytes\",\"data\":\"ZG4kL2wbdkCWaGTVdbl0QJZoZNV1uXRA/vgqpaS3dEDzK+G+SrJ0QBfEGqKOqXRAAoRrzpaddEBTLmfDiY50QKaFoQCOfHRAnkyuBcpndEDTRSFSZFB0QOIzjmWDNnRAatmIv00adEAK+aTf6ftzQF5VdkV+23NAA7GQcDG5c0CVzofgKZVzQLVw7xSOb3NA/VlbjYRIc0ALTV/JMyBzQH0Mj0jC9nJA8Vp+ilbMckAC+8AOF6FyQFCv6lQqdXJAeTqP3LZIckAWX0Il4xtyQMnfl67V7nFALH8j+LTBcUDe/3iBp5RxQHwkLMrTZ3FApK/QUWA7cUDyY/qXcw9xQAQEPRw05HBAeFIsXsi5cEDqEVzdVpBwQPkEYBkGaHBAQO7LkfxAcEBgkDPGYBtwQOVbVWyy7m9ALhOKwhiqb0DVyyyOQWlvQBQLZc55LG9AJlZagg70bkBHMjSpTMBuQK8kGkKBkW5Am7IzTPlnbkBGYajGAURuQOi1n7DnJW5AvjVBCfgNbkACZrTPf/xtQO3LIAPM8W1AvuytoinubUC+7K2iKe5tQCz8FisLWXBALPwWKwtZcEDEa1Bb3FpwQM04mkE2YHBArKBgXvJocEDC4A8y6nRwQHA2FD33g3BAGt/Z//KVcEAmGM36tqpwQPEeWq4cwnBA4DDtmv3bcEBXi/JAM/hwQLdr1iCXFnFAYw8FuwI3cUC/s+qPT1lxQC2W8x9XfXFAD/SL6/KicUDGCiBz/MlxQLgXHDdN8nFARVjst74bckDSCf11KkZyQL5puvFpcXJAcbWQq1adckBJKuwjyslyQKsFOdud9nJA+oTjUasjc0CX5VcIzFBzQORkAn/ZfXNARkBPNq2qc0AftaquINdzQNEAgWgNA3RAvmA+5EwudEBMEk+iuFh0QNhSHyMqgnRAyl8b53qqdECCdq9uhNF0QGTURzog93RA0bZQyicbdUAsWzafdD11QNn+ZDngXXVAOd9IGUR8dUCwOU6/eZh1QKBL4atasnVAbFJuX8DJdUB1i2FahN51QCA0Jx2A8HVAz4krKI3/dUDkydr7hAt2QMIxoRhBFHZAzP7q/poZdkBkbiQvbBt2QA==\"},\"shape\":[104],\"dtype\":\"float64\",\"order\":\"little\"},{\"type\":\"ndarray\",\"array\":{\"type\":\"bytes\",\"data\":\"zluIuVdofkB60U2e5Dp9QHrRTZ7kOn1AHTTxxZI5fUAb6aDgrzV9QCBEBeRXL31AyJjGxaYmfUC9Oo17uBt9QKJ9AfuoDn1AIbXLOZT/fEDWNJQtlu58QGxQA8zK23xAhVvBCk7HfEDJqXbfO7F8QNuOyz+wmXxAYF5oIceAfED+a/V5nGZ8QFkLGz9MS3xAFJCBZvIufEDWTdHlqhF8QEKYsrKR83tAAMPNwsLUe0CxIcsLWrV7QP0HU4NzlXtAjMkNHyt1e0D6uaPUnFR7QPMsvZnkM3tAGXYCZB4Te0AQ6RspZvJ6QIHZsd7X0XpADptseo+xekBagfTxqJF6QAzg8TpAcnpAygoNS3FTekA3Ve4XWDV6QPgSPpcQGHpAtJekvrb7eUAON8qDZuB5QKpEV9w7xnlAMBT0vVKteUBC+Ugex5V5QIZH/vK0f3lAoFK8MThreUA2bivQbFh5QOzt88NuR3lAaCW+Alo4eUBOaDKCSit5QEQK+TdcIHlA7V66GasXeUDvuR4dUxF5QO5uzjdwDXlAkdFxXx4MeUCR0XFfHgx5QOVbrHqROXpA5VusepE5ekBC+QhT4zp6QEFEWTjGPnpAQun0NB5FekCYlDNTz016QKPybJ29WHpAu6/4Hc1lekBCeC7f4XR6QIv4ZevfhXpA9Nz2TKuYekDY0TgOKK16QJSDgzk6w3pAg54u2cXaekD9zpH3rvN6QGLBBJ/ZDXtACiLf2Skpe0BOnXiyg0V7QIvfKDPLYntAHZVHZuSAe0BfaixWs597QKwLLw0cv3tAXyWnlQLfe0DVY+z5Sv97QGVzVkTZH3xAbQA9f5FAfEBGt/e0V2F8QE1E3u8PgnxA3lNIOp6ifEBTko2e5sJ8QAasBSfN4nxAVE0I3jUCfUCXIu3NBCF9QCjYCwEeP31AZhq8gWVcfUCrlVVav3h9QFL2L5UPlH1AteiiPDqufUAvGQZbI8d9QB40sfqu3n1A2uX7JcH0fUDA2j3nPQl+QCq/zkgJHH5AdD8GVQctfkD2BzwWHDx+QBDFx5YrSX5AGyMB4RlUfkByzj//ylx+QHFz2/siY35AcL4r4QVnfkDOW4i5V2h+QA==\"},\"shape\":[104],\"dtype\":\"float64\",\"order\":\"little\"},{\"type\":\"ndarray\",\"array\":{\"type\":\"bytes\",\"data\":\"wLGG7mA1e0CshrqeMRJ6QKyGup4xEnpAbBDuDoMRekCRTxEBgQ96QPI2cec5DHpAYLlaNLwHekC0yRpaFgJ6QMJa/spW+3lAZF9S+YvzeUBpymNXxOp5QKqOf1cO4XlA/J7ya3jWeUA27gkHEct5QCtvEpvmvnlAtBRZmgeyeUCl0Sp3gqR5QNSY1KNllnlAEl2jkr+HeUA8EeS1nnh5QCGo438RaXlAnBTvYiZZeUB+SVPR60h5QKA5XT1wOHlA2ddZGcIneUD5FpbX7xZ5QNnpXuoHBnlATkMBxBj1eEAvFsrWMOR4QFBVBpVe03hAh/MCcbDCeECq4wzdNLJ4QIwYcUv6oXhACIV8Lg+SeEDtG3z4gYJ4QBbQvBthc3hAVpSLCrtkeECEWzU3nlZ4QHQYBxQZSXhA/L1NEzo8eEDyPlanDzB4QCyObUKoJHhAf57gVhIaeEDAYvxWXBB4QMbNDbWUB3hAZdJh48n/d0B0Y0VUCvl3QMhzBXpk83dAN/buxubud0CW3U6tn+t3QLsccp+d6XdAfKalD+/od0B8pqUP7+h3QJDRcV8eDHlAkNFxXx4MeUDPRz7vzAx5QKoIG/3ODnlATCG7FhYSeUDcntHJkxZ5QIiOEaQ5HHlAef0tM/kieUDc+NkExCp5QNWNyKaLM3lAk8mspkE9eUA+uTmS10d5QAVqIvc+U3lADukZY2lfeUCHQ9NjSGx5QJiGAYfNeXlAar9XWuqHeUAq+4hrkJZ5QAJHSEixpXlAG7BIfj61eUChQz2bKcV5QLwO2Sxk1XlAmh7PwN/leUBkgNLkjfZ5QENBliZgB3pAY27NE0gYekDtFCs6Nyl6QAxCYicfOnpA7AImafFKekC1ZCmNn1t6QJR0HyEbbHpAsD+7slV8ekA106/PQIx6QE48sAXOm3pAJohv4u6qekDmw6DzlLl6QLn89saxx3pAyD8l6jbVekBAmt7qFeJ6QEoZ1lZA7npAEMq+u6f5ekC+uUunPQR7QHz1L6fzDXtAd4oeSbsWe0DWhcoahh57QMf05qlFJXtAdOQmhOsqe0AFYj03aS97QKZ63VCwMntAgDu6XrI0e0DAsYbuYDV7QA==\"},\"shape\":[104],\"dtype\":\"float64\",\"order\":\"little\"},{\"type\":\"ndarray\",\"array\":{\"type\":\"bytes\",\"data\":\"lmhk1XW5dECec8uCFKxzQJ5zy4IUrHNAQx3ukImoc0BXSSbFGp5zQJA+LC4TjXNAn0O42r11c0A6n4LZZVhzQBaYQzlWNXNA6HSzCNoMc0BifIpWPN9yQDr1gDHIrHJAJCZPqMh1ckDWVa3JiDpyQAPLU6RT+3FAYcz6RnS4cUCjoFrANXJxQH6OKx/jKHFAptwlcsfccEDP0QHILY5wQK+0dy9hPXBA9Jd/blnVb0DIvCTctixvQEZlT8VwgW5A1B5wRx3UbUDadvd/UiVtQMT6VYymdWxA+Tf8ia/Fa0Diu1qWAxZrQOgT4s44Z2pAd80CUeW5aUDzdS06nw5pQMea0qf8ZWhAXslit5PAZ0Aej06G+h5nQHJ5BjLHgWZAwhX714/pZUB48ZyV6lZlQPuZXIhtymRAtpyqza5EZEAQh/eCRMZjQHTms8XET2NASkhQs8XhYkD6OT1p3XxiQO9I6wSiIWJAkALLo6nQYUBI9ExjiophQH6r4WDaT2FAnLX5uS8hYUAMoAWMIP9gQDT4dfRC6mBAgEu7EC3jYECAS7sQLeNgQHA17bXv/WJAcDXtte/9YkAk4qeZBQVjQPqJNzHjGWNAjZ8rX/I7Y0BulRMGnWpjQDjefghNpWNAf+z8SGzrY0DgMh2qZDxkQOojbw6gl2RAOTKCWIj8ZEBj0OVqh2plQP9wKSgH4WVApIbccnFfZkDqg44tMOVmQGbbzjqtcWdAsv8sfVIEaEBiYzjXiZxoQA55gCu9OWlATLOUXFbbaUC3hARNv4BqQOFfX99hKWtAZbc09qfUa0DY/RN0+4FsQNCljDvGMG1A6SEuL3LgbUC05IcxaZBuQMlgKSUVQG9Awwii7N/ub0Ccp0C1GU5wQF1Tq8C8o3BA8sDYCQ74cECnqRCCwkpxQMbGmhqPm3FAndG+xCjqcUB1g8RxRDZyQJqV8xKXf3JAWMGTmdXFckD8v+z2tAhzQM5KRhzqR3NAHBvo+imDc0Ay6hmEKbpzQFlxI6md7HNA32lMWzsadEAOjdyLt0J0QDKUGyzHZXRAmDhRLR+DdECIM8WAdJp0QFA+vxd8q3RAOxKH4+q1dECWaGTVdbl0QA==\"},\"shape\":[104],\"dtype\":\"float64\",\"order\":\"little\"},{\"type\":\"ndarray\",\"array\":{\"type\":\"bytes\",\"data\":\"eRcwwDnua0BZIYrN9ddpQFkhis3112lAd2IL8ZPSaUCxj6lgusJpQNVHDCTbqGlArynbQmiFaUAO1L3E01hpQL/lW7GPI2lAlf1cEA7maEBWumjpwKBoQNO6JkQaVGhA2J0+KIwAaEA5AlidiKZnQL2GGquBRmdANsotWengZkBwazmvMXZmQDkJ5bTMBmZAXULYcSyTZUCttbrtwhtlQPYBNDACoWRABMbrQFwjZECmoIknQ6NjQKowtesoIWNA4BQWlX+dYkAR7FMruRhiQA1VFrZHk2FApO4EPZ0NYUCgV8fHK4hgQNIuBV5lA2BADSbMDnj/XkAWRiOXQ/tdQFz7XmQR+1xAeYPOhcX/W0AJHMEKRApbQKgChgJxG1pA8nRsfDA0WUCEsMOHZlVYQPfy2jP3f1dA53kBkMa0VkDwgoaruPRVQK9LuZWxQFVAvhHpXZWZVEC4EmUTSABUQDqMfMWtdVNA37t+g6r6UkBE37pcIpBSQAI0gGD5NlJAt/cdnhPwUUD+Z+MkVbxRQHLCHwSinFFAr0QiS96RUUCvRCJL3pFRQO0wbjBmvlVA7TBuMGa+VUCwrmvpKclVQDtULwrd6FVA9eNpg5scVkBAIMxFgWNWQIHLBkKqvFZAHKjKaDInV0B4eMiqNaJXQPb+sPjPLFhA+/00Qx3GWEDrNwV7OW1ZQC1v0pBAIVpAJGZNdU7hWkA03yYZf6xbQMKcD23ugVxAMWG4YbhgXUDn7tHn+EdeQEcIDfDLNl9A2zeNtSYWYEDNc9WkzJNgQCmZN77lE2FAJAkM+v+VYUDxJKtQqRliQL9NbbpvnmJAw+SqL+EjY0AtS7yoi6ljQC/i+R39LmRA/gq8h8OzZEDKJlvebDdlQMaWLxqHuWVAIryRM6A5ZkAU+NkiRrdmQMyrYOAGMmdAfDh+ZHCpZ0BY/4qnEB1oQI9h36F1jGhAVcDTSy33aEDefMCdxVxpQFj4/Y/MvGlA+ZPkGtAWakDysMw2XmpqQHawDtwEt2pAtPMCA1L8akDg2wGk0zlrQC7KY7cXb2tAzx+BNayba0D0PbIWH79rQNGFT1P+2GtAl1ix49foa0B5FzDAOe5rQA==\"},\"shape\":[104],\"dtype\":\"float64\",\"order\":\"little\"},{\"type\":\"ndarray\",\"array\":{\"type\":\"bytes\",\"data\":\"n3PLghRsckAxJmVKRGFxQDEmZUpEYXFAx7I62pRhcUCed90XgmJxQFijgFgFZHFAlWRX8RdmcUD06ZQ3s2hxQBlibIDQa3FAo/sQIWlvcUAx5bVudnNxQGVNjr7xd3FA3WLNZdR8cUA/VKa5F4JxQClQTA+1h3FAO4Xyu6WNcUAXIswU45NxQFtVDG9mmnFAqU3mHymhcUCjOY18JKhxQOdHNNpRr3FAGKcOjqq2cUDUhU/tJ75xQL8SKk3DxXFAd3zRAnbNcUCf8XhjOdVxQNSgU8QG3XFAuriUetfkcUDwZ2/bpOxxQBjdFjxo9HFA0Ea+8Rr8cUC605hRtgNyQHiy2bAzC3JAqBG0ZIwSckDsH1vCuRlyQOYLAh+1IHJANATcz3cnckB5Nxwq+y1yQFTU9YI4NHJAZQmcLyk6ckBPBUKFxj9yQLD2GtkJRXJAKwxagOxJckBfdDLQZ05yQO1d1x11UnJAdvd7vg1WckCab1MHK1lyQPr0kE3GW3JAN7Zn5thdckDw4QonXF9yQMimrWRJYHJAXjOD9JlgckBeM4P0mWByQMyA6Sxqa3NAzIDpLGprc0A19BOdGWtzQF0vcV8sanNApQPOHqloc0BpQveFlmZzQAi9uT/7Y3NA5ETi9t1gc0Bdqz1WRV1zQM3BmAg4WXNAmVnAuLxUc0AfRIER2k9zQL1SqL2WSnNA0lYCaPlEc0DCIVy7CD9zQOeEgmLLOHNApFFCCEgyc0BVWWhXhStzQFttwfqJJHNAFl8anVwdc0Dm/z/pAxZzQCch/4mGDnNAPpQkKusGc0CFKn10OP9yQF611RN193JAKAb7sqfvckBC7rn81udyQAw/35sJ4HJA5sk3O0bYckAuYJCFk9ByQEPTtSX4yHJAhfR0xnrBckBVlZoSIrpyQBCH87T0snJAF5tMWPmrckDIonKnNqVyQIRvMk2znnJAqtJY9HWYckCYnbJHhZJyQK6hDPLnjHJATLAznqSHckDSmvT2wYJyQJ4yHKdGfnJAEEl3WTl6ckCHr9K4oHZyQGM3+2+Dc3JAA7K9KehwckDG8OaQ1W5yQAzFQ1BSbXJANQChEmVsckCfc8uCFGxyQA==\"},\"shape\":[104],\"dtype\":\"float64\",\"order\":\"little\"},{\"type\":\"ndarray\",\"array\":{\"type\":\"bytes\",\"data\":\"kzCLIu2sYUB+AE1OCINfQH4ATU4Ig19A7QhlFmx9X0Be2QWs5mxfQJKENOvuUV9ANx32r/ssX0AMtk/Wg/5eQMlhRjr+xl5AKjPft+GGXkDkPB8rpT5eQK6RC3C/7l1ARkSpYqeXXUBkZ/3e0zldQMANDcG71VxAFErd5NVrXEAYL3MmmfxbQIbP02F8iFtAFD4Ec/YPW0CAjQk2fpNaQH7Q6IaKE1pAyxmnQZKQWUAcfElCDAtZQC8K1WRvg1hAu9ZOhTL6V0B39Lt/zG9XQB52ITC05FZAZ26EcmBZVkAO8OkiSM5VQMsNVx3iQ1VAVtrQPaW6VEBoaFxgCDNUQLvK/mCCrVNABxS9G4oqU0AGV5xslqpSQHCmoS8eLlJA/xTSQJi1UUBttTJ8e0FRQHCayL0+0lBAxNaY4VhoUEAgfajDQARQQHxA+X/aTE9AraU0ZaqeTkBFTw3v3v5NQLhijdVlbk1AdQW/0CzuTEDwXKyYIX9MQJyOX+UxIkxA6b/ibkvYS0BIFkDtW6JLQC+3gRhRgUtADcixqBh2S0ANyLGoGHZLQK9EIkvekVFAr0QiS96RUUA/PAqDepdRQMtrae3/p1FAncA6rvfCUUD1J3np6udRQCGPH8NiFlJAY+MoX+hNUkAFEpDhBI5SQEsIUG5B1lJAf7NjKScmU0DlAMY2P31TQMjdcboS21NAazdi2Co/VEAY+5G0EKlUQBUW/HJNGFVAqHWbN2qMVUAYB2sm8ARWQK+3ZWNogVZArnSGElwBV0BjK8hXVIRXQA7JJVfaCVhA/TqaNHeRWEBybiAUtBpZQLVQsxkapVlAEM9NaTIwWkDF1uomhrtaQB1VhXaeRltAYzcYfATRW0DYap5bQVpcQMbcEjne4VxAcnpwOGRnXUAmMbJ9XOpdQCfu0ixQal5AvJ7NacjmXkAtMJ1YTl9fQMCPPB1r019AXlXT7VMhYEA0N+vbRlZgQAZk4+pSiGBAd1K5rDy3YEAreWqzyOJgQMVO9JC7CmFA6UlU19kuYUA44YcY6E5hQFqLjOaqamFA775f0+aBYUCc8v5wYJRhQASdZ1HcoWFAyzSXBh+qYUCTMIsi7axhQA==\"},\"shape\":[104],\"dtype\":\"float64\",\"order\":\"little\"},{\"type\":\"ndarray\",\"array\":{\"type\":\"bytes\",\"data\":\"rIa6njESekDo3Nx8miV5QOjc3HyaJXlAaKIgZmIfeUAeus34EQ15QNjONvcs73hAYIuuIzfGeECBmodAtJJ4QAunFBAoVXhAzVuoVBYOeECNY5XQAr53QB1pLkZxZXdARRfGd+UEd0DZGK8n45x2QJ4YPBjuLXZAZsG/C4q4dUD9vYzEOj11QC659QSEvHRAxV1Nj+k2dECQVuYl76xzQFtOE4sYH3NA9O8mgemNckAn5nPK5flxQMHbTCmRY3FAj3sEYG/LcEBdcO0wBDJwQO/JtLymL29AVwg8VcH6bUCP8RWwX8ZsQCrb51GJk2tAxhpXv0VjakD5BQl9nDZpQGLyog+VDmhAkzXK+zbsZkAqJSTGidBlQMAWVvOUvGRA718FCGCxY0BQVteI8q9iQHpPcfpTuWFACqF44YvOYEArQSWFQ+FfQHVHyUQ6QV5AHwAoCwu/XEBcFozhxFxbQGA1QNF2HFpAXgiP4y8AWUCJOsMh/wlYQBN3J5XzO1dAMGkGRxyYVkARvKpAiCBWQOoaX4tG11VA7jBuMGa+VUDuMG4wZr5VQP7X5LfCcFlA/tfkt8JwWUD5wdUSo4lZQB9jIcjk0llAPxB9znhKWkAjHp4cUO5aQJfhOalbvFtAbK8Fa4yyXEBy3LZY085dQGy9AmkhD19AllNPybM4YEBB9x9my/lgQB30TQbQyWFAkPQzJbqnYkABoyw+gpJjQNapkswgiWRAdrPAS46KZUBIahE3w5VmQLJ43wm4qWdAGYmFP2XFaEDnRV5Tw+dpQIBZxMDKD2tATG4SA3Q8bECwLqOVt2xtQBRF0fONn25A4Fv3mO/Tb0C8DjiAaoRwQCAay1KbHnFAUyXigQa4cUCFhSpLKFByQOuPUex85nJAt5kEo4B6c0Ae+PCsrwt0QFIAxEeGmXRAhwcrsYAjdUDwYtMmG6l1QMBnaubRKXZAKmudLSGldkBjwhk6hRp3QJzCjEl6iXdACsGjmXzxd0DgEgxoCFJ4QFANc/KZqnhAkAWGdq36eEDQUPIxv0F5QEREZWJLf3lAIjWMRc6yeUCceBQZxNt5QORjqxqp+XlALUz+h/kLekCshrqeMRJ6QA==\"},\"shape\":[104],\"dtype\":\"float64\",\"order\":\"little\"},{\"type\":\"ndarray\",\"array\":{\"type\":\"bytes\",\"data\":\"6dzcfJrld0C3/MftV/x2QLf8x+1X/HZApwa5hsL9dkBP3StQ7gF3QO4VEEi9CHdAwEVVbBESd0AHAuu6zB13QAHgwDHRK3dA73TGzgA8d0AKVuuPPU53QJgYH3NpYndA01FRdmZ4d0D8lnGXFpB3QFR9b9RbqXdAF5o6KxjEd0CFgsKZLeB3QODL9h1+/XdAYQvHtesbeEBL1iJfWDt4QN3B+RemW3hAVWM73rZ8eEDxT9evbJ54QPIcvYqpwHhAmV/cbE/jeEAerSRUQAZ5QMqahT5eKXlA0r3uKYtMeUB8q08UqW95QAL5l/uZknlAqDu33T+1eUCqCJ24fNd5QEb1OIoy+XlAv5Z6UEMaekBQglEJkTp6QDpNrbL9WXpAvIx9Smt4ekAW1rHOu5V6QIS+OT3RsXpASNsElI3MekCewQLR0uV6QMgGI/KC/XpABUBV9X8Te0CRAonYqyd7QK7jrZnoOXtAmXizNhhKe0CUVomtHFh7QNoSH/zXY3tArUJkICxte0BLe0gY+3N7QPNRu+EmeHtA5FusepF5e0DkW6x6kXl7QBY8wQnUYnxAFjzBCdRifEAjMtBwaWF8QHxbXac9XXxA4CJ5r25WfEAN8zOLGk18QMU2njxfQXxAzFjIxVozfEDiw8IoKyN8QMPinWfuEHxANyBqhML8e0D55jeBxeZ7QM+hF2AVz3tAd7sZI9C1e0C1nk7ME5t7QEi2xl3+fntA72yS2a1he0BtLcJBQEN7QINiZpjTI3tA8HaP34UDe0B41U0ZdeJ6QNvosUe/wHpA2RvMbIKeekA12ayK3Ht6QKyLZKPrWHpABp4Duc01ekD6eprNoBJ6QFKNOeOC73lAyj/x+5HMeUAm/dEZ7Kl5QCUw7D6vh3lAhkNQbflleUAOog6n6ER5QH22N+6aJHlAkuvbRC4FeUARrAutwOZ4QLhi1yhwyXhASnpPulqteECGXYRjnpJ4QC93hiZZeXhABDJmBalheEDJ+DMCrEt4QDw2AB+AN3hAIFXbXUMleEAywNXAExV4QDni/0kPB3hA8yVq+1P7d0Ag9iTX//F3QIK9QN8w63dA2ubNFQXnd0Dp3Nx8muV3QA==\"},\"shape\":[104],\"dtype\":\"float64\",\"order\":\"little\"},{\"type\":\"ndarray\",\"array\":{\"type\":\"bytes\",\"data\":\"t/zH7Vf8dkBjbiQvbBt2QGNuJC9sG3ZAI9aEG5MadkCSU6vaExh2QP/Pn2MAFHZArzRqrWoOdkDwahKvZAd2QAhcoF8A/3VAR/Ebtk/1dUDyE42pZOp1QFWt+zBR3nVAuKZvQyfRdUBp6fDX+MJ1QLJeh+XXs3VA3O86Y9ajdUAwhhNIBpN1QPsKGYt5gXVAgmdTI0JvdUAUhcoHclx1QPlMhi8bSXVAfaiOkU81dUDngOskISF1QIW/pOChDHVAn03Cu+P3dECAFEyt+OJ0QHL9SazyzXRAvvHDr+O4dECu2sGu3aN0QI+hS6DyjnRAqS9pezR6dEBHbiI3tWV0QLNGf8qGUXRANqKHLLs9dEAbakNUZCp0QK6HujiUF3RANuT00FwFdED/aPoT0PNzQFP/0vj/4nNAfJCGdv7Sc0DEBR2E3cNzQHZInhivtXNA3EESK4Woc0A+24CycZxzQOr98aWGkXNAJpNt/NWHc0BAhPuscX9zQIC6o65reHNAMB9u+NVyc0Cbm2KBwm5zQAwZiUBDbHNAzIDpLGprc0DMgOksamtzQCAPjetVTHRAIA+N61VMdEBgpyz/Lk10QO8pBkCuT3RAha0Rt8FTdEDUSEdtV1l0QJQSn2tdYHRAeSERu8FodEA/jJVkcnJ0QJJpJHFdfXRAL9C16XCJdEDJ1kHXmpZ0QBiUwELJpHRAzx4qNeqzdECmjXa368N0QFP3ndK71HRAinKYj0jmdEACFl73f/h0QHD45hJQC3VAijAr66YedUAG1SKJcjJ1QJr8xfWgRnVA/b0MOiBbdUDkL+9e3m91QANpZW3JhHVAEYBnbs+ZdUDFi+1q3q51QNSi72vkw3VA89tles/YdUDaTUifje11QDwPj+MMAnZA0DYyUDsWdkBN2ynuBip2QGcTbsZdPXZA1vX24S1QdkBNmbxJZWJ2QIQUtwbyc3ZAMH7eIcKEdkAI7Sqkw5R2QL53lJbko3ZADTUTAhOydkCoO5/vPL92QESiMGhQy3ZAmn+/dDvWdkBc6kMe7N92QEP5tW1Q6HZABMMNbFbvdkBSXkMi7PR2QOfhTpn/+HZAdmQo2n77dkC3/MftV/x2QA==\"},\"shape\":[104],\"dtype\":\"float64\",\"order\":\"little\"},{\"type\":\"ndarray\",\"array\":{\"type\":\"bytes\",\"data\":\"+P////8/f0DOW4i5V2h+QM5biLlXaH5AzVuIuVdofkDNW4i5V2h+QM9biLlXaH5AzluIuVdofkDOW4i5V2h+QM1biLlXaH5A0VuIuVdofkDQW4i5V2h+QM9biLlXaH5Az1uIuVdofkDNW4i5V2h+QM5biLlXaH5Az1uIuVdofkDPW4i5V2h+QNFbiLlXaH5A0FuIuVdofkDRW4i5V2h+QNBbiLlXaH5A0VuIuVdofkDPW4i5V2h+QNFbiLlXaH5A0luIuVdofkDSW4i5V2h+QNJbiLlXaH5A0luIuVdofkDSW4i5V2h+QNNbiLlXaH5A1FuIuVdofkDTW4i5V2h+QNRbiLlXaH5A1VuIuVdofkDUW4i5V2h+QNRbiLlXaH5A1FuIuVdofkDVW4i5V2h+QNVbiLlXaH5A1FuIuVdofkDWW4i5V2h+QNVbiLlXaH5A1luIuVdofkDVW4i5V2h+QNZbiLlXaH5A1VuIuVdofkDWW4i5V2h+QNZbiLlXaH5A1luIuVdofkDWW4i5V2h+QNVbiLlXaH5A1luIuVdofkDWW4i5V2h+QAAAAAAAQH9AAAAAAABAf0D//////z9/QP7/////P39AAAAAAABAf0AAAAAAAEB/QAAAAAAAQH9A/v////8/f0ABAAAAAEB/QAAAAAAAQH9AAAAAAABAf0D+/////z9/QP7/////P39A/f////8/f0D//////z9/QP7/////P39AAAAAAABAf0D+/////z9/QP//////P39A/v////8/f0D+/////z9/QPz/////P39A+/////8/f0D8/////z9/QPz/////P39A/f////8/f0D8/////z9/QPz/////P39A/P////8/f0D7/////z9/QPr/////P39A+v////8/f0D7/////z9/QPr/////P39A+v////8/f0D6/////z9/QPr/////P39A+v////8/f0D4/////z9/QPr/////P39A+P////8/f0D5/////z9/QPn/////P39A+P////8/f0D4/////z9/QPj/////P39A+P////8/f0D4/////z9/QPj/////P39A9/////8/f0D4/////z9/QA==\"},\"shape\":[104],\"dtype\":\"float64\",\"order\":\"little\"},{\"type\":\"ndarray\",\"array\":{\"type\":\"bytes\",\"data\":\"xCcp0NoSRUBsUwv6V888QGxTC/pXzzxAKrAq36vsPECaVf1TCUM9QIAasgAD0D1AodV3jSuRPkDKXX2iFYQ/QODE+PMpU0BAJpgBg7z6QEAZlHDSi7dBQB0kXTZhiEJAl7PeAgZsQ0DqrQyMQ2FEQH1+/iXjZkVArpDLJK57RkDmT4vcbZ5HQIQnVaHrzUhA74JAx/AISkCMzWSiRk5LQLly2Ya2nExA3921yAnzTUBgehG8CVBPQNDZgdo/WVBAgvrRg5oMUUD41ASEecFRQOIeJoVBd1JA9I1BMVctU0Dd12IyH+NTQFOylTL+l1RABdPl21hLVUCl717Yk/xVQOW9DNITq1ZAefP6cj1WV0AQRjVldf1XQF5rx1IgoFhAFBm95aI9WUDjBCLIYdVZQH7kAaTBZlpAmG1oIyfxWkDgVWHw9nNbQApT+LSV7ltAxxo5G2hgXEDKYi/N0shcQMTg5nQ6J11AZkprvAN7XUBjVchNk8NdQG63CdNNAF5ANiY79pcwXkBwV2hh1lNeQMoAnb5taV5A+9fkt8JwXkD71+S3wnBeQIFLuxAt42BAgUu7EC3jYEDoXxeUgt9gQDsLfeW21GBAnnLmrxfDYEA6u02e8qpgQDUKrVuVjGBAtoT+kk1oYEDnTzzvaD5gQOmQYBs1D2BAz9nKhP+1X0AQEooeLURfQOcU81mOyV5AnSz6jL5GXkCGo5MNWbxdQOzDszH5Kl1AHthOTzqTXEBmKlm8t/VbQBkFx84MU1tAgbKM3NSrWkDufJ47qwBaQKuu8EErUllADJJ3RfCgWEBccSecle1XQOSW9Ju2OFdA+0zTmu6CVkDq3bfu2MxVQP+Tlu0QF1VAi7lj7TFiVEDamBNE165TQDl8mkec/VJA+K3sTRxPUkBkeP6s8qNRQMwlxLq6/FBAfwAyzQ9aUECSpXh0GnlPQPXNrq+cSU5Avg7v99wmTUCM/CH5ERJMQPorMF9yDEtApzEC1jQXSkAsooAJkDNJQCcSlKW6YkhANBYlVuulR0DuQhzHWP5GQPQsYqQ5bUZA32jfmcTzRUBOi3xTMJNFQNwoIn2zTEVAI9a4woQhRUDEJynQ2hJFQA==\"},\"shape\":[104],\"dtype\":\"float64\",\"order\":\"little\"},{\"type\":\"ndarray\",\"array\":{\"type\":\"bytes\",\"data\":\"VyGKzfVXZ0BNoEdJoq5lQE2gR0mirmVAtQjk65KuZUCa/LysZa5lQAYUWNEbrmVA9+Y6n7atZUB6DetbN61lQI8f7kyfrGVAQrXJt++rZUCQZgPiKatlQIPLIBFPqmVAInynimCpZUBwEB2UX6hlQHMgB3NNp2VAM0TrbCumZUCyE0/H+qRlQPgmuMe8o2VACRass3KiZUDreLDQHaFlQKPnSmS/n2VAN/oAtFieZUCsSFgF65xlQApr1p13m2VAVfkAw/+ZZUCRi126hJhlQMW5cckHl2VA9xvDNYqVZUAqStdEDZRlQGbcMzySkmVAsWpeYRqRZUANjdz5po9lQITbM0s5jmVAGO7pmtKMZUDRXIQudItlQLO/iEsfimVAw658N9WIZUAJwuU3l4dlQIiRSZJmhmVARrUtjESFZUBKxRdrMoRlQJpZjXQxg2VAOAoU7kKCZUAsbzEdaIFlQHwga0eigGVAK7ZGsvJ/ZUBByEmjWn9lQMPu+V/bfmVAtsHcLXZ+ZUAg2XdSLH5lQAbNUBP/fWVAbjXtte99ZUBuNe21731lQHi2LzpDJ2dAeLYvOkMnZ0AQTpOXUidnQClautZ/J2dAwUIfssknZ0DNbzzkLihnQEtJjCeuKGdANDeJNkYpZ0CGoa3L9SlnQDjwc6G7KmdAQotWcpYrZ0Ci2s/4hCxnQFRGWu+FLWdAUDZwEJguZ0CREowWui9nQBNDKLzqMGdAzi+/uygyZ0C9QMvPcjNnQNvdxrLHNGdAIm8sHyY2Z0CNXHbPjDdnQBYOH376OGdAueug5W06Z0BwXXbA5TtnQDTLGclgPWdAAJ0Fut0+Z0DPOrRNW0BnQJoMoD7YQWdAXnpDR1NDZ0AV7Bgiy0RnQLfJmok+RmdAQntDOKxHZ0CtaI3oEklnQPT58lRxSmdAEpfuN8ZLZ0ACqPpLEE1nQLyUkUtOTmdAPcUt8X5PZ0B+oUn3oFBnQHqRXxizUWdALP3pDrRSZ0COTGOVolNnQJrnRWZ9VGdASjYMPENVZ0CaoDDR8lVnQISOLeCKVmdAAmh9IwpXZ0APlZpVb1dnQKV9/zC5V2dAv4kmcOZXZ0BXIYrN9VdnQA==\"},\"shape\":[104],\"dtype\":\"float64\",\"order\":\"little\"},{\"type\":\"ndarray\",\"array\":{\"type\":\"bytes\",\"data\":\"3IUIU1d9bUB4FzDAOe5rQHgXMMA57mtANduJkITwa0B1s1mhRPdrQMlzQ2JJAmxAue/qQmIRbEDW+vOyXiRsQKpoAiIOO2xAywy6/z9VbEC8ur67w3JsQBBGtMVok2xAUoI+jf62bEASQwGCVN1sQNtboBM6Bm1APqC/sX4xbUDG4wLM8V5tQAH6DdJijm1AebaEM6G/bUDC7ApgfPJtQGJwRMfDJm5A7hTV2EZcbkDurWAE1ZJuQPMOi7k9ym5AiAv4Z1ACb0A9d0t/3DpvQJwlKW+xc29AM+o0p56sb0CUmBKXc+VvQCQCM9f/DnBAb4BpLgkrcEDwsP6IvUZwQHF9xJ4EYnBAt8+MJ8Z8cECIkSnb6ZZwQKysbHFXsHBA6AooovbIcEAFli0lr+BwQMk3T7Jo93BA+tleAQsNcUBeZi7KfSFxQL/Gj8SoNHFA4ORUqHNGcUCKqk8txlZxQIMBUguIZXFAktMt+qBycUB9CrWx+H1xQAuQuel2h3FABE4NWgOPcUAtLoK6hZRxQE0a6sLll3FALPwWKwuZcUAs/BYrC5lxQF4zg/SZYHJAXjOD9JlgckB/UVaMdF9yQF5l7oMUXHJANoV5I5JWckA9xyWzBU9yQK9BIXuHRXJAwwqawy86ckC2OL7UFi1yQL7hu/ZUHnJAEhzBcQIOckDw/fuNN/xxQJGdmpMM6XFAKxHLypnUcUD6brt7975xQDjNme49qHFAG0KUa4WQcUDf49g65ndxQLvIlaR4XnFA6Ab58FREcUCitDBokylxQCLoalJMDnFAoLfV95fycEBVOZ+gjtZwQHyD9ZRIunBATKwGHd6dcEAAygCBZ4FwQNDyEQn9ZHBA9jxo/bZIcECsvjGmrSxwQCqOnEv5EHBAUoOta2Trb0DI3hxa4bVvQCRb4/KZgW9A3SRdxr5Ob0BiaOZkgB1vQCpS214P7m5Aow6YRJzAbkBAynimV5VuQHax2RRybG5At/AWIBxGbkB0tIxYhiJuQCApl07hAW5AL3uSkl3kbUAQ19q0K8ptQDppzEV8s21AHV7D1X+gbUAt4hv1ZpFtQNshMjRihm1AmkliI6J/bUDchQhTV31tQA==\"},\"shape\":[104],\"dtype\":\"float64\",\"order\":\"little\"},{\"type\":\"ndarray\",\"array\":{\"type\":\"bytes\",\"data\":\"f9FNnuT6e0DBsYbuYDV7QMGxhu5gNXtAZuEmC8A1e0AyF6gh2DZ7QHBN+1KhOHtAan4RwBM7e0BrpNuJJz57QLy5StHUQXtArbhPtxNGe0CCm9tc3Ep7QIdc3+ImUHtAB/ZLautVe0BOYhIUIlx7QKebIwHDYntAXZxwUsZpe0C4XuooJHF7QAXdgaXUeHtAihEo6c+Ae0CY9s0UDol7QHSGZEmHkXtAa7vcpzOae0DJjydRC6N7QNf9NWYGrHtA4v/4Bx21e0AwkGFXR757QA+pYHV9x3tAyETngrfQe0CnXeag7dl7QPbtTvAX43tA/+8Rki7se0AOXiCnKfV7QGwya1AB/ntAZGfjrq0GfEBA93njJg98QE7cHw9lF3xA1BDGUmAffEAgj13PECd8QHpR16VuLnxALlIk93E1fECHizXkEjx8QND3+41JQnxAUZFoFQ5IfEBXUmybWE18QCw1+EAhUnxAGTT9JmBWfEBsSWxuDVp8QG1vNjghXXxAZ6BMpZNffECl1p/WXGF8QHAMIe10YnxAFjzBCdRifEAWPMEJ1GJ8QNRbiLlXKH1A1FuIuVcofUAuLOic+Cd9QGL2ZobgJn1AJsATVRclfUArj/3npCJ9QCppMx6RH31A1lPE1uMbfUDsVL/wpBd9QBVyM0vcEn1AD7EvxZENfUCMF8M9zQd9QEOr/JOWAX1A7HHrpvX6fEA4cZ5V8vN8QN6uJH+U7HxAlDCNAuTkfEAL/Oa+6Nx8QP8WQZOq1HxAIYeqXjHMfEAqUjIAhcN8QMp951atunxAvQ/ZQbKxfEC0DRagm6h8QGV9rVBxn3xAh2SuMjuWfEDNyCclAY18QO6vKAfLg3xAnx/At6B6fECXHf0VinF8QIiv7gCPaHxAK9ujV7dffEAzpiv5Cld8QFQWlcSRTnxASDHvmFNGfEDB/EhVWD58QHZ+sdinNnxAGrw3AkovfEBnu+qwRih8QA6C2cOlIXxAxhUTGm8bfEBEfKaSqhV8QD+7ogxgEHxAatgWZ5cLfEB82RGBWAd8QCnEojmrA3xAKZ7Yb5cAfEAubcICJf57QPA2b9Fb/HtAJAHuukP7e0B/0U2e5Pp7QA==\"},\"shape\":[104],\"dtype\":\"float64\",\"order\":\"little\"},{\"type\":\"ndarray\",\"array\":{\"type\":\"bytes\",\"data\":\"f1GVO46cUkDCJynQ2hJPQMInKdDaEk9A0Tnmz/ENT0AkuSspfP9OQHsTD+Ph505AjLalBIvHTkAXEAWV355OQNONQptHbk5Ah51zHis2TkDdrK0l8vZNQJ4pBrgEsU1AgYGS3MpkTUBCImiarBJNQJ95nPgRu0xAUvVE/mJeTEAWA3eyB/1LQKgQSBxol0tAwovNQuwtS0Ai4hwt/MBKQICBS+L/UEpAm9duaV/eSUAsUpzJgmlJQPRe6QnS8khAqmtrMbV6SEAL5jdHlAFIQNE7ZFLXh0dAutoFWuYNR0CBMDJlKZRGQOGq/noIG0ZAl7eAouuiRUBcxM3iOixFQPA++0Jet0RACpUeyr1EREBqNE1/wdRDQMmKnGnRZ0NA4wUikFX+QkB1E/P5tZhCQDghJa5aN0JA65zNs6vaQUBH9AESEYNBQAmV18/yMEFA7uxj9LjkQECuabyGy55AQAh59o2SX0BAtognEXYnQEDoDMouvO0/QPy/iE9lnD9AIAa2krdbP0DKunwGgyw/QHK5B7mXDz9AkN2BuMUFP0CQ3YG4xQU/QARqQoMkqUVABGpCgySpRUD1V4WDDa5FQKDYPyqDvEVATH5ccB3URUA528VOdPRFQK+BZr4fHUZA8AMpuLdNRkBF9Pc01IVGQOvkvS0NxUZAKWhlm/oKR0BEENl2NFdHQIFvA7lSqUdAJRjPWu0ASEBznCZVnF1IQLCO9KD3vkhAH4EjN5ckSUAFBp4QE45JQKivTiYD+0lARRAgcf9qSkAruvzpn91KQJY/z4l8UktA0DKCSS3JS0AcJgAiSkFMQLurMwxrukxA9VUHASg0TUANt2X5GK5NQEVhOe7VJ05A5eZs2PagTkAw2uqwExlPQGnNnXDEj09Aayk4iFACUEBefqbEoDtQQK4uD+qec1BAf4Pn9BaqUEDyxaTh1N5QQCk/vKykEVFARzijUlJCUUBu+s7PqXBRQMDOtCB3nFFAXv7JQYbFUUBt0oMvo+tRQAyUV+aZDlJAYIy6YjYuUkCIBCKhREpSQKlFA56QYlJA5JjTVeZ2UkBbRwjFEYdSQDCaFujeklJAhtpzuxmaUkB/UZU7jpxSQA==\"},\"shape\":[104],\"dtype\":\"float64\",\"order\":\"little\"},{\"type\":\"ndarray\",\"array\":{\"type\":\"bytes\",\"data\":\"T6BHSaIuY0CTMIsi7axhQJMwiyLtrGFAf2ZvSFGwYUAoaETUTbphQGnFRu2aymFAEQ6zuvDgYUAB0sVjB/1hQAihuw+XHmJABQvR5VdFYkDHn0INAnFiQCvvTK1NoWJABYks7fLVYkAu/R30qQ5jQH7bXekqS2NAzLMo9C2LY0DvFbs7a85jQL2RUeeaFGRADrcoHnVdZEC5FX0HsqhkQJU9i8oJ9mRAer6PjjRFZUA/KMd66pVlQLwKbrbj52VAyfXAaNg6ZkA5efy4gI5mQOkkXc6U4mZAq4gf0Mw2Z0BaNIDl4IpnQMy3uzWJ3mdA2KIO6H0xaEBVhbUjd4NoQBrv7A8t1GhAAHDx01cjaUDcl/+Wr3BpQIj2U4Dsu2lA2Bsrt8YEakCml8Fi9kpqQMj5U6ozjmpAFtIetTbOakBmsF6qtwprQJAkULFuQ2tAbL4v8RN4a0DODTqRX6hrQJKiq7gJ1GtAjAzBjsr6a0CU27Y6WhxsQIOfyeNwOGxALug1scZObEBrRTjKE19sQBZHDVYQaWxAAn3xe3RsbEACffF7dGxsQL7sraIp7m1AvuytoinubUDQtsl8xeptQCa19PDI4G1A6lfy13vQbUA/D4YKJrptQFBLc2EPnm1AR3x9tX98bUBPEmjfvlVtQIt99rcUKm1AKC7sF8n5bEBLlAzYI8VsQCAgG9FsjGxA0EHb2+tPbECFaRDR6A9sQGIHfomrzGtAlovn3XuGa0BEZhCnoT1rQJoHvL1k8mpAvN+t+gylakDXXqk24lVqQA/1cUosBWpAkxLLDjOzaUCJJ3hcPmBpQBakPAyWDGlAaPjb9oG4aECllBn1SWRoQPfouN81EGhAhmV9j428Z0B5eirdmGlnQPyXg6GfF2dAOC5MtenGZkBSrUfxvndmQHSFOS5nKmZAySblRCrfZUB4AQ4OUJZlQKuFd2IgUGVAiSPlGuMMZUA7SxoQ4MxkQOxs2hpfkGRAwvjoE6hXZEDmXgnUAiNkQIIP/zO38mNAwHqNDA3HY0DFEHg2TKBjQL1Bgoq8fmNAz31v4aViY0AkNQMUUExjQObXAPsCPGNAO9YrbwYyY0BPoEdJoi5jQA==\"},\"shape\":[104],\"dtype\":\"float64\",\"order\":\"little\"},{\"type\":\"ndarray\",\"array\":{\"type\":\"bytes\",\"data\":\"ggBNTgiDWkB+UZU7jpxXQH5RlTuOnFdAOZqQ34WYV0BGYrLApYxXQHaOwk5DeVdAjQOJ+bNeV0Bbps0wTT1XQKhbWGRkFVdARQjxA0/nVkD3kF9/YrNWQI3aa0b0eVZA0sndyFk7VkCRQ3126PdVQJYsEr/1r1VArGlkEtdjVUCg3zvg4RNVQDxzYJhrwFRASQmaqslpVECWhrCGURBUQO3Pa5xYtFNAGsqTWzRWU0DoWfAzOvZSQCJkSZW/lFJAls1m7xkyUkALexCyns5RQFBRDk2jalFAMDUoMH0GUUB1CybLgaJQQOu4z40GP1BAu0Taz8G4T0AwWYySzPVOQM14RUPYNU5AKG2VwY95TUDW/wvtncFMQG/6OKWtDkxAjCasyWlhS0DBTfU5fbpKQKY5pNWSGkpA07NIfFWCSUDdhXINcPJIQFx5sWiNa0hA51eVbVjuR0AU6637e3tHQHn8ivKiE0dArlW8MXi3RkBMwNGYpmdGQOYFWwfZJEZAFvDnXLrvRUBwSAh59chFQI7YSzs1sUVABGpCgySpRUAEakKDJKlFQAzIsagYdktADMixqBh2S0CWNrtgKX5LQHemd57plUtAHk5Xgq68S0DuY8oszfFLQFQeQb6aNExAtbMrV2yETECDWvoXl+BMQBtJHSFwSE1A77UEk0y7TUBj1yCOgThOQOPj4TJkv05A2hG4oUlPT0CulxP7hudPQORVsq+4Q1BASsKN9y6XUEA8LFTl0O1QQO+uPQlJR1FAl2WC80GjUUBqa1o0ZgFSQJzb/VtgYVJAYdGk+trCUkDuZ4eggCVTQHi63d37iFNANOTfQvfsU0BUAMZfHVFUQA8qyMQYtVRAmXweApQYVUAmEwGoOXtVQOwIqEa03FVAHXlLbq48VkDxfiOv0ppWQJk1aJnL9lZATLhRvUNQV0A+Ihir5aZXQKOO8/Jb+ldAsBgcJVFKWECa28nRb5ZYQJbyNIli3lhA1niV29MhWUCQiSNZbmBZQPo/F5LcmVlASLeoFsnNWUCsChB33vtZQF5VhUPHI1pAkbJADC5FWkB6PXphvV9aQEwRatMfc1pAPUlI8v9+WkCCAE1OCINaQA==\"},\"shape\":[104],\"dtype\":\"float64\",\"order\":\"little\"}]],[\"source\",[\"Tun Razak Exchange (origin)\",\"KLCC (origin)\",\"Bukit Bintang (origin)\",\"Ampang Park (origin)\",\"KL Sentral (origin)\",\"Bukit Bintang (origin)\",\"Pasar Seni (origin)\",\"KLCC (origin)\",\"Maluri (origin)\",\"KL Sentral (origin)\",\"Bukit Bintang (origin)\",\"Bukit Bintang (origin)\",\"Ampang Park (origin)\",\"Tun Razak Exchange (origin)\",\"Wangsa Maju (origin)\",\"Pasar Seni (origin)\",\"KL Sentral (origin)\",\"Imbi (origin)\",\"Maluri (origin)\",\"Hang Tuah (origin)\"]],[\"target\",[\"Bukit Bintang (destination)\",\"Ampang Park (destination)\",\"Tun Razak Exchange (destination)\",\"KLCC (destination)\",\"KLCC (destination)\",\"Maluri (destination)\",\"Bukit Bintang (destination)\",\"KL Sentral (destination)\",\"Bukit Bintang (destination)\",\"Bukit Bintang (destination)\",\"Pasar Seni (destination)\",\"KL Sentral (destination)\",\"Wangsa Maju (destination)\",\"Maluri (destination)\",\"Ampang Park (destination)\",\"KL Sentral (destination)\",\"Pasar Seni (destination)\",\"Bukit Bintang (destination)\",\"Tun Razak Exchange (destination)\",\"Bukit Bintang (destination)\"]],[\"value\",{\"type\":\"ndarray\",\"array\":{\"type\":\"bytes\",\"data\":\"AAAAAEBvB0EAAAAA+AYCQQAAAAC4/gFBAAAAAJCm/kAAAAAAYJv9QAAAAADQY/tAAAAAAFAp+0AAAAAAACH7QAAAAACQ+/hAAAAAAFAO+EAAAAAAoLf3QAAAAACQ3vZAAAAAAHDt9UAAAAAAoLL1QAAAAACAn/VAAAAAAGBK9EAAAAAAMBX0QAAAAAAgAvRAAAAAAOCb80AAAAAAkN/yQA==\"},\"shape\":[20],\"dtype\":\"float64\",\"order\":\"little\"}],[\"edge_color\",{\"type\":\"ndarray\",\"array\":[\"Bukit Bintang (destination)\",\"Ampang Park (destination)\",\"Tun Razak Exchange (destination)\",\"KLCC (destination)\",\"KLCC (destination)\",\"Maluri (destination)\",\"Bukit Bintang (destination)\",\"KL Sentral (destination)\",\"Bukit Bintang (destination)\",\"Bukit Bintang (destination)\",\"Pasar Seni (destination)\",\"KL Sentral (destination)\",\"Wangsa Maju (destination)\",\"Maluri (destination)\",\"Ampang Park (destination)\",\"KL Sentral (destination)\",\"Pasar Seni (destination)\",\"Bukit Bintang (destination)\",\"Tun Razak Exchange (destination)\",\"Bukit Bintang (destination)\"],\"shape\":[20],\"dtype\":\"object\",\"order\":\"little\"}]]}}},\"view\":{\"type\":\"object\",\"name\":\"CDSView\",\"id\":\"p3376\",\"attributes\":{\"filter\":{\"type\":\"object\",\"name\":\"AllIndices\",\"id\":\"p3377\"}}},\"glyph\":{\"type\":\"object\",\"name\":\"Patches\",\"id\":\"p3395\",\"attributes\":{\"xs\":{\"type\":\"field\",\"field\":\"xs\"},\"ys\":{\"type\":\"field\",\"field\":\"ys\"},\"line_color\":{\"type\":\"field\",\"field\":\"edge_color\",\"transform\":{\"type\":\"object\",\"name\":\"CategoricalColorMapper\",\"id\":\"p3357\",\"attributes\":{\"palette\":[\"#1f77b4\",\"#aec7e8\",\"#ff7f0e\",\"#ffbb78\",\"#2ca02c\",\"#98df8a\",\"#d62728\",\"#ff9896\",\"#9467bd\",\"#c5b0d5\",\"#8c564b\",\"#c49c94\",\"#e377c2\",\"#f7b6d2\",\"#7f7f7f\",\"#c7c7c7\",\"#bcbd22\",\"#dbdb8d\"],\"factors\":[\"Tun Razak Exchange (origin)\",\"KLCC (origin)\",\"Bukit Bintang (origin)\",\"Ampang Park (origin)\",\"KL Sentral (origin)\",\"Pasar Seni (origin)\",\"Maluri (origin)\",\"Wangsa Maju (origin)\",\"Imbi (origin)\",\"Hang Tuah (origin)\",\"Bukit Bintang (destination)\",\"Ampang Park (destination)\",\"Tun Razak Exchange (destination)\",\"KLCC (destination)\",\"Maluri (destination)\",\"KL Sentral (destination)\",\"Pasar Seni (destination)\",\"Wangsa Maju (destination)\"]}}},\"fill_color\":{\"type\":\"field\",\"field\":\"edge_color\",\"transform\":{\"id\":\"p3357\"}},\"fill_alpha\":{\"type\":\"value\",\"value\":0.6}}},\"selection_glyph\":{\"type\":\"object\",\"name\":\"Patches\",\"id\":\"p3396\",\"attributes\":{\"xs\":{\"type\":\"field\",\"field\":\"xs\"},\"ys\":{\"type\":\"field\",\"field\":\"ys\"},\"line_color\":{\"type\":\"field\",\"field\":\"edge_color\",\"transform\":{\"id\":\"p3357\"}},\"fill_color\":{\"type\":\"field\",\"field\":\"edge_color\",\"transform\":{\"id\":\"p3357\"}},\"fill_alpha\":{\"type\":\"value\",\"value\":0.6}}},\"nonselection_glyph\":{\"type\":\"object\",\"name\":\"Patches\",\"id\":\"p3397\",\"attributes\":{\"xs\":{\"type\":\"field\",\"field\":\"xs\"},\"ys\":{\"type\":\"field\",\"field\":\"ys\"},\"line_color\":{\"type\":\"field\",\"field\":\"edge_color\",\"transform\":{\"id\":\"p3357\"}},\"line_alpha\":{\"type\":\"value\",\"value\":0.2},\"fill_color\":{\"type\":\"field\",\"field\":\"edge_color\",\"transform\":{\"id\":\"p3357\"}},\"fill_alpha\":{\"type\":\"value\",\"value\":0.2}}},\"hover_glyph\":{\"type\":\"object\",\"name\":\"Patches\",\"id\":\"p3398\",\"attributes\":{\"xs\":{\"type\":\"field\",\"field\":\"xs\"},\"ys\":{\"type\":\"field\",\"field\":\"ys\"},\"line_color\":{\"type\":\"field\",\"field\":\"edge_color\",\"transform\":{\"id\":\"p3357\"}},\"line_alpha\":{\"type\":\"value\",\"value\":0.9},\"fill_color\":{\"type\":\"field\",\"field\":\"edge_color\",\"transform\":{\"id\":\"p3357\"}},\"fill_alpha\":{\"type\":\"value\",\"value\":0.9}}},\"muted_glyph\":{\"type\":\"object\",\"name\":\"Patches\",\"id\":\"p3399\",\"attributes\":{\"xs\":{\"type\":\"field\",\"field\":\"xs\"},\"ys\":{\"type\":\"field\",\"field\":\"ys\"},\"line_color\":{\"type\":\"field\",\"field\":\"edge_color\",\"transform\":{\"id\":\"p3357\"}},\"fill_color\":{\"type\":\"field\",\"field\":\"edge_color\",\"transform\":{\"id\":\"p3357\"}},\"fill_alpha\":{\"type\":\"value\",\"value\":0.6}}}}},\"selection_policy\":{\"type\":\"object\",\"name\":\"NodesAndLinkedEdges\",\"id\":\"p3400\"},\"inspection_policy\":{\"type\":\"object\",\"name\":\"EdgesAndLinkedNodes\",\"id\":\"p3401\"}}},{\"type\":\"object\",\"name\":\"GlyphRenderer\",\"id\":\"p3413\",\"attributes\":{\"data_source\":{\"id\":\"p3354\"},\"view\":{\"id\":\"p3368\"},\"glyph\":{\"type\":\"object\",\"name\":\"Quad\",\"id\":\"p3408\",\"attributes\":{\"left\":{\"type\":\"field\",\"field\":\"x0\"},\"right\":{\"type\":\"field\",\"field\":\"x1\"},\"bottom\":{\"type\":\"field\",\"field\":\"y0\"},\"top\":{\"type\":\"field\",\"field\":\"y1\"},\"fill_color\":{\"type\":\"field\",\"field\":\"index\",\"transform\":{\"id\":\"p3353\"}}}},\"selection_glyph\":{\"type\":\"object\",\"name\":\"Quad\",\"id\":\"p3410\",\"attributes\":{\"left\":{\"type\":\"field\",\"field\":\"x0\"},\"right\":{\"type\":\"field\",\"field\":\"x1\"},\"bottom\":{\"type\":\"field\",\"field\":\"y0\"},\"top\":{\"type\":\"field\",\"field\":\"y1\"},\"fill_color\":{\"type\":\"field\",\"field\":\"index\",\"transform\":{\"id\":\"p3353\"}}}},\"nonselection_glyph\":{\"type\":\"object\",\"name\":\"Quad\",\"id\":\"p3409\",\"attributes\":{\"left\":{\"type\":\"field\",\"field\":\"x0\"},\"right\":{\"type\":\"field\",\"field\":\"x1\"},\"bottom\":{\"type\":\"field\",\"field\":\"y0\"},\"top\":{\"type\":\"field\",\"field\":\"y1\"},\"line_alpha\":{\"type\":\"value\",\"value\":0.2},\"fill_color\":{\"type\":\"field\",\"field\":\"index\",\"transform\":{\"id\":\"p3353\"}},\"fill_alpha\":{\"type\":\"value\",\"value\":0.2},\"hatch_alpha\":{\"type\":\"value\",\"value\":0.2}}},\"hover_glyph\":{\"type\":\"object\",\"name\":\"Quad\",\"id\":\"p3411\",\"attributes\":{\"left\":{\"type\":\"field\",\"field\":\"x0\"},\"right\":{\"type\":\"field\",\"field\":\"x1\"},\"bottom\":{\"type\":\"field\",\"field\":\"y0\"},\"top\":{\"type\":\"field\",\"field\":\"y1\"},\"fill_color\":{\"type\":\"field\",\"field\":\"index\",\"transform\":{\"id\":\"p3353\"}}}},\"muted_glyph\":{\"type\":\"object\",\"name\":\"Quad\",\"id\":\"p3412\",\"attributes\":{\"left\":{\"type\":\"field\",\"field\":\"x0\"},\"right\":{\"type\":\"field\",\"field\":\"x1\"},\"bottom\":{\"type\":\"field\",\"field\":\"y0\"},\"top\":{\"type\":\"field\",\"field\":\"y1\"},\"line_alpha\":{\"type\":\"value\",\"value\":0.2},\"fill_color\":{\"type\":\"field\",\"field\":\"index\",\"transform\":{\"id\":\"p3353\"}},\"fill_alpha\":{\"type\":\"value\",\"value\":0.2},\"hatch_alpha\":{\"type\":\"value\",\"value\":0.2}}}}},{\"type\":\"object\",\"name\":\"GlyphRenderer\",\"id\":\"p3425\",\"attributes\":{\"data_source\":{\"type\":\"object\",\"name\":\"ColumnDataSource\",\"id\":\"p3416\",\"attributes\":{\"selected\":{\"type\":\"object\",\"name\":\"Selection\",\"id\":\"p3417\",\"attributes\":{\"indices\":[],\"line_indices\":[]}},\"selection_policy\":{\"type\":\"object\",\"name\":\"UnionRenderers\",\"id\":\"p3418\"},\"data\":{\"type\":\"map\",\"entries\":[[\"x\",{\"type\":\"ndarray\",\"array\":{\"type\":\"bytes\",\"data\":\"AAAAAAAAHsAAAAAAAAAewAAAAAAAAB7AAAAAAAAAHsAAAAAAAAAewAAAAAAAAB7AAAAAAAAAHsAAAAAAAAAewAAAAAAAAB7AAAAAAAAAHsAAAAAAABSOQAAAAAAAFI5AAAAAAAAUjkAAAAAAABSOQAAAAAAAFI5AAAAAAAAUjkAAAAAAABSOQAAAAAAAFI5A\"},\"shape\":[18],\"dtype\":\"float64\",\"order\":\"little\"}],[\"y\",{\"type\":\"ndarray\",\"array\":{\"type\":\"bytes\",\"data\":\"Jc0f09oSNUA2g2QWYDVxQNbF93/XyHVAvegmT3I9fkB265CNP5B6QK4Gl5CmqmtARKLdNxN4YUCdqykLTINmQAitatH9ElFAKDYMRcsPWUCRNusoXv5JQGxaqhgytWdAkDtwaUWPbkDc3vVEQBF5QD6GZ4koG2FA1cWIi7DyckCSQgOa9FB8QOstxNwr1H5A\"},\"shape\":[18],\"dtype\":\"float64\",\"order\":\"little\"}],[\"text\",[\"Tun Razak Exchange (origin) - 280.85k\",\"KLCC (origin) - 258.8k\",\"Bukit Bintang (origin) - 450.42k\",\"Ampang Park (origin) - 215.36k\",\"KL Sentral (origin) - 302.06k\",\"Pasar Seni (origin) - 194.36k\",\"Maluri (origin) - 182.65k\",\"Wangsa Maju (origin) - 88.57k\",\"Imbi (origin) - 81.95k\",\"Hang Tuah (origin) - 77.31k\",\"Bukit Bintang (destination) - 663.35k\",\"Ampang Park (destination) - 236.25k\",\"Tun Razak Exchange (destination) - 227.73k\",\"KLCC (destination) - 246.82k\",\"Maluri (destination) - 201.06k\",\"KL Sentral (destination) - 287.9k\",\"Pasar Seni (destination) - 179.4k\",\"Wangsa Maju (destination) - 89.82k\"]]]}}},\"view\":{\"type\":\"object\",\"name\":\"CDSView\",\"id\":\"p3426\",\"attributes\":{\"filter\":{\"type\":\"object\",\"name\":\"AllIndices\",\"id\":\"p3427\"}}},\"glyph\":{\"type\":\"object\",\"name\":\"Text\",\"id\":\"p3422\",\"attributes\":{\"x\":{\"type\":\"field\",\"field\":\"x\"},\"y\":{\"type\":\"field\",\"field\":\"y\"},\"text\":{\"type\":\"field\",\"field\":\"text\"},\"text_color\":{\"type\":\"value\",\"value\":\"black\"},\"text_font_size\":{\"type\":\"value\",\"value\":\"8pt\"},\"text_align\":{\"type\":\"value\",\"value\":\"right\"},\"text_baseline\":{\"type\":\"value\",\"value\":\"middle\"}}},\"selection_glyph\":{\"type\":\"object\",\"name\":\"Text\",\"id\":\"p3428\",\"attributes\":{\"x\":{\"type\":\"field\",\"field\":\"x\"},\"y\":{\"type\":\"field\",\"field\":\"y\"},\"text\":{\"type\":\"field\",\"field\":\"text\"},\"angle\":{\"type\":\"value\",\"value\":0},\"x_offset\":{\"type\":\"value\",\"value\":0},\"y_offset\":{\"type\":\"value\",\"value\":0},\"text_color\":{\"type\":\"value\",\"value\":\"black\"},\"text_outline_color\":{\"type\":\"value\",\"value\":null},\"text_alpha\":{\"type\":\"value\",\"value\":1.0},\"text_font_size\":{\"type\":\"value\",\"value\":\"8pt\"},\"text_font_style\":{\"type\":\"value\",\"value\":\"normal\"},\"text_align\":{\"type\":\"value\",\"value\":\"right\"},\"text_baseline\":{\"type\":\"value\",\"value\":\"middle\"},\"text_line_height\":{\"type\":\"value\",\"value\":1.2},\"background_fill_color\":{\"type\":\"value\",\"value\":null},\"background_fill_alpha\":{\"type\":\"value\",\"value\":1.0},\"background_hatch_color\":{\"type\":\"value\",\"value\":null},\"background_hatch_alpha\":{\"type\":\"value\",\"value\":1.0},\"background_hatch_scale\":{\"type\":\"value\",\"value\":12.0},\"background_hatch_pattern\":{\"type\":\"value\",\"value\":null},\"background_hatch_weight\":{\"type\":\"value\",\"value\":1.0},\"border_line_color\":{\"type\":\"value\",\"value\":null},\"border_line_alpha\":{\"type\":\"value\",\"value\":1.0},\"border_line_width\":{\"type\":\"value\",\"value\":1},\"border_line_join\":{\"type\":\"value\",\"value\":\"bevel\"},\"border_line_cap\":{\"type\":\"value\",\"value\":\"butt\"},\"border_line_dash\":{\"type\":\"value\",\"value\":[]},\"border_line_dash_offset\":{\"type\":\"value\",\"value\":0}}},\"nonselection_glyph\":{\"type\":\"object\",\"name\":\"Text\",\"id\":\"p3423\",\"attributes\":{\"x\":{\"type\":\"field\",\"field\":\"x\"},\"y\":{\"type\":\"field\",\"field\":\"y\"},\"text\":{\"type\":\"field\",\"field\":\"text\"},\"text_color\":{\"type\":\"value\",\"value\":\"black\"},\"text_alpha\":{\"type\":\"value\",\"value\":0.1},\"text_font_size\":{\"type\":\"value\",\"value\":\"8pt\"},\"text_align\":{\"type\":\"value\",\"value\":\"right\"},\"text_baseline\":{\"type\":\"value\",\"value\":\"middle\"}}},\"muted_glyph\":{\"type\":\"object\",\"name\":\"Text\",\"id\":\"p3424\",\"attributes\":{\"x\":{\"type\":\"field\",\"field\":\"x\"},\"y\":{\"type\":\"field\",\"field\":\"y\"},\"text\":{\"type\":\"field\",\"field\":\"text\"},\"text_color\":{\"type\":\"value\",\"value\":\"black\"},\"text_alpha\":{\"type\":\"value\",\"value\":0.2},\"text_font_size\":{\"type\":\"value\",\"value\":\"8pt\"},\"text_align\":{\"type\":\"value\",\"value\":\"right\"},\"text_baseline\":{\"type\":\"value\",\"value\":\"middle\"}}}}}],\"toolbar\":{\"type\":\"object\",\"name\":\"Toolbar\",\"id\":\"p3330\",\"attributes\":{\"tools\":[{\"type\":\"object\",\"name\":\"WheelZoomTool\",\"id\":\"p3319\",\"attributes\":{\"tags\":[\"hv_created\"],\"renderers\":\"auto\",\"zoom_together\":\"none\"}},{\"type\":\"object\",\"name\":\"HoverTool\",\"id\":\"p3320\",\"attributes\":{\"tags\":[\"hv_created\"],\"renderers\":[{\"id\":\"p3378\"}],\"tooltips\":[[\"source\",\"@{source}\"],[\"target\",\"@{target}\"],[\"value\",\"@{value}\"]]}},{\"type\":\"object\",\"name\":\"SaveTool\",\"id\":\"p3343\"},{\"type\":\"object\",\"name\":\"PanTool\",\"id\":\"p3344\"},{\"type\":\"object\",\"name\":\"BoxZoomTool\",\"id\":\"p3345\",\"attributes\":{\"overlay\":{\"type\":\"object\",\"name\":\"BoxAnnotation\",\"id\":\"p3346\",\"attributes\":{\"syncable\":false,\"level\":\"overlay\",\"visible\":false,\"left\":{\"type\":\"number\",\"value\":\"nan\"},\"right\":{\"type\":\"number\",\"value\":\"nan\"},\"top\":{\"type\":\"number\",\"value\":\"nan\"},\"bottom\":{\"type\":\"number\",\"value\":\"nan\"},\"left_units\":\"canvas\",\"right_units\":\"canvas\",\"top_units\":\"canvas\",\"bottom_units\":\"canvas\",\"line_color\":\"black\",\"line_alpha\":1.0,\"line_width\":2,\"line_dash\":[4,4],\"fill_color\":\"lightgrey\",\"fill_alpha\":0.5}}}},{\"type\":\"object\",\"name\":\"ResetTool\",\"id\":\"p3351\"},{\"type\":\"object\",\"name\":\"TapTool\",\"id\":\"p3352\",\"attributes\":{\"renderers\":\"auto\"}}],\"active_drag\":{\"id\":\"p3344\"},\"active_scroll\":{\"id\":\"p3319\"}}},\"left\":[{\"type\":\"object\",\"name\":\"LinearAxis\",\"id\":\"p3338\",\"attributes\":{\"visible\":false,\"ticker\":{\"type\":\"object\",\"name\":\"BasicTicker\",\"id\":\"p3339\",\"attributes\":{\"mantissas\":[1,2,5]}},\"formatter\":{\"type\":\"object\",\"name\":\"BasicTickFormatter\",\"id\":\"p3340\"},\"axis_label\":\"y\",\"axis_label_text_font_size\":\"14pt\",\"major_label_policy\":{\"type\":\"object\",\"name\":\"AllLabels\",\"id\":\"p3341\"}}}],\"below\":[{\"type\":\"object\",\"name\":\"LinearAxis\",\"id\":\"p3333\",\"attributes\":{\"visible\":false,\"ticker\":{\"type\":\"object\",\"name\":\"BasicTicker\",\"id\":\"p3334\",\"attributes\":{\"mantissas\":[1,2,5]}},\"formatter\":{\"type\":\"object\",\"name\":\"BasicTickFormatter\",\"id\":\"p3335\"},\"axis_label\":\"x\",\"axis_label_text_font_size\":\"14pt\",\"major_label_policy\":{\"type\":\"object\",\"name\":\"AllLabels\",\"id\":\"p3336\"}}}],\"center\":[{\"type\":\"object\",\"name\":\"Grid\",\"id\":\"p3337\",\"attributes\":{\"axis\":{\"id\":\"p3333\"},\"grid_line_color\":null}},{\"type\":\"object\",\"name\":\"Grid\",\"id\":\"p3342\",\"attributes\":{\"dimension\":1,\"axis\":{\"id\":\"p3338\"},\"grid_line_color\":null}}],\"min_border_top\":10,\"min_border_bottom\":10,\"min_border_left\":10,\"min_border_right\":10,\"output_backend\":\"webgl\"}},{\"type\":\"object\",\"name\":\"Spacer\",\"id\":\"p3430\",\"attributes\":{\"name\":\"HSpacer10027\",\"stylesheets\":[\"\\n:host(.pn-loading.pn-arc):before, .pn-loading.pn-arc:before {\\n  background-image: url(\\\"data:image/svg+xml;base64,PHN2ZyB4bWxucz0iaHR0cDovL3d3dy53My5vcmcvMjAwMC9zdmciIHN0eWxlPSJtYXJnaW46IGF1dG87IGJhY2tncm91bmQ6IG5vbmU7IGRpc3BsYXk6IGJsb2NrOyBzaGFwZS1yZW5kZXJpbmc6IGF1dG87IiB2aWV3Qm94PSIwIDAgMTAwIDEwMCIgcHJlc2VydmVBc3BlY3RSYXRpbz0ieE1pZFlNaWQiPiAgPGNpcmNsZSBjeD0iNTAiIGN5PSI1MCIgZmlsbD0ibm9uZSIgc3Ryb2tlPSIjYzNjM2MzIiBzdHJva2Utd2lkdGg9IjEwIiByPSIzNSIgc3Ryb2tlLWRhc2hhcnJheT0iMTY0LjkzMzYxNDMxMzQ2NDE1IDU2Ljk3Nzg3MTQzNzgyMTM4Ij4gICAgPGFuaW1hdGVUcmFuc2Zvcm0gYXR0cmlidXRlTmFtZT0idHJhbnNmb3JtIiB0eXBlPSJyb3RhdGUiIHJlcGVhdENvdW50PSJpbmRlZmluaXRlIiBkdXI9IjFzIiB2YWx1ZXM9IjAgNTAgNTA7MzYwIDUwIDUwIiBrZXlUaW1lcz0iMDsxIj48L2FuaW1hdGVUcmFuc2Zvcm0+ICA8L2NpcmNsZT48L3N2Zz4=\\\");\\n  background-size: auto calc(min(50%, 400px));\\n}\",{\"id\":\"p3312\"},{\"id\":\"p3310\"},{\"id\":\"p3311\"}],\"margin\":0,\"sizing_mode\":\"stretch_width\",\"align\":\"start\"}}]}}],\"defs\":[{\"type\":\"model\",\"name\":\"ReactiveHTML1\"},{\"type\":\"model\",\"name\":\"FlexBox1\",\"properties\":[{\"name\":\"align_content\",\"kind\":\"Any\",\"default\":\"flex-start\"},{\"name\":\"align_items\",\"kind\":\"Any\",\"default\":\"flex-start\"},{\"name\":\"flex_direction\",\"kind\":\"Any\",\"default\":\"row\"},{\"name\":\"flex_wrap\",\"kind\":\"Any\",\"default\":\"wrap\"},{\"name\":\"justify_content\",\"kind\":\"Any\",\"default\":\"flex-start\"}]},{\"type\":\"model\",\"name\":\"FloatPanel1\",\"properties\":[{\"name\":\"config\",\"kind\":\"Any\",\"default\":{\"type\":\"map\"}},{\"name\":\"contained\",\"kind\":\"Any\",\"default\":true},{\"name\":\"position\",\"kind\":\"Any\",\"default\":\"right-top\"},{\"name\":\"offsetx\",\"kind\":\"Any\",\"default\":null},{\"name\":\"offsety\",\"kind\":\"Any\",\"default\":null},{\"name\":\"theme\",\"kind\":\"Any\",\"default\":\"primary\"},{\"name\":\"status\",\"kind\":\"Any\",\"default\":\"normalized\"}]},{\"type\":\"model\",\"name\":\"GridStack1\",\"properties\":[{\"name\":\"mode\",\"kind\":\"Any\",\"default\":\"warn\"},{\"name\":\"ncols\",\"kind\":\"Any\",\"default\":null},{\"name\":\"nrows\",\"kind\":\"Any\",\"default\":null},{\"name\":\"allow_resize\",\"kind\":\"Any\",\"default\":true},{\"name\":\"allow_drag\",\"kind\":\"Any\",\"default\":true},{\"name\":\"state\",\"kind\":\"Any\",\"default\":[]}]},{\"type\":\"model\",\"name\":\"drag1\",\"properties\":[{\"name\":\"slider_width\",\"kind\":\"Any\",\"default\":5},{\"name\":\"slider_color\",\"kind\":\"Any\",\"default\":\"black\"},{\"name\":\"value\",\"kind\":\"Any\",\"default\":50}]},{\"type\":\"model\",\"name\":\"click1\",\"properties\":[{\"name\":\"terminal_output\",\"kind\":\"Any\",\"default\":\"\"},{\"name\":\"debug_name\",\"kind\":\"Any\",\"default\":\"\"},{\"name\":\"clears\",\"kind\":\"Any\",\"default\":0}]},{\"type\":\"model\",\"name\":\"copy_to_clipboard1\",\"properties\":[{\"name\":\"fill\",\"kind\":\"Any\",\"default\":\"none\"},{\"name\":\"value\",\"kind\":\"Any\",\"default\":null}]},{\"type\":\"model\",\"name\":\"FastWrapper1\",\"properties\":[{\"name\":\"object\",\"kind\":\"Any\",\"default\":null},{\"name\":\"style\",\"kind\":\"Any\",\"default\":null}]},{\"type\":\"model\",\"name\":\"NotificationAreaBase1\",\"properties\":[{\"name\":\"js_events\",\"kind\":\"Any\",\"default\":{\"type\":\"map\"}},{\"name\":\"position\",\"kind\":\"Any\",\"default\":\"bottom-right\"},{\"name\":\"_clear\",\"kind\":\"Any\",\"default\":0}]},{\"type\":\"model\",\"name\":\"NotificationArea1\",\"properties\":[{\"name\":\"js_events\",\"kind\":\"Any\",\"default\":{\"type\":\"map\"}},{\"name\":\"notifications\",\"kind\":\"Any\",\"default\":[]},{\"name\":\"position\",\"kind\":\"Any\",\"default\":\"bottom-right\"},{\"name\":\"_clear\",\"kind\":\"Any\",\"default\":0},{\"name\":\"types\",\"kind\":\"Any\",\"default\":[{\"type\":\"map\",\"entries\":[[\"type\",\"warning\"],[\"background\",\"#ffc107\"],[\"icon\",{\"type\":\"map\",\"entries\":[[\"className\",\"fas fa-exclamation-triangle\"],[\"tagName\",\"i\"],[\"color\",\"white\"]]}]]},{\"type\":\"map\",\"entries\":[[\"type\",\"info\"],[\"background\",\"#007bff\"],[\"icon\",{\"type\":\"map\",\"entries\":[[\"className\",\"fas fa-info-circle\"],[\"tagName\",\"i\"],[\"color\",\"white\"]]}]]}]}]},{\"type\":\"model\",\"name\":\"Notification\",\"properties\":[{\"name\":\"background\",\"kind\":\"Any\",\"default\":null},{\"name\":\"duration\",\"kind\":\"Any\",\"default\":3000},{\"name\":\"icon\",\"kind\":\"Any\",\"default\":null},{\"name\":\"message\",\"kind\":\"Any\",\"default\":\"\"},{\"name\":\"notification_type\",\"kind\":\"Any\",\"default\":null},{\"name\":\"_destroyed\",\"kind\":\"Any\",\"default\":false}]},{\"type\":\"model\",\"name\":\"TemplateActions1\",\"properties\":[{\"name\":\"open_modal\",\"kind\":\"Any\",\"default\":0},{\"name\":\"close_modal\",\"kind\":\"Any\",\"default\":0}]},{\"type\":\"model\",\"name\":\"BootstrapTemplateActions1\",\"properties\":[{\"name\":\"open_modal\",\"kind\":\"Any\",\"default\":0},{\"name\":\"close_modal\",\"kind\":\"Any\",\"default\":0}]},{\"type\":\"model\",\"name\":\"MaterialTemplateActions1\",\"properties\":[{\"name\":\"open_modal\",\"kind\":\"Any\",\"default\":0},{\"name\":\"close_modal\",\"kind\":\"Any\",\"default\":0}]}]}};\n",
       "  var render_items = [{\"docid\":\"acfa5a2d-ff27-4cc1-824b-f22d7b234e1a\",\"roots\":{\"p3309\":\"cb545fc1-f57b-4a5f-9c4c-9d6eefd423b9\"},\"root_ids\":[\"p3309\"]}];\n",
       "  var docs = Object.values(docs_json)\n",
       "  if (!docs) {\n",
       "    return\n",
       "  }\n",
       "  const py_version = docs[0].version.replace('rc', '-rc.').replace('.dev', '-dev.')\n",
       "  function embed_document(root) {\n",
       "    var Bokeh = get_bokeh(root)\n",
       "    Bokeh.embed.embed_items_notebook(docs_json, render_items);\n",
       "    for (const render_item of render_items) {\n",
       "      for (const root_id of render_item.root_ids) {\n",
       "\tconst id_el = document.getElementById(root_id)\n",
       "\tif (id_el.children.length && (id_el.children[0].className === 'bk-root')) {\n",
       "\t  const root_el = id_el.children[0]\n",
       "\t  root_el.id = root_el.id + '-rendered'\n",
       "\t}\n",
       "      }\n",
       "    }\n",
       "  }\n",
       "  function get_bokeh(root) {\n",
       "    if (root.Bokeh === undefined) {\n",
       "      return null\n",
       "    } else if (root.Bokeh.version !== py_version) {\n",
       "      if (root.Bokeh.versions === undefined || !root.Bokeh.versions.has(py_version)) {\n",
       "\treturn null\n",
       "      }\n",
       "      return root.Bokeh.versions.get(py_version);\n",
       "    } else if (root.Bokeh.version === py_version) {\n",
       "      return root.Bokeh\n",
       "    }\n",
       "    return null\n",
       "  }\n",
       "  function is_loaded(root) {\n",
       "    var Bokeh = get_bokeh(root)\n",
       "    return (Bokeh != null && Bokeh.Panel !== undefined)\n",
       "  }\n",
       "  if (is_loaded(root)) {\n",
       "    embed_document(root);\n",
       "  } else {\n",
       "    var attempts = 0;\n",
       "    var timer = setInterval(function(root) {\n",
       "      if (is_loaded(root)) {\n",
       "        clearInterval(timer);\n",
       "        embed_document(root);\n",
       "      } else if (document.readyState == \"complete\") {\n",
       "        attempts++;\n",
       "        if (attempts > 200) {\n",
       "          clearInterval(timer);\n",
       "\t  var Bokeh = get_bokeh(root)\n",
       "\t  if (Bokeh == null || Bokeh.Panel == null) {\n",
       "            console.warn(\"Panel: ERROR: Unable to run Panel code because Bokeh or Panel library is missing\");\n",
       "\t  } else {\n",
       "\t    console.warn(\"Panel: WARNING: Attempting to render but not all required libraries could be resolved.\")\n",
       "\t    embed_document(root)\n",
       "\t  }\n",
       "        }\n",
       "      }\n",
       "    }, 25, root)\n",
       "  }\n",
       "})(window);</script>"
      ],
      "text/plain": [
       ":Sankey   [source,target]   (value)"
      ]
     },
     "execution_count": 98,
     "metadata": {
      "application/vnd.holoviews_exec.v0+json": {
       "id": "p3309"
      }
     },
     "output_type": "execute_result"
    }
   ],
   "source": [
    "def fmt(tick):\n",
    "    if tick < 1e3:\n",
    "        unit = ''\n",
    "        num =  round(tick,2)\n",
    "    elif tick < 1e6:\n",
    "        unit = 'k'\n",
    "        num =  round(tick/1e3,2)\n",
    "    else:\n",
    "        unit = 'm'\n",
    "        num =  round(tick/1e6,2)\n",
    "    return f'{num}{unit}'\n",
    "\n",
    "\n",
    "\n",
    "edges = df_sankey_top10\n",
    "edges.columns = ['source', 'target', 'value']\n",
    "sankey = hv.Sankey(data=edges, kdims=['source', 'target'], \n",
    "                   vdims=[hv.Dimension(\"value\", value_format=fmt)], \n",
    "                   label='Rail Diagram')\n",
    "\n",
    "# Options: https://holoviews.org/reference_manual/holoviews.plotting.bokeh.html\n",
    "sankey.opts(label_position='left', edge_color='target', node_color='index', cmap='tab20', width = 1200, height= 1000, node_width = 30, fontsize= 14)\n",
    "# sankey.opts(fontsize={'title': 35, 'label_text_font_size': 35})"
   ]
  },
  {
   "cell_type": "code",
   "execution_count": 99,
   "metadata": {},
   "outputs": [],
   "source": [
    "hv.renderer('bokeh').save(sankey, 'rrr', fmt='html')\n",
    "# kena save as html dulu, open in browser then download the pic\n",
    "\n",
    "# ['html', 'auto', 'png', 'widgets', 'scrubber', 'gif', 'auto', None]"
   ]
  }
 ],
 "metadata": {
  "kernelspec": {
   "display_name": "python311env",
   "language": "python",
   "name": "python3"
  },
  "language_info": {
   "codemirror_mode": {
    "name": "ipython",
    "version": 3
   },
   "file_extension": ".py",
   "mimetype": "text/x-python",
   "name": "python",
   "nbconvert_exporter": "python",
   "pygments_lexer": "ipython3",
   "version": "3.11.4"
  }
 },
 "nbformat": 4,
 "nbformat_minor": 2
}
